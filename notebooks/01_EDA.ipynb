{
 "cells": [
  {
   "cell_type": "markdown",
   "id": "9313aae6-bd7f-47a3-b696-9fd151f61fc9",
   "metadata": {},
   "source": [
    "# Course Recommender: Exploratory Data Analysis"
   ]
  },
  {
   "cell_type": "markdown",
   "id": "e4bbad7e-6c0f-44c9-be71-17bc1e4621a0",
   "metadata": {},
   "source": [
    "This project implements and deploys an AI course Recommender System using [Streamlit](https://streamlit.io/). It was inspired by the the [IBM Machine Learning Professional Certificate](https://www.coursera.org/professional-certificates/ibm-machine-learning) offered by IBM & Coursera. In the last course/module of the Specialization, Machine Learning Capstone, a similar application is built; check my [class notes](https://github.com/mxagar/machine_learning_ibm/tree/main/06_Capstone_Project) for more information.\n",
    "\n",
    "This notebook performs an **Exploratory Data Analysis (EDA)** of the dataset. You can open it in Google Colab:\n",
    "\n",
    "[![Open In Colab](https://colab.research.google.com/assets/colab-badge.svg)](https://colab.research.google.com/github/mxagar/course_recommender_streamlit/blob/main/notebooks/01_EDA.ipynb)\n",
    "\n",
    "Table of contents:\n"
   ]
  },
  {
   "cell_type": "code",
   "execution_count": null,
   "id": "36056d4b-2467-4239-a943-7ad491ee7795",
   "metadata": {},
   "outputs": [],
   "source": []
  }
 ],
 "metadata": {
  "kernelspec": {
   "display_name": "Python 3 (ipykernel)",
   "language": "python",
   "name": "python3"
  },
  "language_info": {
   "codemirror_mode": {
    "name": "ipython",
    "version": 3
   },
   "file_extension": ".py",
   "mimetype": "text/x-python",
   "name": "python",
   "nbconvert_exporter": "python",
   "pygments_lexer": "ipython3",
   "version": "3.7.13"
  }
 },
 "nbformat": 4,
 "nbformat_minor": 5
}
