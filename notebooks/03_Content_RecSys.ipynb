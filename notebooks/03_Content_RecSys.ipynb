{
 "cells": [
  {
   "cell_type": "markdown",
   "id": "bb8729ec-5c9e-468d-8ed8-515adf87d4e7",
   "metadata": {},
   "source": [
    "# Course Recommender: Content-Based Methods"
   ]
  },
  {
   "cell_type": "markdown",
   "id": "0249f19f-2204-40e3-9fbf-90f3dd569b28",
   "metadata": {},
   "source": [
    "This project implements and deploys an AI course Recommender System using [Streamlit](https://streamlit.io/). It was inspired by the the [IBM Machine Learning Professional Certificate](https://www.coursera.org/professional-certificates/ibm-machine-learning) offered by IBM & Coursera. In the last course/module of the Specialization, Machine Learning Capstone, a similar application is built; check my [class notes](https://github.com/mxagar/machine_learning_ibm/tree/main/06_Capstone_Project/06_Capstone_Recommender_System.md) for more information.\n",
    "\n",
    "This notebook researches and implements different **Content-Based** recommender systems. You can open it in Google Colab:\n",
    "\n",
    "[![Open In Colab](https://colab.research.google.com/assets/colab-badge.svg)](https://colab.research.google.com/github/mxagar/course_recommender_streamlit/blob/main/notebooks/03_Content_RecSys.ipynb)\n",
    "\n",
    "In this notebook, the following content-based recommender systems are built:\n",
    "\n",
    "1. Recommendations based on user profiles:\n",
    "    - We consider that the course-genre weights are known.\n",
    "    - We have a user profile, i.e., a matrix which contains the weight each user gives to a genre/feature. These weights are not normalized.\n",
    "    - The rating of a user to a new item can be estimated by multiplying (dot product) the user profile vectors with the feature vector of the item. Since there is no normalization, we call that estimation score.\n",
    "2. Recommendations based on course similarities:\n",
    "    - We have computed course similarities (matrix) using the BoWs of course descriptions in the FE notebook.\n",
    "    - For each test user with the list of courses he/she took, we get the list of unattended courses with a similarity larger than a threshold value.\n",
    "3. Recommendations based on user profile clustering:\n",
    "    - User profiles are reduced to less dimensions with PCA.\n",
    "    - User profiles are clustered with K-Means applying the elbow method for k value discovery\n",
    "    - For each user in a cluster, his un-attended courses are found.\n",
    "    - For each user cluster, the most attended courses are listed.\n",
    "    - For each user, the most attended courses in theirs cluster are recommended, if these were not visited by them yet.\n",
    "\n",
    "Table of contents:\n",
    "\n",
    "- [Part 1](#Part-1): User Profile Applied to Course Features\n",
    "    - [1. Load and Understand New Datasets](#1.-Load-and-Understand-New-Datasets)\n",
    "    - [2. Get Recommendations for One User](#2.-Get-Recommendations-for-One-User)\n",
    "    - [3. Compute Expected Scores](#3.-Compute-Expected-Scores)\n",
    "- [Part 2](#Part-2): Course Similarities\n",
    "    - [1. Get Indexing Objects for Similarities and Courses](#1.-Get-Indexing-Objects-for-Similarities-and-Courses)\n",
    "    - [2. Compute Recommended Courses Based on Course Similarities](#2.-Compute-Recommended-Courses-Based-on-Course-Similarities)\n",
    "- [Part 3](#Part-3): Clustering User Profiles\n",
    "    - [1. PCA Dimensionality Reduction](#1.-PCA-Dimensionality-Reduction-of-User-Profiles)\n",
    "    - [2. K-Means Clustering of User Profiles](#2.-K-Means-Clustering-of-User-Profiles)\n",
    "    - [3. Generate Course Recommendations Based on the Popular Courses in the Same Cluster](#3.-Generate-Course-Recommendations-Based-on-the-Popular-Courses-in-the-Same-Cluster)\n",
    "    \n"
   ]
  },
  {
   "cell_type": "code",
   "execution_count": null,
   "id": "5fb3e503-0640-4668-8b39-2b544e5a7ead",
   "metadata": {},
   "outputs": [],
   "source": []
  },
  {
   "cell_type": "code",
   "execution_count": 52,
   "id": "ca5f32db-7139-4340-8bbf-f18a4761288e",
   "metadata": {},
   "outputs": [],
   "source": [
    "import pandas as pd\n",
    "import numpy as np\n",
    "import seaborn as sns\n",
    "import matplotlib.pyplot as plt\n",
    "from sklearn import preprocessing"
   ]
  },
  {
   "cell_type": "code",
   "execution_count": 53,
   "id": "310defca-b3eb-4573-b89f-77ee26ec6a8d",
   "metadata": {},
   "outputs": [],
   "source": [
    "# Set a random state\n",
    "rs = 123"
   ]
  },
  {
   "cell_type": "markdown",
   "id": "5e933c61-6dbc-4142-ae99-82f1d3ca1c88",
   "metadata": {},
   "source": [
    "# Part 1"
   ]
  },
  {
   "cell_type": "markdown",
   "id": "25359330-b2c0-45b2-a575-6680da7a1b4f",
   "metadata": {},
   "source": [
    "User Profile Applied to Course Features."
   ]
  },
  {
   "cell_type": "markdown",
   "id": "b4c2165d-f6be-4394-becd-ee2a2459257c",
   "metadata": {},
   "source": [
    "# 1. Load and Understand New Datasets"
   ]
  },
  {
   "cell_type": "code",
   "execution_count": 119,
   "id": "c4580636-fcbd-4df0-ac34-db205adac640",
   "metadata": {},
   "outputs": [],
   "source": [
    "test_users_df = pd.read_csv('../data/rs_content_test.csv')\n",
    "profile_df = pd.read_csv('../data/user_profile.csv')\n",
    "course_genres_df = pd.read_csv('../data/course_genre.csv')"
   ]
  },
  {
   "cell_type": "code",
   "execution_count": 120,
   "id": "ff97630f-0df5-47ca-b864-b48d265fc0b3",
   "metadata": {},
   "outputs": [
    {
     "data": {
      "text/html": [
       "<div>\n",
       "<style scoped>\n",
       "    .dataframe tbody tr th:only-of-type {\n",
       "        vertical-align: middle;\n",
       "    }\n",
       "\n",
       "    .dataframe tbody tr th {\n",
       "        vertical-align: top;\n",
       "    }\n",
       "\n",
       "    .dataframe thead th {\n",
       "        text-align: right;\n",
       "    }\n",
       "</style>\n",
       "<table border=\"1\" class=\"dataframe\">\n",
       "  <thead>\n",
       "    <tr style=\"text-align: right;\">\n",
       "      <th></th>\n",
       "      <th>COURSE_ID</th>\n",
       "      <th>TITLE</th>\n",
       "      <th>Database</th>\n",
       "      <th>Python</th>\n",
       "      <th>CloudComputing</th>\n",
       "      <th>DataAnalysis</th>\n",
       "      <th>Containers</th>\n",
       "      <th>MachineLearning</th>\n",
       "      <th>ComputerVision</th>\n",
       "      <th>DataScience</th>\n",
       "      <th>BigData</th>\n",
       "      <th>Chatbot</th>\n",
       "      <th>R</th>\n",
       "      <th>BackendDev</th>\n",
       "      <th>FrontendDev</th>\n",
       "      <th>Blockchain</th>\n",
       "    </tr>\n",
       "  </thead>\n",
       "  <tbody>\n",
       "    <tr>\n",
       "      <th>0</th>\n",
       "      <td>ML0201EN</td>\n",
       "      <td>robots are coming  build iot apps with watson ...</td>\n",
       "      <td>0</td>\n",
       "      <td>0</td>\n",
       "      <td>0</td>\n",
       "      <td>0</td>\n",
       "      <td>0</td>\n",
       "      <td>0</td>\n",
       "      <td>0</td>\n",
       "      <td>0</td>\n",
       "      <td>0</td>\n",
       "      <td>0</td>\n",
       "      <td>0</td>\n",
       "      <td>1</td>\n",
       "      <td>1</td>\n",
       "      <td>0</td>\n",
       "    </tr>\n",
       "    <tr>\n",
       "      <th>1</th>\n",
       "      <td>ML0122EN</td>\n",
       "      <td>accelerating deep learning with gpu</td>\n",
       "      <td>0</td>\n",
       "      <td>1</td>\n",
       "      <td>0</td>\n",
       "      <td>0</td>\n",
       "      <td>0</td>\n",
       "      <td>1</td>\n",
       "      <td>0</td>\n",
       "      <td>1</td>\n",
       "      <td>0</td>\n",
       "      <td>0</td>\n",
       "      <td>0</td>\n",
       "      <td>0</td>\n",
       "      <td>0</td>\n",
       "      <td>0</td>\n",
       "    </tr>\n",
       "    <tr>\n",
       "      <th>2</th>\n",
       "      <td>GPXX0ZG0EN</td>\n",
       "      <td>consuming restful services using the reactive ...</td>\n",
       "      <td>0</td>\n",
       "      <td>0</td>\n",
       "      <td>0</td>\n",
       "      <td>0</td>\n",
       "      <td>0</td>\n",
       "      <td>0</td>\n",
       "      <td>0</td>\n",
       "      <td>0</td>\n",
       "      <td>0</td>\n",
       "      <td>0</td>\n",
       "      <td>0</td>\n",
       "      <td>1</td>\n",
       "      <td>1</td>\n",
       "      <td>0</td>\n",
       "    </tr>\n",
       "    <tr>\n",
       "      <th>3</th>\n",
       "      <td>RP0105EN</td>\n",
       "      <td>analyzing big data in r using apache spark</td>\n",
       "      <td>1</td>\n",
       "      <td>0</td>\n",
       "      <td>0</td>\n",
       "      <td>1</td>\n",
       "      <td>0</td>\n",
       "      <td>0</td>\n",
       "      <td>0</td>\n",
       "      <td>0</td>\n",
       "      <td>1</td>\n",
       "      <td>0</td>\n",
       "      <td>1</td>\n",
       "      <td>0</td>\n",
       "      <td>0</td>\n",
       "      <td>0</td>\n",
       "    </tr>\n",
       "    <tr>\n",
       "      <th>4</th>\n",
       "      <td>GPXX0Z2PEN</td>\n",
       "      <td>containerizing  packaging  and running a sprin...</td>\n",
       "      <td>0</td>\n",
       "      <td>0</td>\n",
       "      <td>0</td>\n",
       "      <td>0</td>\n",
       "      <td>1</td>\n",
       "      <td>0</td>\n",
       "      <td>0</td>\n",
       "      <td>0</td>\n",
       "      <td>0</td>\n",
       "      <td>0</td>\n",
       "      <td>0</td>\n",
       "      <td>1</td>\n",
       "      <td>0</td>\n",
       "      <td>0</td>\n",
       "    </tr>\n",
       "  </tbody>\n",
       "</table>\n",
       "</div>"
      ],
      "text/plain": [
       "    COURSE_ID                                              TITLE  Database  \\\n",
       "0    ML0201EN  robots are coming  build iot apps with watson ...         0   \n",
       "1    ML0122EN                accelerating deep learning with gpu         0   \n",
       "2  GPXX0ZG0EN  consuming restful services using the reactive ...         0   \n",
       "3    RP0105EN         analyzing big data in r using apache spark         1   \n",
       "4  GPXX0Z2PEN  containerizing  packaging  and running a sprin...         0   \n",
       "\n",
       "   Python  CloudComputing  DataAnalysis  Containers  MachineLearning  \\\n",
       "0       0               0             0           0                0   \n",
       "1       1               0             0           0                1   \n",
       "2       0               0             0           0                0   \n",
       "3       0               0             1           0                0   \n",
       "4       0               0             0           1                0   \n",
       "\n",
       "   ComputerVision  DataScience  BigData  Chatbot  R  BackendDev  FrontendDev  \\\n",
       "0               0            0        0        0  0           1            1   \n",
       "1               0            1        0        0  0           0            0   \n",
       "2               0            0        0        0  0           1            1   \n",
       "3               0            0        1        0  1           0            0   \n",
       "4               0            0        0        0  0           1            0   \n",
       "\n",
       "   Blockchain  \n",
       "0           0  \n",
       "1           0  \n",
       "2           0  \n",
       "3           0  \n",
       "4           0  "
      ]
     },
     "execution_count": 120,
     "metadata": {},
     "output_type": "execute_result"
    }
   ],
   "source": [
    "# Course vs Genre: (307, 16)\n",
    "course_genres_df.head()"
   ]
  },
  {
   "cell_type": "code",
   "execution_count": 121,
   "id": "f8d10886-888a-4b63-9219-9d9fd4e7b09b",
   "metadata": {},
   "outputs": [
    {
     "data": {
      "text/plain": [
       "(307, 16)"
      ]
     },
     "execution_count": 121,
     "metadata": {},
     "output_type": "execute_result"
    }
   ],
   "source": [
    "course_genres_df.shape"
   ]
  },
  {
   "cell_type": "code",
   "execution_count": 122,
   "id": "17bd389a-b2f0-4fba-b5a7-348a6f2d0df0",
   "metadata": {},
   "outputs": [
    {
     "data": {
      "text/html": [
       "<div>\n",
       "<style scoped>\n",
       "    .dataframe tbody tr th:only-of-type {\n",
       "        vertical-align: middle;\n",
       "    }\n",
       "\n",
       "    .dataframe tbody tr th {\n",
       "        vertical-align: top;\n",
       "    }\n",
       "\n",
       "    .dataframe thead th {\n",
       "        text-align: right;\n",
       "    }\n",
       "</style>\n",
       "<table border=\"1\" class=\"dataframe\">\n",
       "  <thead>\n",
       "    <tr style=\"text-align: right;\">\n",
       "      <th></th>\n",
       "      <th>user</th>\n",
       "      <th>Database</th>\n",
       "      <th>Python</th>\n",
       "      <th>CloudComputing</th>\n",
       "      <th>DataAnalysis</th>\n",
       "      <th>Containers</th>\n",
       "      <th>MachineLearning</th>\n",
       "      <th>ComputerVision</th>\n",
       "      <th>DataScience</th>\n",
       "      <th>BigData</th>\n",
       "      <th>Chatbot</th>\n",
       "      <th>R</th>\n",
       "      <th>BackendDev</th>\n",
       "      <th>FrontendDev</th>\n",
       "      <th>Blockchain</th>\n",
       "    </tr>\n",
       "  </thead>\n",
       "  <tbody>\n",
       "    <tr>\n",
       "      <th>0</th>\n",
       "      <td>2</td>\n",
       "      <td>52.0</td>\n",
       "      <td>14.0</td>\n",
       "      <td>6.0</td>\n",
       "      <td>43.0</td>\n",
       "      <td>3.0</td>\n",
       "      <td>33.0</td>\n",
       "      <td>0.0</td>\n",
       "      <td>29.0</td>\n",
       "      <td>41.0</td>\n",
       "      <td>2.0</td>\n",
       "      <td>18.0</td>\n",
       "      <td>34.0</td>\n",
       "      <td>9.0</td>\n",
       "      <td>6.0</td>\n",
       "    </tr>\n",
       "    <tr>\n",
       "      <th>1</th>\n",
       "      <td>4</td>\n",
       "      <td>40.0</td>\n",
       "      <td>2.0</td>\n",
       "      <td>4.0</td>\n",
       "      <td>28.0</td>\n",
       "      <td>0.0</td>\n",
       "      <td>14.0</td>\n",
       "      <td>0.0</td>\n",
       "      <td>20.0</td>\n",
       "      <td>24.0</td>\n",
       "      <td>0.0</td>\n",
       "      <td>6.0</td>\n",
       "      <td>6.0</td>\n",
       "      <td>0.0</td>\n",
       "      <td>2.0</td>\n",
       "    </tr>\n",
       "    <tr>\n",
       "      <th>2</th>\n",
       "      <td>5</td>\n",
       "      <td>24.0</td>\n",
       "      <td>8.0</td>\n",
       "      <td>18.0</td>\n",
       "      <td>24.0</td>\n",
       "      <td>0.0</td>\n",
       "      <td>30.0</td>\n",
       "      <td>0.0</td>\n",
       "      <td>22.0</td>\n",
       "      <td>14.0</td>\n",
       "      <td>2.0</td>\n",
       "      <td>14.0</td>\n",
       "      <td>26.0</td>\n",
       "      <td>4.0</td>\n",
       "      <td>6.0</td>\n",
       "    </tr>\n",
       "    <tr>\n",
       "      <th>3</th>\n",
       "      <td>7</td>\n",
       "      <td>2.0</td>\n",
       "      <td>0.0</td>\n",
       "      <td>0.0</td>\n",
       "      <td>2.0</td>\n",
       "      <td>0.0</td>\n",
       "      <td>0.0</td>\n",
       "      <td>0.0</td>\n",
       "      <td>0.0</td>\n",
       "      <td>2.0</td>\n",
       "      <td>0.0</td>\n",
       "      <td>0.0</td>\n",
       "      <td>0.0</td>\n",
       "      <td>0.0</td>\n",
       "      <td>0.0</td>\n",
       "    </tr>\n",
       "    <tr>\n",
       "      <th>4</th>\n",
       "      <td>8</td>\n",
       "      <td>6.0</td>\n",
       "      <td>0.0</td>\n",
       "      <td>0.0</td>\n",
       "      <td>4.0</td>\n",
       "      <td>0.0</td>\n",
       "      <td>0.0</td>\n",
       "      <td>0.0</td>\n",
       "      <td>0.0</td>\n",
       "      <td>6.0</td>\n",
       "      <td>0.0</td>\n",
       "      <td>2.0</td>\n",
       "      <td>0.0</td>\n",
       "      <td>0.0</td>\n",
       "      <td>0.0</td>\n",
       "    </tr>\n",
       "  </tbody>\n",
       "</table>\n",
       "</div>"
      ],
      "text/plain": [
       "   user  Database  Python  CloudComputing  DataAnalysis  Containers  \\\n",
       "0     2      52.0    14.0             6.0          43.0         3.0   \n",
       "1     4      40.0     2.0             4.0          28.0         0.0   \n",
       "2     5      24.0     8.0            18.0          24.0         0.0   \n",
       "3     7       2.0     0.0             0.0           2.0         0.0   \n",
       "4     8       6.0     0.0             0.0           4.0         0.0   \n",
       "\n",
       "   MachineLearning  ComputerVision  DataScience  BigData  Chatbot     R  \\\n",
       "0             33.0             0.0         29.0     41.0      2.0  18.0   \n",
       "1             14.0             0.0         20.0     24.0      0.0   6.0   \n",
       "2             30.0             0.0         22.0     14.0      2.0  14.0   \n",
       "3              0.0             0.0          0.0      2.0      0.0   0.0   \n",
       "4              0.0             0.0          0.0      6.0      0.0   2.0   \n",
       "\n",
       "   BackendDev  FrontendDev  Blockchain  \n",
       "0        34.0          9.0         6.0  \n",
       "1         6.0          0.0         2.0  \n",
       "2        26.0          4.0         6.0  \n",
       "3         0.0          0.0         0.0  \n",
       "4         0.0          0.0         0.0  "
      ]
     },
     "execution_count": 122,
     "metadata": {},
     "output_type": "execute_result"
    }
   ],
   "source": [
    "# User vs Genre/Topic weight/preference: (33901, 15)\n",
    "profile_df.head()"
   ]
  },
  {
   "cell_type": "code",
   "execution_count": 123,
   "id": "19b06688-804a-44ea-ae24-d3ff94964614",
   "metadata": {},
   "outputs": [
    {
     "data": {
      "text/plain": [
       "(33901, 15)"
      ]
     },
     "execution_count": 123,
     "metadata": {},
     "output_type": "execute_result"
    }
   ],
   "source": [
    "profile_df.shape"
   ]
  },
  {
   "cell_type": "code",
   "execution_count": 124,
   "id": "1762e8d7-7dde-4a87-bcc8-5c1939cbc342",
   "metadata": {},
   "outputs": [
    {
     "data": {
      "text/html": [
       "<div>\n",
       "<style scoped>\n",
       "    .dataframe tbody tr th:only-of-type {\n",
       "        vertical-align: middle;\n",
       "    }\n",
       "\n",
       "    .dataframe tbody tr th {\n",
       "        vertical-align: top;\n",
       "    }\n",
       "\n",
       "    .dataframe thead th {\n",
       "        text-align: right;\n",
       "    }\n",
       "</style>\n",
       "<table border=\"1\" class=\"dataframe\">\n",
       "  <thead>\n",
       "    <tr style=\"text-align: right;\">\n",
       "      <th></th>\n",
       "      <th>user</th>\n",
       "      <th>item</th>\n",
       "      <th>rating</th>\n",
       "    </tr>\n",
       "  </thead>\n",
       "  <tbody>\n",
       "    <tr>\n",
       "      <th>0</th>\n",
       "      <td>1502801</td>\n",
       "      <td>RP0105EN</td>\n",
       "      <td>3.0</td>\n",
       "    </tr>\n",
       "    <tr>\n",
       "      <th>1</th>\n",
       "      <td>1609720</td>\n",
       "      <td>CNSC02EN</td>\n",
       "      <td>2.0</td>\n",
       "    </tr>\n",
       "    <tr>\n",
       "      <th>2</th>\n",
       "      <td>1347188</td>\n",
       "      <td>CO0301EN</td>\n",
       "      <td>3.0</td>\n",
       "    </tr>\n",
       "    <tr>\n",
       "      <th>3</th>\n",
       "      <td>755067</td>\n",
       "      <td>ML0103EN</td>\n",
       "      <td>3.0</td>\n",
       "    </tr>\n",
       "    <tr>\n",
       "      <th>4</th>\n",
       "      <td>538595</td>\n",
       "      <td>BD0115EN</td>\n",
       "      <td>3.0</td>\n",
       "    </tr>\n",
       "  </tbody>\n",
       "</table>\n",
       "</div>"
      ],
      "text/plain": [
       "      user      item  rating\n",
       "0  1502801  RP0105EN     3.0\n",
       "1  1609720  CNSC02EN     2.0\n",
       "2  1347188  CO0301EN     3.0\n",
       "3   755067  ML0103EN     3.0\n",
       "4   538595  BD0115EN     3.0"
      ]
     },
     "execution_count": 124,
     "metadata": {},
     "output_type": "execute_result"
    }
   ],
   "source": [
    "# User - course - rating: (9402, 3)\n",
    "test_users_df.head()"
   ]
  },
  {
   "cell_type": "code",
   "execution_count": 125,
   "id": "9731e840-8aef-4901-a645-deea16b9fd13",
   "metadata": {},
   "outputs": [
    {
     "data": {
      "text/plain": [
       "(9402, 3)"
      ]
     },
     "execution_count": 125,
     "metadata": {},
     "output_type": "execute_result"
    }
   ],
   "source": [
    "test_users_df.shape"
   ]
  },
  {
   "cell_type": "code",
   "execution_count": 126,
   "id": "76efe467-c3de-4c3b-8da5-14100bf1ff5b",
   "metadata": {},
   "outputs": [
    {
     "data": {
      "text/plain": [
       "1000"
      ]
     },
     "execution_count": 126,
     "metadata": {},
     "output_type": "execute_result"
    }
   ],
   "source": [
    "# There are 1000 unique users in test_users_df\n",
    "len(test_users_df['user'].unique())"
   ]
  },
  {
   "cell_type": "markdown",
   "id": "0860e82c-69fb-476c-827f-76aac1d70c64",
   "metadata": {},
   "source": [
    "# 2. Get Recommendations for One User"
   ]
  },
  {
   "cell_type": "code",
   "execution_count": 127,
   "id": "29f56f1d-3995-4ed1-b903-66212d4fbab4",
   "metadata": {},
   "outputs": [],
   "source": [
    "test_users = test_users_df.groupby(['user']).max().reset_index(drop=False)\n",
    "test_user_ids = test_users['user'].to_list()"
   ]
  },
  {
   "cell_type": "code",
   "execution_count": 128,
   "id": "f4d14410-b39d-40c4-9f11-dd35a7ec8d7e",
   "metadata": {},
   "outputs": [
    {
     "data": {
      "text/plain": [
       "[37465, 50348, 52091, 70434, 85625]"
      ]
     },
     "execution_count": 128,
     "metadata": {},
     "output_type": "execute_result"
    }
   ],
   "source": [
    "test_user_ids[:5]"
   ]
  },
  {
   "cell_type": "code",
   "execution_count": 129,
   "id": "5a83e879-7ecb-420c-9ce5-b050c2b11e36",
   "metadata": {},
   "outputs": [
    {
     "data": {
      "text/html": [
       "<div>\n",
       "<style scoped>\n",
       "    .dataframe tbody tr th:only-of-type {\n",
       "        vertical-align: middle;\n",
       "    }\n",
       "\n",
       "    .dataframe tbody tr th {\n",
       "        vertical-align: top;\n",
       "    }\n",
       "\n",
       "    .dataframe thead th {\n",
       "        text-align: right;\n",
       "    }\n",
       "</style>\n",
       "<table border=\"1\" class=\"dataframe\">\n",
       "  <thead>\n",
       "    <tr style=\"text-align: right;\">\n",
       "      <th></th>\n",
       "      <th>user</th>\n",
       "      <th>Database</th>\n",
       "      <th>Python</th>\n",
       "      <th>CloudComputing</th>\n",
       "      <th>DataAnalysis</th>\n",
       "      <th>Containers</th>\n",
       "      <th>MachineLearning</th>\n",
       "      <th>ComputerVision</th>\n",
       "      <th>DataScience</th>\n",
       "      <th>BigData</th>\n",
       "      <th>Chatbot</th>\n",
       "      <th>R</th>\n",
       "      <th>BackendDev</th>\n",
       "      <th>FrontendDev</th>\n",
       "      <th>Blockchain</th>\n",
       "    </tr>\n",
       "  </thead>\n",
       "  <tbody>\n",
       "    <tr>\n",
       "      <th>210</th>\n",
       "      <td>37465</td>\n",
       "      <td>12.0</td>\n",
       "      <td>0.0</td>\n",
       "      <td>3.0</td>\n",
       "      <td>3.0</td>\n",
       "      <td>0.0</td>\n",
       "      <td>0.0</td>\n",
       "      <td>0.0</td>\n",
       "      <td>6.0</td>\n",
       "      <td>12.0</td>\n",
       "      <td>0.0</td>\n",
       "      <td>0.0</td>\n",
       "      <td>3.0</td>\n",
       "      <td>0.0</td>\n",
       "      <td>0.0</td>\n",
       "    </tr>\n",
       "  </tbody>\n",
       "</table>\n",
       "</div>"
      ],
      "text/plain": [
       "      user  Database  Python  CloudComputing  DataAnalysis  Containers  \\\n",
       "210  37465      12.0     0.0             3.0           3.0         0.0   \n",
       "\n",
       "     MachineLearning  ComputerVision  DataScience  BigData  Chatbot    R  \\\n",
       "210              0.0             0.0          6.0     12.0      0.0  0.0   \n",
       "\n",
       "     BackendDev  FrontendDev  Blockchain  \n",
       "210         3.0          0.0         0.0  "
      ]
     },
     "execution_count": 129,
     "metadata": {},
     "output_type": "execute_result"
    }
   ],
   "source": [
    "test_user_profile = profile_df[profile_df['user'] == test_user_ids[0]] # user 37465\n",
    "test_user_profile"
   ]
  },
  {
   "cell_type": "code",
   "execution_count": 130,
   "id": "7c4ad0d9-8016-41be-a15c-75b9888e236d",
   "metadata": {},
   "outputs": [
    {
     "data": {
      "text/plain": [
       "array([12.,  0.,  3.,  3.,  0.,  0.,  0.,  6., 12.,  0.,  0.,  3.,  0.,\n",
       "        0.])"
      ]
     },
     "execution_count": 130,
     "metadata": {},
     "output_type": "execute_result"
    }
   ],
   "source": [
    "# Vector of user profile: (14,)\n",
    "test_user_vector = test_user_profile.iloc[0, 1:].values\n",
    "test_user_vector # (14,)"
   ]
  },
  {
   "cell_type": "code",
   "execution_count": 131,
   "id": "e4b39bc2-1167-4411-99e7-db0f3c063213",
   "metadata": {},
   "outputs": [],
   "source": [
    "enrolled_courses = test_users_df[test_users_df['user'] == test_user_ids[0]]['item'].to_list()\n",
    "enrolled_courses = set(enrolled_courses) # 7 courses"
   ]
  },
  {
   "cell_type": "code",
   "execution_count": 132,
   "id": "6b62fd2b-3069-4eea-9b30-74282d7de8a1",
   "metadata": {},
   "outputs": [
    {
     "data": {
      "text/plain": [
       "{'BD0101EN',\n",
       " 'BD0111EN',\n",
       " 'BD0115EN',\n",
       " 'BD0211EN',\n",
       " 'DS0101EN',\n",
       " 'DS0201EN',\n",
       " 'SC0101EN'}"
      ]
     },
     "execution_count": 132,
     "metadata": {},
     "output_type": "execute_result"
    }
   ],
   "source": [
    "# The selected user has enrolled to 7 courses\n",
    "# so 300 ratings are missing, i.e., these can be estimeated/predicted\n",
    "enrolled_courses"
   ]
  },
  {
   "cell_type": "code",
   "execution_count": 133,
   "id": "58e5b531-9507-48ca-abef-77000b4d6d6e",
   "metadata": {},
   "outputs": [],
   "source": [
    "all_courses = set(course_genres_df['COURSE_ID'].values) # 307 courses"
   ]
  },
  {
   "cell_type": "code",
   "execution_count": 134,
   "id": "785814fb-b64e-46f9-ad73-680ffe256ee2",
   "metadata": {},
   "outputs": [],
   "source": [
    "unknown_courses = all_courses.difference(enrolled_courses)"
   ]
  },
  {
   "cell_type": "code",
   "execution_count": 135,
   "id": "0392033c-e5d1-4994-af67-af906d660e16",
   "metadata": {},
   "outputs": [
    {
     "data": {
      "text/plain": [
       "array([[0, 0, 0, ..., 1, 1, 0],\n",
       "       [0, 1, 0, ..., 0, 0, 0],\n",
       "       [0, 0, 0, ..., 1, 1, 0],\n",
       "       ...,\n",
       "       [0, 0, 0, ..., 0, 1, 0],\n",
       "       [0, 0, 0, ..., 1, 1, 0],\n",
       "       [0, 0, 0, ..., 1, 1, 0]])"
      ]
     },
     "execution_count": 135,
     "metadata": {},
     "output_type": "execute_result"
    }
   ],
   "source": [
    "# Get the subset of course-genre table which contains the unkown courses\n",
    "unknown_course_genres = course_genres_df[course_genres_df['COURSE_ID'].isin(unknown_courses)]\n",
    "# Matrix\n",
    "course_matrix = unknown_course_genres.iloc[:, 2:].values\n",
    "course_matrix # (300, 14)"
   ]
  },
  {
   "cell_type": "code",
   "execution_count": 136,
   "id": "74646e27-b372-41ea-8e99-e1dbb09dbd81",
   "metadata": {},
   "outputs": [
    {
     "data": {
      "text/plain": [
       "array([ 3.,  6.,  3., 27.,  3.,  3.,  6.,  0.,  0., 12.,  3., 15.,  6.,\n",
       "        6.,  0.,  0.,  3.,  3., 24.,  0., 15.,  0.,  3.,  0.,  6.,  6.,\n",
       "        6.,  3., 27.,  6., 12.,  3.,  3.,  0., 12., 12., 27.,  9.,  6.,\n",
       "       27.,  3.,  0.,  0.,  6.,  6., 12.,  3.,  3.,  6.,  3.,  0., 24.,\n",
       "        6.,  3., 24.,  6.,  6.,  6., 18.,  6.,  0.,  0.,  3.,  6.,  0.,\n",
       "        3.,  3.,  6.,  0.,  3., 12.,  3.,  3.,  0.,  3.,  0., 12., 12.,\n",
       "        6.,  3.,  3., 12.,  3., 12., 15.,  3., 12.,  3.,  0.,  0.,  3.,\n",
       "       15., 24., 15., 15., 24.,  6.,  3.,  3.,  3.,  3.,  3.,  3.,  3.,\n",
       "        3.,  3., 15.,  0.,  3.,  3.,  0.,  3., 12.,  3.,  6.,  0.,  3.,\n",
       "        3., 15.,  3., 12., 12.,  3.,  3., 24.,  0.,  3.,  6.,  6.,  6.,\n",
       "        0.,  6.,  6.,  3.,  3.,  3.,  3.,  6.,  3.,  0.,  3.,  3.,  0.,\n",
       "        3.,  3.,  6.,  0.,  0.,  3.,  0.,  9.,  6.,  0.,  0.,  0.,  3.,\n",
       "        3.,  3.,  3.,  3.,  3.,  0.,  3.,  3., 24., 24.,  0.,  3.,  3.,\n",
       "        0.,  3.,  3., 12.,  3.,  3.,  3.,  0., 12.,  3., 18., 15.,  6.,\n",
       "        0., 15., 12.,  3.,  3.,  3.,  3.,  3.,  3.,  3.,  3.,  0.,  0.,\n",
       "        0.,  6., 15.,  9.,  3.,  6.,  3., 12.,  3.,  3.,  0.,  6., 12.,\n",
       "       15., 24., 18., 24., 18., 12.,  0.,  3., 24., 12., 12., 12., 12.,\n",
       "        0.,  0.,  0.,  0.,  0.,  3.,  6.,  6.,  3.,  3.,  3.,  3.,  3.,\n",
       "        3.,  3.,  3., 27.,  3.,  3.,  3.,  3.,  3.,  3.,  3.,  3.,  3.,\n",
       "        3., 24.,  6.,  6.,  0.,  0.,  0.,  0.,  0.,  0.,  0.,  0.,  0.,\n",
       "        3.,  0.,  0.,  0.,  0.,  0.,  0.,  0.,  6.,  6.,  6.,  9.,  6.,\n",
       "       12., 12., 12., 24., 24., 27., 27., 12., 15., 12.,  0.,  0.,  0.,\n",
       "        0.,  0.,  3.,  3.,  3.,  3.,  0.,  0.,  3.,  3.,  3.,  0.,  3.,\n",
       "        3.])"
      ]
     },
     "execution_count": 136,
     "metadata": {},
     "output_type": "execute_result"
    }
   ],
   "source": [
    "# Estimated rating/score for each of the 300 courses\n",
    "# Note that this rating is not normalized...\n",
    "np.dot(course_matrix,test_user_vector) # (300,)"
   ]
  },
  {
   "cell_type": "markdown",
   "id": "012bb840-0c51-479d-a4a0-77a83590c3e0",
   "metadata": {},
   "source": [
    "# 3. Compute Expected Scores"
   ]
  },
  {
   "cell_type": "markdown",
   "id": "d5c77aa3-2d29-49ea-b1d1-bfa53ffd6af1",
   "metadata": {},
   "source": [
    "In this section, the computations from the previous one are packed into a function which analyzes the entire test set of users. For each missing course of a student in the set a score is estimated."
   ]
  },
  {
   "cell_type": "code",
   "execution_count": 137,
   "id": "ff1c7ade-95d3-4856-9b61-3439e03b0a65",
   "metadata": {},
   "outputs": [],
   "source": [
    "def generate_recommendation_scores(profile_df, course_genres_df, test_users_df, score_threshold=10):\n",
    "    \"\"\"Generate recommendation scores\n",
    "    for the users/students in the test set.\n",
    "    A score is computed for each missing course.\n",
    "    \"\"\"\n",
    "    users = []\n",
    "    courses = []\n",
    "    scores = []\n",
    "    test_users = test_users_df.groupby(['user']).max().reset_index(drop=False)\n",
    "    test_user_ids = test_users['user'].to_list()\n",
    "    for user_id in test_user_ids:\n",
    "        test_user_profile = profile_df[profile_df['user'] == user_id] # df (1,15)\n",
    "        # get user vector for the current user id\n",
    "        test_user_vector = test_user_profile.iloc[:,1:].values[0] # np.array (1,14)\n",
    "        \n",
    "        # get the unknown course ids for the current user id\n",
    "        enrolled_courses = test_users_df[test_users_df['user'] == user_id]['item'].to_list()\n",
    "        unknown_courses = all_courses.difference(enrolled_courses)\n",
    "        unknown_course_df = course_genres_df[course_genres_df['COURSE_ID'].isin(unknown_courses)]\n",
    "        unknown_course_ids = unknown_course_df['COURSE_ID'].values\n",
    "        unknown_course_matrix = unknown_course_df.iloc[:, 2:].values # np.array (293,14)\n",
    "        \n",
    "        # user np.dot() to get the recommendation scores for each course\n",
    "        recommendation_scores = np.dot(unknown_course_matrix, test_user_vector)\n",
    "\n",
    "        # Append the results into the users, courses, and scores list\n",
    "        for i in range(0, len(unknown_course_ids)):\n",
    "            score = recommendation_scores[i]\n",
    "            # Only keep the courses with high recommendation score\n",
    "            if score >= score_threshold:\n",
    "                users.append(user_id)\n",
    "                courses.append(unknown_course_ids[i])\n",
    "                scores.append(recommendation_scores[i])\n",
    "                \n",
    "    return users, courses, scores"
   ]
  },
  {
   "cell_type": "code",
   "execution_count": 138,
   "id": "9934f8d7-744d-49a2-a385-56c7fa0a0a5b",
   "metadata": {},
   "outputs": [],
   "source": [
    "# Return users, courses, and scores lists for the dataframe\n",
    "users, courses, scores = generate_recommendation_scores(profile_df, course_genres_df, test_users_df)"
   ]
  },
  {
   "cell_type": "code",
   "execution_count": 139,
   "id": "abceac91-f618-49f5-abbc-ee8a8693a068",
   "metadata": {},
   "outputs": [],
   "source": [
    "res_dict = dict()\n",
    "res_dict['USER'] = users\n",
    "res_dict['COURSE_ID'] = courses\n",
    "res_dict['SCORE'] = scores\n",
    "res_df = pd.DataFrame(res_dict, columns=['USER', 'COURSE_ID', 'SCORE'])\n",
    "# Save the dataframe \n",
    "res_df.to_csv(\"../data/profile_rs_results.csv\", index=False)"
   ]
  },
  {
   "cell_type": "code",
   "execution_count": 140,
   "id": "d920b221-f25a-4cdc-8c6a-da0ad111513b",
   "metadata": {},
   "outputs": [
    {
     "data": {
      "text/html": [
       "<div>\n",
       "<style scoped>\n",
       "    .dataframe tbody tr th:only-of-type {\n",
       "        vertical-align: middle;\n",
       "    }\n",
       "\n",
       "    .dataframe tbody tr th {\n",
       "        vertical-align: top;\n",
       "    }\n",
       "\n",
       "    .dataframe thead th {\n",
       "        text-align: right;\n",
       "    }\n",
       "</style>\n",
       "<table border=\"1\" class=\"dataframe\">\n",
       "  <thead>\n",
       "    <tr style=\"text-align: right;\">\n",
       "      <th></th>\n",
       "      <th>USER</th>\n",
       "      <th>COURSE_ID</th>\n",
       "      <th>SCORE</th>\n",
       "    </tr>\n",
       "  </thead>\n",
       "  <tbody>\n",
       "    <tr>\n",
       "      <th>0</th>\n",
       "      <td>37465</td>\n",
       "      <td>RP0105EN</td>\n",
       "      <td>27.0</td>\n",
       "    </tr>\n",
       "    <tr>\n",
       "      <th>1</th>\n",
       "      <td>37465</td>\n",
       "      <td>GPXX06RFEN</td>\n",
       "      <td>12.0</td>\n",
       "    </tr>\n",
       "    <tr>\n",
       "      <th>2</th>\n",
       "      <td>37465</td>\n",
       "      <td>CC0271EN</td>\n",
       "      <td>15.0</td>\n",
       "    </tr>\n",
       "    <tr>\n",
       "      <th>3</th>\n",
       "      <td>37465</td>\n",
       "      <td>BD0145EN</td>\n",
       "      <td>24.0</td>\n",
       "    </tr>\n",
       "    <tr>\n",
       "      <th>4</th>\n",
       "      <td>37465</td>\n",
       "      <td>DE0205EN</td>\n",
       "      <td>15.0</td>\n",
       "    </tr>\n",
       "  </tbody>\n",
       "</table>\n",
       "</div>"
      ],
      "text/plain": [
       "    USER   COURSE_ID  SCORE\n",
       "0  37465    RP0105EN   27.0\n",
       "1  37465  GPXX06RFEN   12.0\n",
       "2  37465    CC0271EN   15.0\n",
       "3  37465    BD0145EN   24.0\n",
       "4  37465    DE0205EN   15.0"
      ]
     },
     "execution_count": 140,
     "metadata": {},
     "output_type": "execute_result"
    }
   ],
   "source": [
    "res_df.head()"
   ]
  },
  {
   "cell_type": "code",
   "execution_count": 142,
   "id": "699b3b0f-e48a-45b8-9faa-10aa46642efa",
   "metadata": {},
   "outputs": [
    {
     "data": {
      "text/plain": [
       "61.81828703703704"
      ]
     },
     "execution_count": 142,
     "metadata": {},
     "output_type": "execute_result"
    }
   ],
   "source": [
    "# On average, how many new courses have been recommended per test user?\n",
    "res_df.groupby('USER')['COURSE_ID'].count().mean()"
   ]
  },
  {
   "cell_type": "code",
   "execution_count": 143,
   "id": "d472ddee-746b-45ef-907e-3d9c70cd35fb",
   "metadata": {},
   "outputs": [
    {
     "data": {
      "text/plain": [
       "COURSE_ID\n",
       "TA0106EN      608\n",
       "GPXX0IBEN     548\n",
       "excourse22    547\n",
       "excourse21    547\n",
       "ML0122EN      544\n",
       "excourse06    533\n",
       "excourse04    533\n",
       "GPXX0TY1EN    533\n",
       "excourse31    524\n",
       "excourse73    516\n",
       "Name: USER, dtype: int64"
      ]
     },
     "execution_count": 143,
     "metadata": {},
     "output_type": "execute_result"
    }
   ],
   "source": [
    "# What are the most frequently recommended courses?\n",
    "# Return the top-10 commonly recommended courses across all test users.\n",
    "res_df.groupby('COURSE_ID').count()['USER'].sort_values(ascending=False)[:10]"
   ]
  },
  {
   "cell_type": "markdown",
   "id": "ee8cdc12-483c-41ac-a636-fbcf94293de5",
   "metadata": {},
   "source": [
    "# Part 2"
   ]
  },
  {
   "cell_type": "markdown",
   "id": "9b102206-c5e0-4533-8b91-5c6be1544c43",
   "metadata": {},
   "source": [
    "Course Similarities."
   ]
  },
  {
   "cell_type": "markdown",
   "id": "85d22e91-0f5b-4e3d-b0d4-6e203c6b80ca",
   "metadata": {},
   "source": [
    "## 1. Get Indexing Objects for Similarities and Courses"
   ]
  },
  {
   "cell_type": "code",
   "execution_count": 145,
   "id": "5acdde01-759d-4617-a1d5-3b848ffe31ce",
   "metadata": {},
   "outputs": [],
   "source": [
    "sim_df = pd.read_csv('../data/sim_computed.csv')"
   ]
  },
  {
   "cell_type": "code",
   "execution_count": 146,
   "id": "e796b847-170c-4bd7-8e46-38a17bbca355",
   "metadata": {},
   "outputs": [
    {
     "data": {
      "text/html": [
       "<div>\n",
       "<style scoped>\n",
       "    .dataframe tbody tr th:only-of-type {\n",
       "        vertical-align: middle;\n",
       "    }\n",
       "\n",
       "    .dataframe tbody tr th {\n",
       "        vertical-align: top;\n",
       "    }\n",
       "\n",
       "    .dataframe thead th {\n",
       "        text-align: right;\n",
       "    }\n",
       "</style>\n",
       "<table border=\"1\" class=\"dataframe\">\n",
       "  <thead>\n",
       "    <tr style=\"text-align: right;\">\n",
       "      <th></th>\n",
       "      <th>0</th>\n",
       "      <th>1</th>\n",
       "      <th>2</th>\n",
       "      <th>3</th>\n",
       "      <th>4</th>\n",
       "      <th>5</th>\n",
       "      <th>6</th>\n",
       "      <th>7</th>\n",
       "      <th>8</th>\n",
       "      <th>9</th>\n",
       "      <th>...</th>\n",
       "      <th>297</th>\n",
       "      <th>298</th>\n",
       "      <th>299</th>\n",
       "      <th>300</th>\n",
       "      <th>301</th>\n",
       "      <th>302</th>\n",
       "      <th>303</th>\n",
       "      <th>304</th>\n",
       "      <th>305</th>\n",
       "      <th>306</th>\n",
       "    </tr>\n",
       "  </thead>\n",
       "  <tbody>\n",
       "    <tr>\n",
       "      <th>0</th>\n",
       "      <td>1.000000</td>\n",
       "      <td>0.088889</td>\n",
       "      <td>0.088475</td>\n",
       "      <td>0.065556</td>\n",
       "      <td>0.048810</td>\n",
       "      <td>0.104685</td>\n",
       "      <td>0.065202</td>\n",
       "      <td>0.143346</td>\n",
       "      <td>0.000000</td>\n",
       "      <td>0.024405</td>\n",
       "      <td>...</td>\n",
       "      <td>0.012695</td>\n",
       "      <td>0.070225</td>\n",
       "      <td>0.058224</td>\n",
       "      <td>0.046610</td>\n",
       "      <td>0.025850</td>\n",
       "      <td>0.033944</td>\n",
       "      <td>0.076825</td>\n",
       "      <td>0.072898</td>\n",
       "      <td>0.039276</td>\n",
       "      <td>0.121113</td>\n",
       "    </tr>\n",
       "    <tr>\n",
       "      <th>1</th>\n",
       "      <td>0.088889</td>\n",
       "      <td>1.000000</td>\n",
       "      <td>0.055202</td>\n",
       "      <td>0.057264</td>\n",
       "      <td>0.012182</td>\n",
       "      <td>0.078379</td>\n",
       "      <td>0.032545</td>\n",
       "      <td>0.119251</td>\n",
       "      <td>0.044162</td>\n",
       "      <td>0.000000</td>\n",
       "      <td>...</td>\n",
       "      <td>0.180593</td>\n",
       "      <td>0.124631</td>\n",
       "      <td>0.087187</td>\n",
       "      <td>0.093060</td>\n",
       "      <td>0.019354</td>\n",
       "      <td>0.028239</td>\n",
       "      <td>0.063911</td>\n",
       "      <td>0.138270</td>\n",
       "      <td>0.031367</td>\n",
       "      <td>0.076940</td>\n",
       "    </tr>\n",
       "    <tr>\n",
       "      <th>2</th>\n",
       "      <td>0.088475</td>\n",
       "      <td>0.055202</td>\n",
       "      <td>1.000000</td>\n",
       "      <td>0.026463</td>\n",
       "      <td>0.039406</td>\n",
       "      <td>0.000000</td>\n",
       "      <td>0.000000</td>\n",
       "      <td>0.154303</td>\n",
       "      <td>0.000000</td>\n",
       "      <td>0.000000</td>\n",
       "      <td>...</td>\n",
       "      <td>0.040996</td>\n",
       "      <td>0.037796</td>\n",
       "      <td>0.013430</td>\n",
       "      <td>0.037630</td>\n",
       "      <td>0.000000</td>\n",
       "      <td>0.018270</td>\n",
       "      <td>0.082698</td>\n",
       "      <td>0.133400</td>\n",
       "      <td>0.012684</td>\n",
       "      <td>0.000000</td>\n",
       "    </tr>\n",
       "    <tr>\n",
       "      <th>3</th>\n",
       "      <td>0.065556</td>\n",
       "      <td>0.057264</td>\n",
       "      <td>0.026463</td>\n",
       "      <td>1.000000</td>\n",
       "      <td>0.000000</td>\n",
       "      <td>0.250490</td>\n",
       "      <td>0.390038</td>\n",
       "      <td>0.000000</td>\n",
       "      <td>0.000000</td>\n",
       "      <td>0.000000</td>\n",
       "      <td>...</td>\n",
       "      <td>0.151882</td>\n",
       "      <td>0.420084</td>\n",
       "      <td>0.427908</td>\n",
       "      <td>0.055764</td>\n",
       "      <td>0.000000</td>\n",
       "      <td>0.094759</td>\n",
       "      <td>0.030638</td>\n",
       "      <td>0.017443</td>\n",
       "      <td>0.018796</td>\n",
       "      <td>0.158073</td>\n",
       "    </tr>\n",
       "    <tr>\n",
       "      <th>4</th>\n",
       "      <td>0.048810</td>\n",
       "      <td>0.012182</td>\n",
       "      <td>0.039406</td>\n",
       "      <td>0.000000</td>\n",
       "      <td>1.000000</td>\n",
       "      <td>0.000000</td>\n",
       "      <td>0.000000</td>\n",
       "      <td>0.085126</td>\n",
       "      <td>0.000000</td>\n",
       "      <td>0.000000</td>\n",
       "      <td>...</td>\n",
       "      <td>0.000000</td>\n",
       "      <td>0.000000</td>\n",
       "      <td>0.000000</td>\n",
       "      <td>0.096877</td>\n",
       "      <td>0.000000</td>\n",
       "      <td>0.060474</td>\n",
       "      <td>0.030415</td>\n",
       "      <td>0.129871</td>\n",
       "      <td>0.000000</td>\n",
       "      <td>0.000000</td>\n",
       "    </tr>\n",
       "  </tbody>\n",
       "</table>\n",
       "<p>5 rows × 307 columns</p>\n",
       "</div>"
      ],
      "text/plain": [
       "          0         1         2         3         4         5         6  \\\n",
       "0  1.000000  0.088889  0.088475  0.065556  0.048810  0.104685  0.065202   \n",
       "1  0.088889  1.000000  0.055202  0.057264  0.012182  0.078379  0.032545   \n",
       "2  0.088475  0.055202  1.000000  0.026463  0.039406  0.000000  0.000000   \n",
       "3  0.065556  0.057264  0.026463  1.000000  0.000000  0.250490  0.390038   \n",
       "4  0.048810  0.012182  0.039406  0.000000  1.000000  0.000000  0.000000   \n",
       "\n",
       "          7         8         9  ...       297       298       299       300  \\\n",
       "0  0.143346  0.000000  0.024405  ...  0.012695  0.070225  0.058224  0.046610   \n",
       "1  0.119251  0.044162  0.000000  ...  0.180593  0.124631  0.087187  0.093060   \n",
       "2  0.154303  0.000000  0.000000  ...  0.040996  0.037796  0.013430  0.037630   \n",
       "3  0.000000  0.000000  0.000000  ...  0.151882  0.420084  0.427908  0.055764   \n",
       "4  0.085126  0.000000  0.000000  ...  0.000000  0.000000  0.000000  0.096877   \n",
       "\n",
       "        301       302       303       304       305       306  \n",
       "0  0.025850  0.033944  0.076825  0.072898  0.039276  0.121113  \n",
       "1  0.019354  0.028239  0.063911  0.138270  0.031367  0.076940  \n",
       "2  0.000000  0.018270  0.082698  0.133400  0.012684  0.000000  \n",
       "3  0.000000  0.094759  0.030638  0.017443  0.018796  0.158073  \n",
       "4  0.000000  0.060474  0.030415  0.129871  0.000000  0.000000  \n",
       "\n",
       "[5 rows x 307 columns]"
      ]
     },
     "execution_count": 146,
     "metadata": {},
     "output_type": "execute_result"
    }
   ],
   "source": [
    "sim_df.head()"
   ]
  },
  {
   "cell_type": "code",
   "execution_count": 147,
   "id": "e39d93a0-be03-40f3-9dd8-9bfbab4269c9",
   "metadata": {},
   "outputs": [],
   "source": [
    "course_df = pd.read_csv('../data/course_processed.csv')\n",
    "bow_df = pd.read_csv('../data/courses_bows.csv')\n",
    "test_users_df = pd.read_csv('../data/rs_content_test.csv')\n",
    "profile_df = pd.read_csv('../data/user_profile.csv')\n",
    "course_genres_df = pd.read_csv('../data/course_genre.csv')\n",
    "sim_df = pd.read_csv('../data/sim_computed.csv')"
   ]
  },
  {
   "cell_type": "code",
   "execution_count": 148,
   "id": "060097a8-e1cf-4d42-8996-1c7bd503a2e1",
   "metadata": {},
   "outputs": [],
   "source": [
    "# Create course id to index and index to id mappings\n",
    "def get_doc_dicts(bow_df):\n",
    "    grouped_df = bow_df.groupby(['doc_index', 'doc_id']).max().reset_index(drop=False)\n",
    "    idx_id_dict = grouped_df[['doc_id']].to_dict()['doc_id']\n",
    "    id_idx_dict = {v: k for k, v in idx_id_dict.items()}\n",
    "    del grouped_df\n",
    "    return idx_id_dict, id_idx_dict"
   ]
  },
  {
   "cell_type": "code",
   "execution_count": 149,
   "id": "b29fd919-ec42-4f05-ad78-d243b5e0776f",
   "metadata": {},
   "outputs": [
    {
     "data": {
      "text/html": [
       "<div>\n",
       "<style scoped>\n",
       "    .dataframe tbody tr th:only-of-type {\n",
       "        vertical-align: middle;\n",
       "    }\n",
       "\n",
       "    .dataframe tbody tr th {\n",
       "        vertical-align: top;\n",
       "    }\n",
       "\n",
       "    .dataframe thead th {\n",
       "        text-align: right;\n",
       "    }\n",
       "</style>\n",
       "<table border=\"1\" class=\"dataframe\">\n",
       "  <thead>\n",
       "    <tr style=\"text-align: right;\">\n",
       "      <th></th>\n",
       "      <th>COURSE_ID</th>\n",
       "      <th>TITLE</th>\n",
       "      <th>DESCRIPTION</th>\n",
       "    </tr>\n",
       "  </thead>\n",
       "  <tbody>\n",
       "    <tr>\n",
       "      <th>200</th>\n",
       "      <td>ML0151EN</td>\n",
       "      <td>machine learning with r</td>\n",
       "      <td>this machine learning with r course dives into...</td>\n",
       "    </tr>\n",
       "  </tbody>\n",
       "</table>\n",
       "</div>"
      ],
      "text/plain": [
       "    COURSE_ID                    TITLE  \\\n",
       "200  ML0151EN  machine learning with r   \n",
       "\n",
       "                                           DESCRIPTION  \n",
       "200  this machine learning with r course dives into...  "
      ]
     },
     "execution_count": 149,
     "metadata": {},
     "output_type": "execute_result"
    }
   ],
   "source": [
    "course1 = course_df[course_df['COURSE_ID'] == \"ML0151EN\"]\n",
    "course1"
   ]
  },
  {
   "cell_type": "code",
   "execution_count": 150,
   "id": "e1195079-080c-45a7-97fd-5688efde979b",
   "metadata": {},
   "outputs": [
    {
     "data": {
      "text/html": [
       "<div>\n",
       "<style scoped>\n",
       "    .dataframe tbody tr th:only-of-type {\n",
       "        vertical-align: middle;\n",
       "    }\n",
       "\n",
       "    .dataframe tbody tr th {\n",
       "        vertical-align: top;\n",
       "    }\n",
       "\n",
       "    .dataframe thead th {\n",
       "        text-align: right;\n",
       "    }\n",
       "</style>\n",
       "<table border=\"1\" class=\"dataframe\">\n",
       "  <thead>\n",
       "    <tr style=\"text-align: right;\">\n",
       "      <th></th>\n",
       "      <th>COURSE_ID</th>\n",
       "      <th>TITLE</th>\n",
       "      <th>DESCRIPTION</th>\n",
       "    </tr>\n",
       "  </thead>\n",
       "  <tbody>\n",
       "    <tr>\n",
       "      <th>158</th>\n",
       "      <td>ML0101ENv3</td>\n",
       "      <td>machine learning with python</td>\n",
       "      <td>machine learning can be an incredibly benefici...</td>\n",
       "    </tr>\n",
       "  </tbody>\n",
       "</table>\n",
       "</div>"
      ],
      "text/plain": [
       "      COURSE_ID                         TITLE  \\\n",
       "158  ML0101ENv3  machine learning with python   \n",
       "\n",
       "                                           DESCRIPTION  \n",
       "158  machine learning can be an incredibly benefici...  "
      ]
     },
     "execution_count": 150,
     "metadata": {},
     "output_type": "execute_result"
    }
   ],
   "source": [
    "course2 = course_df[course_df['COURSE_ID'] == \"ML0101ENv3\"]\n",
    "course2"
   ]
  },
  {
   "cell_type": "code",
   "execution_count": 151,
   "id": "a508ef1e-4813-49ca-8577-5ad8eca30d4a",
   "metadata": {},
   "outputs": [
    {
     "name": "stdout",
     "output_type": "stream",
     "text": [
      "Course 1's index is 200 and Course 2's index is 158\n"
     ]
    }
   ],
   "source": [
    "idx_id_dict, id_idx_dict = get_doc_dicts(bow_df)\n",
    "idx1 = id_idx_dict[\"ML0151EN\"]\n",
    "idx2 = id_idx_dict[\"ML0101ENv3\"]\n",
    "print(f\"Course 1's index is {idx1} and Course 2's index is {idx2}\")"
   ]
  },
  {
   "cell_type": "code",
   "execution_count": 152,
   "id": "491e6344-a606-4b27-94ac-3b450d24aa2a",
   "metadata": {},
   "outputs": [],
   "source": [
    "sim_matrix = sim_df.values"
   ]
  },
  {
   "cell_type": "code",
   "execution_count": 153,
   "id": "9a7e88ef-3aef-46d4-af07-6416ddbcfdec",
   "metadata": {},
   "outputs": [
    {
     "data": {
      "text/plain": [
       "0.6626221399549089"
      ]
     },
     "execution_count": 153,
     "metadata": {},
     "output_type": "execute_result"
    }
   ],
   "source": [
    "sim = sim_matrix[idx1][idx2]\n",
    "sim"
   ]
  },
  {
   "cell_type": "code",
   "execution_count": 154,
   "id": "724f785c-6452-4417-994b-3e9bed0d1ad8",
   "metadata": {},
   "outputs": [],
   "source": [
    "enrolled_course_ids = ['ML0201EN','ML0122EN'] # add course ids to the list"
   ]
  },
  {
   "cell_type": "code",
   "execution_count": 155,
   "id": "8397763a-5fc1-420f-9a81-1491068cb197",
   "metadata": {},
   "outputs": [
    {
     "data": {
      "text/html": [
       "<div>\n",
       "<style scoped>\n",
       "    .dataframe tbody tr th:only-of-type {\n",
       "        vertical-align: middle;\n",
       "    }\n",
       "\n",
       "    .dataframe tbody tr th {\n",
       "        vertical-align: top;\n",
       "    }\n",
       "\n",
       "    .dataframe thead th {\n",
       "        text-align: right;\n",
       "    }\n",
       "</style>\n",
       "<table border=\"1\" class=\"dataframe\">\n",
       "  <thead>\n",
       "    <tr style=\"text-align: right;\">\n",
       "      <th></th>\n",
       "      <th>COURSE_ID</th>\n",
       "      <th>TITLE</th>\n",
       "      <th>DESCRIPTION</th>\n",
       "    </tr>\n",
       "  </thead>\n",
       "  <tbody>\n",
       "    <tr>\n",
       "      <th>0</th>\n",
       "      <td>ML0201EN</td>\n",
       "      <td>robots are coming  build iot apps with watson ...</td>\n",
       "      <td>have fun with iot and learn along the way  if ...</td>\n",
       "    </tr>\n",
       "    <tr>\n",
       "      <th>1</th>\n",
       "      <td>ML0122EN</td>\n",
       "      <td>accelerating deep learning with gpu</td>\n",
       "      <td>training complex deep learning models with lar...</td>\n",
       "    </tr>\n",
       "  </tbody>\n",
       "</table>\n",
       "</div>"
      ],
      "text/plain": [
       "  COURSE_ID                                              TITLE  \\\n",
       "0  ML0201EN  robots are coming  build iot apps with watson ...   \n",
       "1  ML0122EN                accelerating deep learning with gpu   \n",
       "\n",
       "                                         DESCRIPTION  \n",
       "0  have fun with iot and learn along the way  if ...  \n",
       "1  training complex deep learning models with lar...  "
      ]
     },
     "execution_count": 155,
     "metadata": {},
     "output_type": "execute_result"
    }
   ],
   "source": [
    "enrolled_courses = course_df[course_df['COURSE_ID'].isin(enrolled_course_ids)]\n",
    "enrolled_courses"
   ]
  },
  {
   "cell_type": "code",
   "execution_count": 156,
   "id": "88a79729-8647-48da-86cc-2c685f31c447",
   "metadata": {},
   "outputs": [],
   "source": [
    "all_courses = set(course_df['COURSE_ID'])"
   ]
  },
  {
   "cell_type": "code",
   "execution_count": 157,
   "id": "14cb3e7a-e31c-43a2-845a-466116248532",
   "metadata": {},
   "outputs": [],
   "source": [
    "unselected_course_ids = all_courses.difference(enrolled_course_ids)\n",
    "#unselected_course_ids"
   ]
  },
  {
   "cell_type": "markdown",
   "id": "0af9f7f5-cee9-4bc9-adde-7dc1e7891eb2",
   "metadata": {},
   "source": [
    "## 2. Compute Recommended Courses Based on Course Similarities"
   ]
  },
  {
   "cell_type": "code",
   "execution_count": 158,
   "id": "ade01dcc-4913-4f7c-a3a6-5b09b1dcd8eb",
   "metadata": {},
   "outputs": [],
   "source": [
    "def generate_recommendations_for_one_user(enrolled_course_ids, unselected_course_ids, id_idx_dict, sim_matrix):\n",
    "    # Create a dictionary to store your recommendation results\n",
    "    res = {}\n",
    "    threshold = 0.6 \n",
    "    for enrolled_course in enrolled_course_ids:\n",
    "        for unselect_course in unselected_course_ids:\n",
    "            if enrolled_course in id_idx_dict and unselect_course in id_idx_dict:\n",
    "                sim = 0\n",
    "                # Find the two indices for each enrolled_course and unselect_course, based on their two ids\n",
    "                # Calculate the similarity between an enrolled_course and an unselect_course\n",
    "                # e.g., Course ML0151EN's index is 200 and Course ML0101ENv3's index is 158\n",
    "                idx_enrolled = id_idx_dict[enrolled_course]\n",
    "                idx_unenrolled = id_idx_dict[unselect_course]\n",
    "                \n",
    "                # Find the similarity value from the sim_matrix\n",
    "                # sim = sim_matrix[200][158]\n",
    "                sim = sim_matrix[idx_enrolled][idx_unenrolled]\n",
    "\n",
    "                if sim > threshold:\n",
    "                    if unselect_course not in res:\n",
    "                        res[unselect_course] = sim\n",
    "                    else:\n",
    "                        if sim >= res[unselect_course]:\n",
    "                            res[unselect_course] = sim\n",
    "                            \n",
    "    # Sort the results by similarity\n",
    "    res = {k: v for k, v in sorted(res.items(), key=lambda item: item[1], reverse=True)}\n",
    "    return res"
   ]
  },
  {
   "cell_type": "code",
   "execution_count": 159,
   "id": "e1746f93-a30d-4813-9231-36a378a33f59",
   "metadata": {},
   "outputs": [],
   "source": [
    "recommendations = generate_recommendations_for_one_user(enrolled_course_ids,\n",
    "                                      unselected_course_ids,\n",
    "                                      id_idx_dict,\n",
    "                                      sim_matrix)"
   ]
  },
  {
   "cell_type": "code",
   "execution_count": 160,
   "id": "dc2676cf-0748-49a6-9c82-169d224c99e2",
   "metadata": {},
   "outputs": [
    {
     "data": {
      "text/plain": [
       "{'ML0122ENv3': 0.6815739441431503}"
      ]
     },
     "execution_count": 160,
     "metadata": {},
     "output_type": "execute_result"
    }
   ],
   "source": [
    "recommendations"
   ]
  },
  {
   "cell_type": "code",
   "execution_count": 161,
   "id": "9b11c942-90e6-4c1c-97ae-80177da987d1",
   "metadata": {},
   "outputs": [],
   "source": [
    "def generate_recommendations_for_all(sim_matrix, course_df, test_users_df, id_idx_dict):\n",
    "    users = []\n",
    "    courses = []\n",
    "    sim_scores = []\n",
    "    all_courses = set(course_df['COURSE_ID'])\n",
    "    # Get all test user ids\n",
    "    test_users = test_users_df.groupby(['user']).max().reset_index(drop=False)\n",
    "    test_user_ids = test_users['user'].to_list()\n",
    "    for user_id in test_user_ids:\n",
    "        # For each user, call generate_recommendations_for_one_user()\n",
    "        # to generate the recommendation results\n",
    "        enrolled_course_ids = test_users_df[test_users_df['user'] == user_id]['item'].to_list()\n",
    "        unselected_course_ids = all_courses.difference(enrolled_course_ids)\n",
    "        recommendations = generate_recommendations_for_one_user(enrolled_course_ids,\n",
    "                                                                unselected_course_ids,\n",
    "                                                                id_idx_dict,\n",
    "                                                                sim_matrix)\n",
    "        # Save the result to courses, sim_scores list\n",
    "        n = 0\n",
    "        for course, sim in recommendations.items():\n",
    "            courses.append(course)\n",
    "            sim_scores.append(sim)\n",
    "            n += 1\n",
    "        if n > 0:\n",
    "            user_ids = [user_id for i in range(n)]\n",
    "            #print(user_ids)\n",
    "            users.extend(user_ids)\n",
    "    \n",
    "    return users, courses, sim_scores"
   ]
  },
  {
   "cell_type": "code",
   "execution_count": 162,
   "id": "fcdc420a-d056-4b9a-b201-66b28040c7c8",
   "metadata": {},
   "outputs": [],
   "source": [
    "res_dict = {}\n",
    "users, courses, sim_scores = generate_recommendations_for_all(sim_matrix,\n",
    "                                                              course_df,\n",
    "                                                              test_users_df,id_idx_dict)\n",
    "#print(len(users), len(courses), len(sim_scores))\n",
    "res_dict['USER'] = users\n",
    "res_dict['COURSE_ID'] = courses\n",
    "res_dict['SCORE'] = sim_scores\n",
    "res_df = pd.DataFrame(res_dict, columns=['USER', 'COURSE_ID', 'SCORE'])"
   ]
  },
  {
   "cell_type": "code",
   "execution_count": 163,
   "id": "a412bf7d-4e75-488b-9223-8a395e8000ff",
   "metadata": {},
   "outputs": [
    {
     "data": {
      "text/html": [
       "<div>\n",
       "<style scoped>\n",
       "    .dataframe tbody tr th:only-of-type {\n",
       "        vertical-align: middle;\n",
       "    }\n",
       "\n",
       "    .dataframe tbody tr th {\n",
       "        vertical-align: top;\n",
       "    }\n",
       "\n",
       "    .dataframe thead th {\n",
       "        text-align: right;\n",
       "    }\n",
       "</style>\n",
       "<table border=\"1\" class=\"dataframe\">\n",
       "  <thead>\n",
       "    <tr style=\"text-align: right;\">\n",
       "      <th></th>\n",
       "      <th>USER</th>\n",
       "      <th>COURSE_ID</th>\n",
       "      <th>SCORE</th>\n",
       "    </tr>\n",
       "  </thead>\n",
       "  <tbody>\n",
       "    <tr>\n",
       "      <th>0</th>\n",
       "      <td>37465</td>\n",
       "      <td>DS0110EN</td>\n",
       "      <td>0.732941</td>\n",
       "    </tr>\n",
       "    <tr>\n",
       "      <th>1</th>\n",
       "      <td>37465</td>\n",
       "      <td>excourse67</td>\n",
       "      <td>0.708214</td>\n",
       "    </tr>\n",
       "    <tr>\n",
       "      <th>2</th>\n",
       "      <td>37465</td>\n",
       "      <td>excourse63</td>\n",
       "      <td>0.694563</td>\n",
       "    </tr>\n",
       "    <tr>\n",
       "      <th>3</th>\n",
       "      <td>37465</td>\n",
       "      <td>excourse72</td>\n",
       "      <td>0.652535</td>\n",
       "    </tr>\n",
       "    <tr>\n",
       "      <th>4</th>\n",
       "      <td>37465</td>\n",
       "      <td>excourse74</td>\n",
       "      <td>0.650071</td>\n",
       "    </tr>\n",
       "    <tr>\n",
       "      <th>...</th>\n",
       "      <td>...</td>\n",
       "      <td>...</td>\n",
       "      <td>...</td>\n",
       "    </tr>\n",
       "    <tr>\n",
       "      <th>11372</th>\n",
       "      <td>2087663</td>\n",
       "      <td>excourse28</td>\n",
       "      <td>0.623754</td>\n",
       "    </tr>\n",
       "    <tr>\n",
       "      <th>11373</th>\n",
       "      <td>2087663</td>\n",
       "      <td>BD0145EN</td>\n",
       "      <td>0.623544</td>\n",
       "    </tr>\n",
       "    <tr>\n",
       "      <th>11374</th>\n",
       "      <td>2087663</td>\n",
       "      <td>excourse68</td>\n",
       "      <td>0.616759</td>\n",
       "    </tr>\n",
       "    <tr>\n",
       "      <th>11375</th>\n",
       "      <td>2087663</td>\n",
       "      <td>excourse60</td>\n",
       "      <td>0.615568</td>\n",
       "    </tr>\n",
       "    <tr>\n",
       "      <th>11376</th>\n",
       "      <td>2087663</td>\n",
       "      <td>excourse25</td>\n",
       "      <td>0.600535</td>\n",
       "    </tr>\n",
       "  </tbody>\n",
       "</table>\n",
       "<p>11377 rows × 3 columns</p>\n",
       "</div>"
      ],
      "text/plain": [
       "          USER   COURSE_ID     SCORE\n",
       "0        37465    DS0110EN  0.732941\n",
       "1        37465  excourse67  0.708214\n",
       "2        37465  excourse63  0.694563\n",
       "3        37465  excourse72  0.652535\n",
       "4        37465  excourse74  0.650071\n",
       "...        ...         ...       ...\n",
       "11372  2087663  excourse28  0.623754\n",
       "11373  2087663    BD0145EN  0.623544\n",
       "11374  2087663  excourse68  0.616759\n",
       "11375  2087663  excourse60  0.615568\n",
       "11376  2087663  excourse25  0.600535\n",
       "\n",
       "[11377 rows x 3 columns]"
      ]
     },
     "execution_count": 163,
     "metadata": {},
     "output_type": "execute_result"
    }
   ],
   "source": [
    "# Recommended courses for all students\n",
    "# based on course similarity\n",
    "res_df"
   ]
  },
  {
   "cell_type": "code",
   "execution_count": 165,
   "id": "f843a1ff-6733-4dfd-adbd-10f3c37a40d2",
   "metadata": {},
   "outputs": [
    {
     "data": {
      "text/plain": [
       "11.573753814852493"
      ]
     },
     "execution_count": 165,
     "metadata": {},
     "output_type": "execute_result"
    }
   ],
   "source": [
    "# On average, how many new courses have been recommended per test user?\n",
    "res_df.groupby('USER')['COURSE_ID'].count().mean()"
   ]
  },
  {
   "cell_type": "code",
   "execution_count": 166,
   "id": "e8700951-5c4e-4bc7-97f0-e77ab4eeb3e1",
   "metadata": {},
   "outputs": [
    {
     "data": {
      "text/plain": [
       "COURSE_ID\n",
       "excourse62    579\n",
       "excourse22    579\n",
       "DS0110EN      562\n",
       "excourse65    555\n",
       "excourse63    555\n",
       "excourse72    551\n",
       "excourse68    550\n",
       "excourse74    539\n",
       "excourse67    539\n",
       "BD0145EN      506\n",
       "Name: USER, dtype: int64"
      ]
     },
     "execution_count": 166,
     "metadata": {},
     "output_type": "execute_result"
    }
   ],
   "source": [
    "# What are the most frequently recommended courses?\n",
    "# Return the top-10 commonly recommended courses across all test users.\n",
    "res_df.groupby('COURSE_ID').count()['USER'].sort_values(ascending=False)[:10]"
   ]
  },
  {
   "cell_type": "markdown",
   "id": "0af061f9-0350-47c0-bc9b-1408b9da7d86",
   "metadata": {},
   "source": [
    "# Part 3"
   ]
  },
  {
   "cell_type": "markdown",
   "id": "ed611e2a-de07-4e9f-9299-ad6040ebdaa3",
   "metadata": {},
   "source": [
    "Clustering User Profiles."
   ]
  },
  {
   "cell_type": "code",
   "execution_count": 85,
   "id": "40219faf-2267-4d65-ac1d-596fb2ff695c",
   "metadata": {},
   "outputs": [],
   "source": [
    "import seaborn as sns\n",
    "import pandas as pd\n",
    "import numpy as np\n",
    "import matplotlib.pyplot as plt\n",
    "\n",
    "from sklearn.cluster import KMeans\n",
    "from sklearn.preprocessing import StandardScaler\n",
    "from sklearn.decomposition import PCA"
   ]
  },
  {
   "cell_type": "code",
   "execution_count": 101,
   "id": "b20dc4e2-4849-4405-9c01-97853981f1a4",
   "metadata": {},
   "outputs": [
    {
     "data": {
      "text/html": [
       "<div>\n",
       "<style scoped>\n",
       "    .dataframe tbody tr th:only-of-type {\n",
       "        vertical-align: middle;\n",
       "    }\n",
       "\n",
       "    .dataframe tbody tr th {\n",
       "        vertical-align: top;\n",
       "    }\n",
       "\n",
       "    .dataframe thead th {\n",
       "        text-align: right;\n",
       "    }\n",
       "</style>\n",
       "<table border=\"1\" class=\"dataframe\">\n",
       "  <thead>\n",
       "    <tr style=\"text-align: right;\">\n",
       "      <th></th>\n",
       "      <th>user</th>\n",
       "      <th>Database</th>\n",
       "      <th>Python</th>\n",
       "      <th>CloudComputing</th>\n",
       "      <th>DataAnalysis</th>\n",
       "      <th>Containers</th>\n",
       "      <th>MachineLearning</th>\n",
       "      <th>ComputerVision</th>\n",
       "      <th>DataScience</th>\n",
       "      <th>BigData</th>\n",
       "      <th>Chatbot</th>\n",
       "      <th>R</th>\n",
       "      <th>BackendDev</th>\n",
       "      <th>FrontendDev</th>\n",
       "      <th>Blockchain</th>\n",
       "    </tr>\n",
       "  </thead>\n",
       "  <tbody>\n",
       "    <tr>\n",
       "      <th>0</th>\n",
       "      <td>2</td>\n",
       "      <td>52.0</td>\n",
       "      <td>14.0</td>\n",
       "      <td>6.0</td>\n",
       "      <td>43.0</td>\n",
       "      <td>3.0</td>\n",
       "      <td>33.0</td>\n",
       "      <td>0.0</td>\n",
       "      <td>29.0</td>\n",
       "      <td>41.0</td>\n",
       "      <td>2.0</td>\n",
       "      <td>18.0</td>\n",
       "      <td>34.0</td>\n",
       "      <td>9.0</td>\n",
       "      <td>6.0</td>\n",
       "    </tr>\n",
       "    <tr>\n",
       "      <th>1</th>\n",
       "      <td>4</td>\n",
       "      <td>40.0</td>\n",
       "      <td>2.0</td>\n",
       "      <td>4.0</td>\n",
       "      <td>28.0</td>\n",
       "      <td>0.0</td>\n",
       "      <td>14.0</td>\n",
       "      <td>0.0</td>\n",
       "      <td>20.0</td>\n",
       "      <td>24.0</td>\n",
       "      <td>0.0</td>\n",
       "      <td>6.0</td>\n",
       "      <td>6.0</td>\n",
       "      <td>0.0</td>\n",
       "      <td>2.0</td>\n",
       "    </tr>\n",
       "    <tr>\n",
       "      <th>2</th>\n",
       "      <td>5</td>\n",
       "      <td>24.0</td>\n",
       "      <td>8.0</td>\n",
       "      <td>18.0</td>\n",
       "      <td>24.0</td>\n",
       "      <td>0.0</td>\n",
       "      <td>30.0</td>\n",
       "      <td>0.0</td>\n",
       "      <td>22.0</td>\n",
       "      <td>14.0</td>\n",
       "      <td>2.0</td>\n",
       "      <td>14.0</td>\n",
       "      <td>26.0</td>\n",
       "      <td>4.0</td>\n",
       "      <td>6.0</td>\n",
       "    </tr>\n",
       "    <tr>\n",
       "      <th>3</th>\n",
       "      <td>7</td>\n",
       "      <td>2.0</td>\n",
       "      <td>0.0</td>\n",
       "      <td>0.0</td>\n",
       "      <td>2.0</td>\n",
       "      <td>0.0</td>\n",
       "      <td>0.0</td>\n",
       "      <td>0.0</td>\n",
       "      <td>0.0</td>\n",
       "      <td>2.0</td>\n",
       "      <td>0.0</td>\n",
       "      <td>0.0</td>\n",
       "      <td>0.0</td>\n",
       "      <td>0.0</td>\n",
       "      <td>0.0</td>\n",
       "    </tr>\n",
       "    <tr>\n",
       "      <th>4</th>\n",
       "      <td>8</td>\n",
       "      <td>6.0</td>\n",
       "      <td>0.0</td>\n",
       "      <td>0.0</td>\n",
       "      <td>4.0</td>\n",
       "      <td>0.0</td>\n",
       "      <td>0.0</td>\n",
       "      <td>0.0</td>\n",
       "      <td>0.0</td>\n",
       "      <td>6.0</td>\n",
       "      <td>0.0</td>\n",
       "      <td>2.0</td>\n",
       "      <td>0.0</td>\n",
       "      <td>0.0</td>\n",
       "      <td>0.0</td>\n",
       "    </tr>\n",
       "  </tbody>\n",
       "</table>\n",
       "</div>"
      ],
      "text/plain": [
       "   user  Database  Python  CloudComputing  DataAnalysis  Containers  \\\n",
       "0     2      52.0    14.0             6.0          43.0         3.0   \n",
       "1     4      40.0     2.0             4.0          28.0         0.0   \n",
       "2     5      24.0     8.0            18.0          24.0         0.0   \n",
       "3     7       2.0     0.0             0.0           2.0         0.0   \n",
       "4     8       6.0     0.0             0.0           4.0         0.0   \n",
       "\n",
       "   MachineLearning  ComputerVision  DataScience  BigData  Chatbot     R  \\\n",
       "0             33.0             0.0         29.0     41.0      2.0  18.0   \n",
       "1             14.0             0.0         20.0     24.0      0.0   6.0   \n",
       "2             30.0             0.0         22.0     14.0      2.0  14.0   \n",
       "3              0.0             0.0          0.0      2.0      0.0   0.0   \n",
       "4              0.0             0.0          0.0      6.0      0.0   2.0   \n",
       "\n",
       "   BackendDev  FrontendDev  Blockchain  \n",
       "0        34.0          9.0         6.0  \n",
       "1         6.0          0.0         2.0  \n",
       "2        26.0          4.0         6.0  \n",
       "3         0.0          0.0         0.0  \n",
       "4         0.0          0.0         0.0  "
      ]
     },
     "execution_count": 101,
     "metadata": {},
     "output_type": "execute_result"
    }
   ],
   "source": [
    "user_profile_df = pd.read_csv('../data/user_profile.csv')\n",
    "user_profile_df.head()"
   ]
  },
  {
   "cell_type": "markdown",
   "id": "79cfc36a-add7-42af-a553-ca0b4825a51e",
   "metadata": {},
   "source": [
    "## 1. PCA Dimensionality Reduction of User Profiles"
   ]
  },
  {
   "cell_type": "code",
   "execution_count": 88,
   "id": "f6606bc8-7678-4428-ac9f-eb6c456dff30",
   "metadata": {},
   "outputs": [],
   "source": [
    "# Extract user features + scale them\n",
    "feature_names = list(user_profile_df.columns[1:])\n",
    "scaler = StandardScaler()\n",
    "user_profile_df[feature_names] = scaler.fit_transform(user_profile_df[feature_names])\n",
    "features = user_profile_df.loc[:, user_profile_df.columns != 'user']\n",
    "user_ids = user_profile_df.loc[:, user_profile_df.columns == 'user']"
   ]
  },
  {
   "cell_type": "code",
   "execution_count": 89,
   "id": "b90f3400-06f6-47a2-b258-acc0e985dca8",
   "metadata": {},
   "outputs": [
    {
     "data": {
      "image/png": "[encoded data removed]",
      "text/plain": [
       "<Figure size 792x648 with 2 Axes>"
      ]
     },
     "metadata": {},
     "output_type": "display_data"
    }
   ],
   "source": [
    "# Plot correlations between features: there are many\n",
    "# thus, applying PCA makes sense\n",
    "sns.set_theme(style=\"white\")\n",
    "\n",
    "# Compute the correlation matrix\n",
    "corr = features.cov()\n",
    "\n",
    "# Generate a mask for the upper triangle\n",
    "mask = np.triu(np.ones_like(corr, dtype=bool))\n",
    "\n",
    "# Set up the matplotlib figure\n",
    "f, ax = plt.subplots(figsize=(11, 9))\n",
    "\n",
    "# Generate a custom diverging colormap\n",
    "cmap = sns.diverging_palette(230, 20, as_cmap=True)\n",
    "\n",
    "# Draw the heatmap with the mask and correct aspect ratio\n",
    "sns.heatmap(corr, mask=mask, cmap=cmap, vmax=.3, center=0,\n",
    "            square=True, linewidths=.5, cbar_kws={\"shrink\": .5})\n",
    "\n",
    "\n",
    "plt.show()"
   ]
  },
  {
   "cell_type": "code",
   "execution_count": 91,
   "id": "d6752224-c8a2-47f8-96f9-b408f88145b9",
   "metadata": {},
   "outputs": [],
   "source": [
    "# PCA applied to user profiles\n",
    "pca = PCA(n_components = features.shape[1])\n",
    "features_pca = pca.fit_transform(features)\n",
    "\n",
    "# Explained variance of each principal component\n",
    "explained_variance = pca.explained_variance_ratio_\n",
    "\n",
    "# Sum all explained variances until 95% is reached;\n",
    "# how many components do we need?\n",
    "cumsum = np.cumsum(pca.explained_variance_ratio_)\n",
    "d = np.argmax(cumsum >=0.90) + 1"
   ]
  },
  {
   "cell_type": "code",
   "execution_count": 92,
   "id": "25b2c698-0303-427d-92ea-1300556aa7e6",
   "metadata": {},
   "outputs": [
    {
     "data": {
      "text/plain": [
       "array([0.28756843, 0.46309256, 0.57613396, 0.64874656, 0.71948788,\n",
       "       0.78821034, 0.84295585, 0.89444455, 0.92726956, 0.95446582,\n",
       "       0.97335721, 0.98703108, 0.99791632, 1.        ])"
      ]
     },
     "execution_count": 92,
     "metadata": {},
     "output_type": "execute_result"
    }
   ],
   "source": [
    "# Accumulated variances for each number of components\n",
    "cumsum"
   ]
  },
  {
   "cell_type": "code",
   "execution_count": 93,
   "id": "34020520-7b50-44ee-82d7-02bacf5ee201",
   "metadata": {},
   "outputs": [
    {
     "data": {
      "text/plain": [
       "9"
      ]
     },
     "execution_count": 93,
     "metadata": {},
     "output_type": "execute_result"
    }
   ],
   "source": [
    "# Number of components to have at least 90% of variance explained\n",
    "d"
   ]
  },
  {
   "cell_type": "code",
   "execution_count": 94,
   "id": "974d19ca-9fd1-4e6a-8822-745ad0f88dfa",
   "metadata": {},
   "outputs": [
    {
     "data": {
      "text/plain": [
       "[<matplotlib.lines.Line2D at 0x7ff1dab4d050>]"
      ]
     },
     "execution_count": 94,
     "metadata": {},
     "output_type": "execute_result"
    },
    {
     "data": {
      "image/png": "[encoded data removed]",
      "text/plain": [
       "<Figure size 432x288 with 1 Axes>"
      ]
     },
     "metadata": {},
     "output_type": "display_data"
    }
   ],
   "source": [
    "# Plot explained varianve accumulation\n",
    "component_variance_df = pd.DataFrame(data=cumsum.ravel(), columns=['variance'])\n",
    "component_variance_df['components'] = range(1,features.shape[1]+1)\n",
    "bplot = sns.barplot(data=component_variance_df, x='components', y = 'variance')\n",
    "plt.plot([0,features.shape[1]], [0.9, 0.9])"
   ]
  },
  {
   "cell_type": "code",
   "execution_count": 95,
   "id": "3b314fd9-a7e3-4e2b-bd50-d6c892a79219",
   "metadata": {},
   "outputs": [
    {
     "data": {
      "text/html": [
       "<div>\n",
       "<style scoped>\n",
       "    .dataframe tbody tr th:only-of-type {\n",
       "        vertical-align: middle;\n",
       "    }\n",
       "\n",
       "    .dataframe tbody tr th {\n",
       "        vertical-align: top;\n",
       "    }\n",
       "\n",
       "    .dataframe thead th {\n",
       "        text-align: right;\n",
       "    }\n",
       "</style>\n",
       "<table border=\"1\" class=\"dataframe\">\n",
       "  <thead>\n",
       "    <tr style=\"text-align: right;\">\n",
       "      <th></th>\n",
       "      <th>user</th>\n",
       "      <th>PC0</th>\n",
       "      <th>PC1</th>\n",
       "      <th>PC2</th>\n",
       "      <th>PC3</th>\n",
       "      <th>PC4</th>\n",
       "      <th>PC5</th>\n",
       "      <th>PC6</th>\n",
       "      <th>PC7</th>\n",
       "      <th>PC8</th>\n",
       "    </tr>\n",
       "  </thead>\n",
       "  <tbody>\n",
       "    <tr>\n",
       "      <th>0</th>\n",
       "      <td>2</td>\n",
       "      <td>17.772494</td>\n",
       "      <td>0.200681</td>\n",
       "      <td>1.730609</td>\n",
       "      <td>2.567359</td>\n",
       "      <td>-3.825814</td>\n",
       "      <td>2.707154</td>\n",
       "      <td>0.681042</td>\n",
       "      <td>2.312613</td>\n",
       "      <td>0.868272</td>\n",
       "    </tr>\n",
       "    <tr>\n",
       "      <th>1</th>\n",
       "      <td>4</td>\n",
       "      <td>7.145199</td>\n",
       "      <td>-2.847481</td>\n",
       "      <td>2.358636</td>\n",
       "      <td>-0.576654</td>\n",
       "      <td>0.398803</td>\n",
       "      <td>-0.134533</td>\n",
       "      <td>0.549769</td>\n",
       "      <td>0.469033</td>\n",
       "      <td>0.033405</td>\n",
       "    </tr>\n",
       "    <tr>\n",
       "      <th>2</th>\n",
       "      <td>5</td>\n",
       "      <td>11.363270</td>\n",
       "      <td>1.873619</td>\n",
       "      <td>-1.522077</td>\n",
       "      <td>1.076144</td>\n",
       "      <td>-1.711688</td>\n",
       "      <td>0.883212</td>\n",
       "      <td>1.677582</td>\n",
       "      <td>2.937669</td>\n",
       "      <td>2.097639</td>\n",
       "    </tr>\n",
       "    <tr>\n",
       "      <th>3</th>\n",
       "      <td>7</td>\n",
       "      <td>-1.834033</td>\n",
       "      <td>-0.277462</td>\n",
       "      <td>0.564905</td>\n",
       "      <td>0.053470</td>\n",
       "      <td>-0.064440</td>\n",
       "      <td>0.165757</td>\n",
       "      <td>0.030956</td>\n",
       "      <td>0.039519</td>\n",
       "      <td>0.210887</td>\n",
       "    </tr>\n",
       "    <tr>\n",
       "      <th>4</th>\n",
       "      <td>8</td>\n",
       "      <td>-1.049125</td>\n",
       "      <td>-0.684767</td>\n",
       "      <td>1.072765</td>\n",
       "      <td>0.006371</td>\n",
       "      <td>-0.005695</td>\n",
       "      <td>0.118686</td>\n",
       "      <td>0.118559</td>\n",
       "      <td>0.559292</td>\n",
       "      <td>0.186379</td>\n",
       "    </tr>\n",
       "  </tbody>\n",
       "</table>\n",
       "</div>"
      ],
      "text/plain": [
       "   user        PC0       PC1       PC2       PC3       PC4       PC5  \\\n",
       "0     2  17.772494  0.200681  1.730609  2.567359 -3.825814  2.707154   \n",
       "1     4   7.145199 -2.847481  2.358636 -0.576654  0.398803 -0.134533   \n",
       "2     5  11.363270  1.873619 -1.522077  1.076144 -1.711688  0.883212   \n",
       "3     7  -1.834033 -0.277462  0.564905  0.053470 -0.064440  0.165757   \n",
       "4     8  -1.049125 -0.684767  1.072765  0.006371 -0.005695  0.118686   \n",
       "\n",
       "        PC6       PC7       PC8  \n",
       "0  0.681042  2.312613  0.868272  \n",
       "1  0.549769  0.469033  0.033405  \n",
       "2  1.677582  2.937669  2.097639  \n",
       "3  0.030956  0.039519  0.210887  \n",
       "4  0.118559  0.559292  0.186379  "
      ]
     },
     "execution_count": 95,
     "metadata": {},
     "output_type": "execute_result"
    }
   ],
   "source": [
    "# New user profiles\n",
    "features_pca_df = pd.DataFrame(data=features_pca[:,:d])\n",
    "features_pca_df.columns = ['PC'+str(v) for v in range(d)]\n",
    "features_pca_df = pd.concat([user_ids, features_pca_df], axis=1)\n",
    "features_pca_df.head()"
   ]
  },
  {
   "cell_type": "markdown",
   "id": "9c042fec-b051-44d9-b213-e0ce7055cf9f",
   "metadata": {},
   "source": [
    "## 2. K-Means Clustering of User Profiles"
   ]
  },
  {
   "cell_type": "code",
   "execution_count": 96,
   "id": "5161733f-f2d5-4dfe-bac9-16713cfc22b0",
   "metadata": {},
   "outputs": [
    {
     "data": {
      "image/png": "[encoded data removed]",
      "text/plain": [
       "<Figure size 432x288 with 1 Axes>"
      ]
     },
     "metadata": {},
     "output_type": "display_data"
    }
   ],
   "source": [
    "# Apply K-Means with Elbow method to get optimal number of clusters\n",
    "inertia = []\n",
    "clusters = list(range(2,30))\n",
    "for k in clusters:\n",
    "    kmeans = KMeans(n_clusters=k,\n",
    "                    init='k-means++',\n",
    "                    random_state=101) # always define it!\n",
    "    kmeans.fit(features_pca[:,:d])\n",
    "    inertia.append(kmeans.inertia_)\n",
    "# Plot k vs inertia\n",
    "plt.plot(clusters,inertia)\n",
    "plt.scatter(clusters,inertia)\n",
    "plt.xlabel('Number of Clusters, k')\n",
    "plt.ylabel('Inertia');"
   ]
  },
  {
   "cell_type": "code",
   "execution_count": 97,
   "id": "611ac22a-2381-4307-b041-2539ec912e6a",
   "metadata": {},
   "outputs": [],
   "source": [
    "# Selected number of clusters\n",
    "kmeans = KMeans(n_clusters=11, # 9\n",
    "                init='k-means++',\n",
    "                random_state=rs) # always define it!\n",
    "# Fit dataset\n",
    "kmeans.fit(features)\n",
    "cluster_labels = kmeans.labels_"
   ]
  },
  {
   "cell_type": "code",
   "execution_count": 102,
   "id": "91475dd5-990a-4f80-b617-4d595f843021",
   "metadata": {},
   "outputs": [],
   "source": [
    "# JOIN user id and cluster\n",
    "def combine_cluster_labels(user_ids, cluster_labels):\n",
    "    labels_df = pd.DataFrame(cluster_labels)\n",
    "    cluster_df = pd.merge(user_ids, labels_df, left_index=True, right_index=True)\n",
    "    cluster_df.columns = ['user', 'cluster']\n",
    "    return cluster_df"
   ]
  },
  {
   "cell_type": "code",
   "execution_count": 99,
   "id": "98dd16cd-12ec-4b49-97e3-b2781add36d0",
   "metadata": {},
   "outputs": [],
   "source": [
    "cluster_df = combine_cluster_labels(user_ids, cluster_labels)"
   ]
  },
  {
   "cell_type": "code",
   "execution_count": 100,
   "id": "a497c27d-67a1-4000-9e08-0642714926b1",
   "metadata": {},
   "outputs": [
    {
     "data": {
      "text/html": [
       "<div>\n",
       "<style scoped>\n",
       "    .dataframe tbody tr th:only-of-type {\n",
       "        vertical-align: middle;\n",
       "    }\n",
       "\n",
       "    .dataframe tbody tr th {\n",
       "        vertical-align: top;\n",
       "    }\n",
       "\n",
       "    .dataframe thead th {\n",
       "        text-align: right;\n",
       "    }\n",
       "</style>\n",
       "<table border=\"1\" class=\"dataframe\">\n",
       "  <thead>\n",
       "    <tr style=\"text-align: right;\">\n",
       "      <th></th>\n",
       "      <th>user</th>\n",
       "      <th>cluster</th>\n",
       "    </tr>\n",
       "  </thead>\n",
       "  <tbody>\n",
       "    <tr>\n",
       "      <th>0</th>\n",
       "      <td>2</td>\n",
       "      <td>4</td>\n",
       "    </tr>\n",
       "    <tr>\n",
       "      <th>1</th>\n",
       "      <td>4</td>\n",
       "      <td>2</td>\n",
       "    </tr>\n",
       "    <tr>\n",
       "      <th>2</th>\n",
       "      <td>5</td>\n",
       "      <td>4</td>\n",
       "    </tr>\n",
       "    <tr>\n",
       "      <th>3</th>\n",
       "      <td>7</td>\n",
       "      <td>1</td>\n",
       "    </tr>\n",
       "    <tr>\n",
       "      <th>4</th>\n",
       "      <td>8</td>\n",
       "      <td>1</td>\n",
       "    </tr>\n",
       "  </tbody>\n",
       "</table>\n",
       "</div>"
      ],
      "text/plain": [
       "   user  cluster\n",
       "0     2        4\n",
       "1     4        2\n",
       "2     5        4\n",
       "3     7        1\n",
       "4     8        1"
      ]
     },
     "execution_count": 100,
     "metadata": {},
     "output_type": "execute_result"
    }
   ],
   "source": [
    "cluster_df.head()"
   ]
  },
  {
   "cell_type": "markdown",
   "id": "09ddb349-b572-47ed-a6a2-2f2934fe52ae",
   "metadata": {},
   "source": [
    "## 3. Generate Course Recommendations Based on the Popular Courses in the Same Cluster"
   ]
  },
  {
   "cell_type": "code",
   "execution_count": 103,
   "id": "29390ff4-ec9e-46a1-8e87-e524b9aa6fef",
   "metadata": {},
   "outputs": [
    {
     "data": {
      "text/html": [
       "<div>\n",
       "<style scoped>\n",
       "    .dataframe tbody tr th:only-of-type {\n",
       "        vertical-align: middle;\n",
       "    }\n",
       "\n",
       "    .dataframe tbody tr th {\n",
       "        vertical-align: top;\n",
       "    }\n",
       "\n",
       "    .dataframe thead th {\n",
       "        text-align: right;\n",
       "    }\n",
       "</style>\n",
       "<table border=\"1\" class=\"dataframe\">\n",
       "  <thead>\n",
       "    <tr style=\"text-align: right;\">\n",
       "      <th></th>\n",
       "      <th>user</th>\n",
       "      <th>item</th>\n",
       "    </tr>\n",
       "  </thead>\n",
       "  <tbody>\n",
       "    <tr>\n",
       "      <th>0</th>\n",
       "      <td>1502801</td>\n",
       "      <td>RP0105EN</td>\n",
       "    </tr>\n",
       "    <tr>\n",
       "      <th>1</th>\n",
       "      <td>1609720</td>\n",
       "      <td>CNSC02EN</td>\n",
       "    </tr>\n",
       "    <tr>\n",
       "      <th>2</th>\n",
       "      <td>1347188</td>\n",
       "      <td>CO0301EN</td>\n",
       "    </tr>\n",
       "    <tr>\n",
       "      <th>3</th>\n",
       "      <td>755067</td>\n",
       "      <td>ML0103EN</td>\n",
       "    </tr>\n",
       "    <tr>\n",
       "      <th>4</th>\n",
       "      <td>538595</td>\n",
       "      <td>BD0115EN</td>\n",
       "    </tr>\n",
       "  </tbody>\n",
       "</table>\n",
       "</div>"
      ],
      "text/plain": [
       "      user      item\n",
       "0  1502801  RP0105EN\n",
       "1  1609720  CNSC02EN\n",
       "2  1347188  CO0301EN\n",
       "3   755067  ML0103EN\n",
       "4   538595  BD0115EN"
      ]
     },
     "execution_count": 103,
     "metadata": {},
     "output_type": "execute_result"
    }
   ],
   "source": [
    "test_users_df = pd.read_csv('../data/rs_content_test.csv')[['user', 'item']]\n",
    "test_users_df.head()"
   ]
  },
  {
   "cell_type": "code",
   "execution_count": 104,
   "id": "0ab1e31e-343e-4d9a-a621-1235ab4d6be4",
   "metadata": {},
   "outputs": [],
   "source": [
    "# We perform a JOIN to assing to each test user his/her cluster\n",
    "test_users_labelled = pd.merge(test_users_df, cluster_df, left_on='user', right_on='user')"
   ]
  },
  {
   "cell_type": "code",
   "execution_count": 105,
   "id": "a0207d5d-895e-4639-b596-a569793620f5",
   "metadata": {},
   "outputs": [
    {
     "data": {
      "text/html": [
       "<div>\n",
       "<style scoped>\n",
       "    .dataframe tbody tr th:only-of-type {\n",
       "        vertical-align: middle;\n",
       "    }\n",
       "\n",
       "    .dataframe tbody tr th {\n",
       "        vertical-align: top;\n",
       "    }\n",
       "\n",
       "    .dataframe thead th {\n",
       "        text-align: right;\n",
       "    }\n",
       "</style>\n",
       "<table border=\"1\" class=\"dataframe\">\n",
       "  <thead>\n",
       "    <tr style=\"text-align: right;\">\n",
       "      <th></th>\n",
       "      <th>user</th>\n",
       "      <th>item</th>\n",
       "      <th>cluster</th>\n",
       "    </tr>\n",
       "  </thead>\n",
       "  <tbody>\n",
       "    <tr>\n",
       "      <th>0</th>\n",
       "      <td>1502801</td>\n",
       "      <td>RP0105EN</td>\n",
       "      <td>3</td>\n",
       "    </tr>\n",
       "    <tr>\n",
       "      <th>1</th>\n",
       "      <td>1502801</td>\n",
       "      <td>BD0131EN</td>\n",
       "      <td>3</td>\n",
       "    </tr>\n",
       "    <tr>\n",
       "      <th>2</th>\n",
       "      <td>1502801</td>\n",
       "      <td>BD0212EN</td>\n",
       "      <td>3</td>\n",
       "    </tr>\n",
       "    <tr>\n",
       "      <th>3</th>\n",
       "      <td>1502801</td>\n",
       "      <td>BD0115EN</td>\n",
       "      <td>3</td>\n",
       "    </tr>\n",
       "    <tr>\n",
       "      <th>4</th>\n",
       "      <td>1502801</td>\n",
       "      <td>BD0211EN</td>\n",
       "      <td>3</td>\n",
       "    </tr>\n",
       "  </tbody>\n",
       "</table>\n",
       "</div>"
      ],
      "text/plain": [
       "      user      item  cluster\n",
       "0  1502801  RP0105EN        3\n",
       "1  1502801  BD0131EN        3\n",
       "2  1502801  BD0212EN        3\n",
       "3  1502801  BD0115EN        3\n",
       "4  1502801  BD0211EN        3"
      ]
     },
     "execution_count": 105,
     "metadata": {},
     "output_type": "execute_result"
    }
   ],
   "source": [
    "test_users_labelled.head()"
   ]
  },
  {
   "cell_type": "code",
   "execution_count": 106,
   "id": "bd47a20a-1453-4979-86d5-0f5233458b7b",
   "metadata": {},
   "outputs": [],
   "source": [
    "courses_cluster = test_users_labelled[['item', 'cluster']]\n",
    "courses_cluster['count'] = [1] * len(courses_cluster)\n",
    "# For each cluster and course (item), the number of enrollments\n",
    "courses_cluster = courses_cluster.groupby(['cluster','item']).agg(enrollments = ('count','sum')).reset_index()"
   ]
  },
  {
   "cell_type": "code",
   "execution_count": 107,
   "id": "2c071c88-c6bb-4015-b9e4-f5266eaf8a27",
   "metadata": {},
   "outputs": [
    {
     "data": {
      "text/html": [
       "<div>\n",
       "<style scoped>\n",
       "    .dataframe tbody tr th:only-of-type {\n",
       "        vertical-align: middle;\n",
       "    }\n",
       "\n",
       "    .dataframe tbody tr th {\n",
       "        vertical-align: top;\n",
       "    }\n",
       "\n",
       "    .dataframe thead th {\n",
       "        text-align: right;\n",
       "    }\n",
       "</style>\n",
       "<table border=\"1\" class=\"dataframe\">\n",
       "  <thead>\n",
       "    <tr style=\"text-align: right;\">\n",
       "      <th></th>\n",
       "      <th>cluster</th>\n",
       "      <th>item</th>\n",
       "      <th>enrollments</th>\n",
       "    </tr>\n",
       "  </thead>\n",
       "  <tbody>\n",
       "    <tr>\n",
       "      <th>0</th>\n",
       "      <td>0</td>\n",
       "      <td>BC0101EN</td>\n",
       "      <td>8</td>\n",
       "    </tr>\n",
       "    <tr>\n",
       "      <th>1</th>\n",
       "      <td>0</td>\n",
       "      <td>BC0201EN</td>\n",
       "      <td>3</td>\n",
       "    </tr>\n",
       "    <tr>\n",
       "      <th>2</th>\n",
       "      <td>0</td>\n",
       "      <td>BD0101EN</td>\n",
       "      <td>7</td>\n",
       "    </tr>\n",
       "    <tr>\n",
       "      <th>3</th>\n",
       "      <td>0</td>\n",
       "      <td>BD0111EN</td>\n",
       "      <td>4</td>\n",
       "    </tr>\n",
       "    <tr>\n",
       "      <th>4</th>\n",
       "      <td>0</td>\n",
       "      <td>BD0115EN</td>\n",
       "      <td>2</td>\n",
       "    </tr>\n",
       "  </tbody>\n",
       "</table>\n",
       "</div>"
      ],
      "text/plain": [
       "   cluster      item  enrollments\n",
       "0        0  BC0101EN            8\n",
       "1        0  BC0201EN            3\n",
       "2        0  BD0101EN            7\n",
       "3        0  BD0111EN            4\n",
       "4        0  BD0115EN            2"
      ]
     },
     "execution_count": 107,
     "metadata": {},
     "output_type": "execute_result"
    }
   ],
   "source": [
    "courses_cluster.head()"
   ]
  },
  {
   "cell_type": "code",
   "execution_count": 108,
   "id": "376585a5-9348-4ce3-b8a7-64cb01122a8e",
   "metadata": {},
   "outputs": [
    {
     "data": {
      "text/plain": [
       "<AxesSubplot:ylabel='Frequency'>"
      ]
     },
     "execution_count": 108,
     "metadata": {},
     "output_type": "execute_result"
    },
    {
     "data": {
      "image/png": "[encoded data removed]",
      "text/plain": [
       "<Figure size 432x288 with 1 Axes>"
      ]
     },
     "metadata": {},
     "output_type": "display_data"
    }
   ],
   "source": [
    "courses_cluster['enrollments'].plot(kind='hist', bins=50)"
   ]
  },
  {
   "cell_type": "code",
   "execution_count": 110,
   "id": "4b76c836-b087-4d83-bd05-f6678418dd3f",
   "metadata": {},
   "outputs": [],
   "source": [
    "course_df = pd.read_csv('../data/course_processed.csv')\n",
    "all_courses = set(course_df['COURSE_ID'])\n",
    "enrollments_threshold = 75"
   ]
  },
  {
   "cell_type": "code",
   "execution_count": 111,
   "id": "531a5f4e-ad7a-40b7-a083-22e85edba598",
   "metadata": {},
   "outputs": [],
   "source": [
    "# For each user, first finds its cluster label\n",
    "# First get all courses belonging to the same cluster and figure out\n",
    "# what are the popular ones (such as course enrollments beyond a threshold like 100)\n",
    "# Get the user's current enrolled courses\n",
    "# Check if there are any courses on the popular course list which are new/unseen to the user. \n",
    "# If yes, make those unseen and popular courses as recommendation results for the user\n",
    "users = []\n",
    "courses = []\n",
    "clusters = []\n",
    "for user in cluster_df['user'].to_list():\n",
    "    cluster = cluster_df[cluster_df.user == user]['cluster'].unique()[0]\n",
    "    enrolled_courses_ids = test_users_labelled[test_users_labelled.user == user].item.to_list()\n",
    "    unselected_course_ids = all_courses.difference(enrolled_courses_ids)\n",
    "    candidate_courses = courses_cluster[(courses_cluster.cluster == cluster) &\n",
    "                                        (courses_cluster.enrollments > enrollments_threshold)]['item'].to_list()\n",
    "    for course in unselected_course_ids:\n",
    "        if course in candidate_courses:\n",
    "            users.append(user)\n",
    "            courses.append(course)\n",
    "            clusters.append(cluster)"
   ]
  },
  {
   "cell_type": "code",
   "execution_count": 112,
   "id": "2a6d1bd5-6405-4e8e-9c0c-b148c7947f28",
   "metadata": {},
   "outputs": [],
   "source": [
    "recommended_courses = pd.DataFrame(data=users, columns = ['user'])\n",
    "recommended_courses['cluster'] = clusters\n",
    "recommended_courses['course'] = courses"
   ]
  },
  {
   "cell_type": "code",
   "execution_count": 114,
   "id": "aabe4149-c39f-412f-a602-589a8e832c70",
   "metadata": {},
   "outputs": [
    {
     "data": {
      "text/html": [
       "<div>\n",
       "<style scoped>\n",
       "    .dataframe tbody tr th:only-of-type {\n",
       "        vertical-align: middle;\n",
       "    }\n",
       "\n",
       "    .dataframe tbody tr th {\n",
       "        vertical-align: top;\n",
       "    }\n",
       "\n",
       "    .dataframe thead th {\n",
       "        text-align: right;\n",
       "    }\n",
       "</style>\n",
       "<table border=\"1\" class=\"dataframe\">\n",
       "  <thead>\n",
       "    <tr style=\"text-align: right;\">\n",
       "      <th></th>\n",
       "      <th>user</th>\n",
       "      <th>cluster</th>\n",
       "      <th>course</th>\n",
       "    </tr>\n",
       "  </thead>\n",
       "  <tbody>\n",
       "    <tr>\n",
       "      <th>0</th>\n",
       "      <td>7</td>\n",
       "      <td>1</td>\n",
       "      <td>BD0101EN</td>\n",
       "    </tr>\n",
       "    <tr>\n",
       "      <th>1</th>\n",
       "      <td>7</td>\n",
       "      <td>1</td>\n",
       "      <td>DS0101EN</td>\n",
       "    </tr>\n",
       "    <tr>\n",
       "      <th>2</th>\n",
       "      <td>7</td>\n",
       "      <td>1</td>\n",
       "      <td>PY0101EN</td>\n",
       "    </tr>\n",
       "    <tr>\n",
       "      <th>3</th>\n",
       "      <td>8</td>\n",
       "      <td>1</td>\n",
       "      <td>BD0101EN</td>\n",
       "    </tr>\n",
       "    <tr>\n",
       "      <th>4</th>\n",
       "      <td>8</td>\n",
       "      <td>1</td>\n",
       "      <td>DS0101EN</td>\n",
       "    </tr>\n",
       "    <tr>\n",
       "      <th>5</th>\n",
       "      <td>8</td>\n",
       "      <td>1</td>\n",
       "      <td>PY0101EN</td>\n",
       "    </tr>\n",
       "    <tr>\n",
       "      <th>6</th>\n",
       "      <td>9</td>\n",
       "      <td>3</td>\n",
       "      <td>BD0101EN</td>\n",
       "    </tr>\n",
       "    <tr>\n",
       "      <th>7</th>\n",
       "      <td>9</td>\n",
       "      <td>3</td>\n",
       "      <td>BD0111EN</td>\n",
       "    </tr>\n",
       "    <tr>\n",
       "      <th>8</th>\n",
       "      <td>9</td>\n",
       "      <td>3</td>\n",
       "      <td>BD0211EN</td>\n",
       "    </tr>\n",
       "    <tr>\n",
       "      <th>9</th>\n",
       "      <td>9</td>\n",
       "      <td>3</td>\n",
       "      <td>BD0115EN</td>\n",
       "    </tr>\n",
       "  </tbody>\n",
       "</table>\n",
       "</div>"
      ],
      "text/plain": [
       "   user  cluster    course\n",
       "0     7        1  BD0101EN\n",
       "1     7        1  DS0101EN\n",
       "2     7        1  PY0101EN\n",
       "3     8        1  BD0101EN\n",
       "4     8        1  DS0101EN\n",
       "5     8        1  PY0101EN\n",
       "6     9        3  BD0101EN\n",
       "7     9        3  BD0111EN\n",
       "8     9        3  BD0211EN\n",
       "9     9        3  BD0115EN"
      ]
     },
     "execution_count": 114,
     "metadata": {},
     "output_type": "execute_result"
    }
   ],
   "source": [
    "# Courses recommended to eeach test user\n",
    "# based on the cluster they belong to\n",
    "# and their most visited courses in that cluster\n",
    "# that were still not attended by them\n",
    "recommended_courses.head(10)"
   ]
  },
  {
   "cell_type": "code",
   "execution_count": 167,
   "id": "bb430312-2f96-486c-8586-2830b0ee6960",
   "metadata": {},
   "outputs": [
    {
     "data": {
      "text/plain": [
       "2.9663975492229633"
      ]
     },
     "execution_count": 167,
     "metadata": {},
     "output_type": "execute_result"
    }
   ],
   "source": [
    "# On average, how many new courses have been recommended per test user?\n",
    "recommended_courses.groupby('user')['course'].count().mean()"
   ]
  },
  {
   "cell_type": "code",
   "execution_count": 168,
   "id": "a64a6a04-fe55-4d8c-bbd1-c009c42c10ee",
   "metadata": {},
   "outputs": [
    {
     "data": {
      "text/plain": [
       "course\n",
       "PY0101EN      18517\n",
       "DS0101EN      15561\n",
       "BD0101EN      14381\n",
       "ML0115EN       5249\n",
       "DV0101EN       5223\n",
       "ML0101ENv3     5213\n",
       "DA0101EN       5195\n",
       "BD0115EN       4079\n",
       "BD0211EN       4041\n",
       "BD0111EN       4019\n",
       "Name: user, dtype: int64"
      ]
     },
     "execution_count": 168,
     "metadata": {},
     "output_type": "execute_result"
    }
   ],
   "source": [
    "# What are the most frequently recommended courses?\n",
    "# Return the top-10 commonly recommended courses across all test users.\n",
    "recommended_courses.groupby('course').count()['user'].sort_values(ascending=False)[:10]"
   ]
  },
  {
   "cell_type": "code",
   "execution_count": null,
   "id": "8d9fecc3-9f85-461c-8370-dbf47ac6786c",
   "metadata": {},
   "outputs": [],
   "source": []
  }
 ],
 "metadata": {
  "kernelspec": {
   "display_name": "Python 3 (ipykernel)",
   "language": "python",
   "name": "python3"
  },
  "language_info": {
   "codemirror_mode": {
    "name": "ipython",
    "version": 3
   },
   "file_extension": ".py",
   "mimetype": "text/x-python",
   "name": "python",
   "nbconvert_exporter": "python",
   "pygments_lexer": "ipython3",
   "version": "3.7.13"
  }
 },
 "nbformat": 4,
 "nbformat_minor": 5
}
