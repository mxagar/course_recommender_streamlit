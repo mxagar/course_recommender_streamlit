{
 "cells": [
  {
   "cell_type": "markdown",
   "id": "bb8729ec-5c9e-468d-8ed8-515adf87d4e7",
   "metadata": {},
   "source": [
    "# Course Recommender: Content-Based Methods"
   ]
  },
  {
   "cell_type": "markdown",
   "id": "0249f19f-2204-40e3-9fbf-90f3dd569b28",
   "metadata": {},
   "source": [
    "This project implements and deploys an AI course Recommender System using [Streamlit](https://streamlit.io/). It was inspired by the the [IBM Machine Learning Professional Certificate](https://www.coursera.org/professional-certificates/ibm-machine-learning) offered by IBM & Coursera. In the last course/module of the Specialization, Machine Learning Capstone, a similar application is built; check my [class notes](https://github.com/mxagar/machine_learning_ibm/tree/main/06_Capstone_Project/06_Capstone_Recommender_System.md) for more information.\n",
    "\n",
    "This notebook researches and implements different **Content-Based** recommender systems. You can open it in Google Colab:\n",
    "\n",
    "[![Open In Colab](https://colab.research.google.com/assets/colab-badge.svg)](https://colab.research.google.com/github/mxagar/course_recommender_streamlit/blob/main/notebooks/03_Content_RecSys.ipynb)\n",
    "\n",
    "In this notebook, the following content-based recommender system is built:\n",
    "\n",
    "- We consider that the course-genre weights are known.\n",
    "- We have a user profile, i.e., a matrix which contains the weight each user gives to a genre/feature. These weights are not normalized.\n",
    "- The rating of a user to a new item can be estimated by multiplying (dot product) the user profile vectors with the feature vector of the item. Since there is no normalization, we call that estimation score.\n",
    "\n",
    "Table of contents:\n",
    "\n",
    "- [1. Load and Understand New Datasets](#1.-Load-and-Understand-New-Datasets)\n",
    "- [2. Get Recommendations for One User](#2.-Get-Recommendations-for-One-User)\n",
    "- [3. Compute Expected Scores](#3.-Compute-Expected-Scores)\n"
   ]
  },
  {
   "cell_type": "code",
   "execution_count": 52,
   "id": "ca5f32db-7139-4340-8bbf-f18a4761288e",
   "metadata": {},
   "outputs": [],
   "source": [
    "import pandas as pd\n",
    "import numpy as np\n",
    "import seaborn as sns\n",
    "import matplotlib.pyplot as plt\n",
    "from sklearn import preprocessing"
   ]
  },
  {
   "cell_type": "code",
   "execution_count": 9,
   "id": "310defca-b3eb-4573-b89f-77ee26ec6a8d",
   "metadata": {},
   "outputs": [],
   "source": [
    "# Set a random state\n",
    "rs = 123"
   ]
  },
  {
   "cell_type": "markdown",
   "id": "b4c2165d-f6be-4394-becd-ee2a2459257c",
   "metadata": {},
   "source": [
    "# 1. Load and Understand New Datasets"
   ]
  },
  {
   "cell_type": "code",
   "execution_count": 4,
   "id": "c4580636-fcbd-4df0-ac34-db205adac640",
   "metadata": {},
   "outputs": [],
   "source": [
    "test_users_df = pd.read_csv('../data/rs_content_test.csv')\n",
    "profile_df = pd.read_csv('../data/user_profile.csv')\n",
    "course_genres_df = pd.read_csv('../data/course_genre.csv')"
   ]
  },
  {
   "cell_type": "code",
   "execution_count": 10,
   "id": "ff97630f-0df5-47ca-b864-b48d265fc0b3",
   "metadata": {},
   "outputs": [
    {
     "data": {
      "text/html": [
       "<div>\n",
       "<style scoped>\n",
       "    .dataframe tbody tr th:only-of-type {\n",
       "        vertical-align: middle;\n",
       "    }\n",
       "\n",
       "    .dataframe tbody tr th {\n",
       "        vertical-align: top;\n",
       "    }\n",
       "\n",
       "    .dataframe thead th {\n",
       "        text-align: right;\n",
       "    }\n",
       "</style>\n",
       "<table border=\"1\" class=\"dataframe\">\n",
       "  <thead>\n",
       "    <tr style=\"text-align: right;\">\n",
       "      <th></th>\n",
       "      <th>COURSE_ID</th>\n",
       "      <th>TITLE</th>\n",
       "      <th>Database</th>\n",
       "      <th>Python</th>\n",
       "      <th>CloudComputing</th>\n",
       "      <th>DataAnalysis</th>\n",
       "      <th>Containers</th>\n",
       "      <th>MachineLearning</th>\n",
       "      <th>ComputerVision</th>\n",
       "      <th>DataScience</th>\n",
       "      <th>BigData</th>\n",
       "      <th>Chatbot</th>\n",
       "      <th>R</th>\n",
       "      <th>BackendDev</th>\n",
       "      <th>FrontendDev</th>\n",
       "      <th>Blockchain</th>\n",
       "    </tr>\n",
       "  </thead>\n",
       "  <tbody>\n",
       "    <tr>\n",
       "      <th>0</th>\n",
       "      <td>ML0201EN</td>\n",
       "      <td>robots are coming  build iot apps with watson ...</td>\n",
       "      <td>0</td>\n",
       "      <td>0</td>\n",
       "      <td>0</td>\n",
       "      <td>0</td>\n",
       "      <td>0</td>\n",
       "      <td>0</td>\n",
       "      <td>0</td>\n",
       "      <td>0</td>\n",
       "      <td>0</td>\n",
       "      <td>0</td>\n",
       "      <td>0</td>\n",
       "      <td>1</td>\n",
       "      <td>1</td>\n",
       "      <td>0</td>\n",
       "    </tr>\n",
       "    <tr>\n",
       "      <th>1</th>\n",
       "      <td>ML0122EN</td>\n",
       "      <td>accelerating deep learning with gpu</td>\n",
       "      <td>0</td>\n",
       "      <td>1</td>\n",
       "      <td>0</td>\n",
       "      <td>0</td>\n",
       "      <td>0</td>\n",
       "      <td>1</td>\n",
       "      <td>0</td>\n",
       "      <td>1</td>\n",
       "      <td>0</td>\n",
       "      <td>0</td>\n",
       "      <td>0</td>\n",
       "      <td>0</td>\n",
       "      <td>0</td>\n",
       "      <td>0</td>\n",
       "    </tr>\n",
       "    <tr>\n",
       "      <th>2</th>\n",
       "      <td>GPXX0ZG0EN</td>\n",
       "      <td>consuming restful services using the reactive ...</td>\n",
       "      <td>0</td>\n",
       "      <td>0</td>\n",
       "      <td>0</td>\n",
       "      <td>0</td>\n",
       "      <td>0</td>\n",
       "      <td>0</td>\n",
       "      <td>0</td>\n",
       "      <td>0</td>\n",
       "      <td>0</td>\n",
       "      <td>0</td>\n",
       "      <td>0</td>\n",
       "      <td>1</td>\n",
       "      <td>1</td>\n",
       "      <td>0</td>\n",
       "    </tr>\n",
       "    <tr>\n",
       "      <th>3</th>\n",
       "      <td>RP0105EN</td>\n",
       "      <td>analyzing big data in r using apache spark</td>\n",
       "      <td>1</td>\n",
       "      <td>0</td>\n",
       "      <td>0</td>\n",
       "      <td>1</td>\n",
       "      <td>0</td>\n",
       "      <td>0</td>\n",
       "      <td>0</td>\n",
       "      <td>0</td>\n",
       "      <td>1</td>\n",
       "      <td>0</td>\n",
       "      <td>1</td>\n",
       "      <td>0</td>\n",
       "      <td>0</td>\n",
       "      <td>0</td>\n",
       "    </tr>\n",
       "    <tr>\n",
       "      <th>4</th>\n",
       "      <td>GPXX0Z2PEN</td>\n",
       "      <td>containerizing  packaging  and running a sprin...</td>\n",
       "      <td>0</td>\n",
       "      <td>0</td>\n",
       "      <td>0</td>\n",
       "      <td>0</td>\n",
       "      <td>1</td>\n",
       "      <td>0</td>\n",
       "      <td>0</td>\n",
       "      <td>0</td>\n",
       "      <td>0</td>\n",
       "      <td>0</td>\n",
       "      <td>0</td>\n",
       "      <td>1</td>\n",
       "      <td>0</td>\n",
       "      <td>0</td>\n",
       "    </tr>\n",
       "  </tbody>\n",
       "</table>\n",
       "</div>"
      ],
      "text/plain": [
       "    COURSE_ID                                              TITLE  Database  \\\n",
       "0    ML0201EN  robots are coming  build iot apps with watson ...         0   \n",
       "1    ML0122EN                accelerating deep learning with gpu         0   \n",
       "2  GPXX0ZG0EN  consuming restful services using the reactive ...         0   \n",
       "3    RP0105EN         analyzing big data in r using apache spark         1   \n",
       "4  GPXX0Z2PEN  containerizing  packaging  and running a sprin...         0   \n",
       "\n",
       "   Python  CloudComputing  DataAnalysis  Containers  MachineLearning  \\\n",
       "0       0               0             0           0                0   \n",
       "1       1               0             0           0                1   \n",
       "2       0               0             0           0                0   \n",
       "3       0               0             1           0                0   \n",
       "4       0               0             0           1                0   \n",
       "\n",
       "   ComputerVision  DataScience  BigData  Chatbot  R  BackendDev  FrontendDev  \\\n",
       "0               0            0        0        0  0           1            1   \n",
       "1               0            1        0        0  0           0            0   \n",
       "2               0            0        0        0  0           1            1   \n",
       "3               0            0        1        0  1           0            0   \n",
       "4               0            0        0        0  0           1            0   \n",
       "\n",
       "   Blockchain  \n",
       "0           0  \n",
       "1           0  \n",
       "2           0  \n",
       "3           0  \n",
       "4           0  "
      ]
     },
     "execution_count": 10,
     "metadata": {},
     "output_type": "execute_result"
    }
   ],
   "source": [
    "# Course vs Genre: (307, 16)\n",
    "course_genres_df.head()"
   ]
  },
  {
   "cell_type": "code",
   "execution_count": 11,
   "id": "f8d10886-888a-4b63-9219-9d9fd4e7b09b",
   "metadata": {},
   "outputs": [
    {
     "data": {
      "text/plain": [
       "(307, 16)"
      ]
     },
     "execution_count": 11,
     "metadata": {},
     "output_type": "execute_result"
    }
   ],
   "source": [
    "course_genres_df.shape"
   ]
  },
  {
   "cell_type": "code",
   "execution_count": 13,
   "id": "17bd389a-b2f0-4fba-b5a7-348a6f2d0df0",
   "metadata": {},
   "outputs": [
    {
     "data": {
      "text/html": [
       "<div>\n",
       "<style scoped>\n",
       "    .dataframe tbody tr th:only-of-type {\n",
       "        vertical-align: middle;\n",
       "    }\n",
       "\n",
       "    .dataframe tbody tr th {\n",
       "        vertical-align: top;\n",
       "    }\n",
       "\n",
       "    .dataframe thead th {\n",
       "        text-align: right;\n",
       "    }\n",
       "</style>\n",
       "<table border=\"1\" class=\"dataframe\">\n",
       "  <thead>\n",
       "    <tr style=\"text-align: right;\">\n",
       "      <th></th>\n",
       "      <th>user</th>\n",
       "      <th>Database</th>\n",
       "      <th>Python</th>\n",
       "      <th>CloudComputing</th>\n",
       "      <th>DataAnalysis</th>\n",
       "      <th>Containers</th>\n",
       "      <th>MachineLearning</th>\n",
       "      <th>ComputerVision</th>\n",
       "      <th>DataScience</th>\n",
       "      <th>BigData</th>\n",
       "      <th>Chatbot</th>\n",
       "      <th>R</th>\n",
       "      <th>BackendDev</th>\n",
       "      <th>FrontendDev</th>\n",
       "      <th>Blockchain</th>\n",
       "    </tr>\n",
       "  </thead>\n",
       "  <tbody>\n",
       "    <tr>\n",
       "      <th>0</th>\n",
       "      <td>2</td>\n",
       "      <td>52.0</td>\n",
       "      <td>14.0</td>\n",
       "      <td>6.0</td>\n",
       "      <td>43.0</td>\n",
       "      <td>3.0</td>\n",
       "      <td>33.0</td>\n",
       "      <td>0.0</td>\n",
       "      <td>29.0</td>\n",
       "      <td>41.0</td>\n",
       "      <td>2.0</td>\n",
       "      <td>18.0</td>\n",
       "      <td>34.0</td>\n",
       "      <td>9.0</td>\n",
       "      <td>6.0</td>\n",
       "    </tr>\n",
       "    <tr>\n",
       "      <th>1</th>\n",
       "      <td>4</td>\n",
       "      <td>40.0</td>\n",
       "      <td>2.0</td>\n",
       "      <td>4.0</td>\n",
       "      <td>28.0</td>\n",
       "      <td>0.0</td>\n",
       "      <td>14.0</td>\n",
       "      <td>0.0</td>\n",
       "      <td>20.0</td>\n",
       "      <td>24.0</td>\n",
       "      <td>0.0</td>\n",
       "      <td>6.0</td>\n",
       "      <td>6.0</td>\n",
       "      <td>0.0</td>\n",
       "      <td>2.0</td>\n",
       "    </tr>\n",
       "    <tr>\n",
       "      <th>2</th>\n",
       "      <td>5</td>\n",
       "      <td>24.0</td>\n",
       "      <td>8.0</td>\n",
       "      <td>18.0</td>\n",
       "      <td>24.0</td>\n",
       "      <td>0.0</td>\n",
       "      <td>30.0</td>\n",
       "      <td>0.0</td>\n",
       "      <td>22.0</td>\n",
       "      <td>14.0</td>\n",
       "      <td>2.0</td>\n",
       "      <td>14.0</td>\n",
       "      <td>26.0</td>\n",
       "      <td>4.0</td>\n",
       "      <td>6.0</td>\n",
       "    </tr>\n",
       "    <tr>\n",
       "      <th>3</th>\n",
       "      <td>7</td>\n",
       "      <td>2.0</td>\n",
       "      <td>0.0</td>\n",
       "      <td>0.0</td>\n",
       "      <td>2.0</td>\n",
       "      <td>0.0</td>\n",
       "      <td>0.0</td>\n",
       "      <td>0.0</td>\n",
       "      <td>0.0</td>\n",
       "      <td>2.0</td>\n",
       "      <td>0.0</td>\n",
       "      <td>0.0</td>\n",
       "      <td>0.0</td>\n",
       "      <td>0.0</td>\n",
       "      <td>0.0</td>\n",
       "    </tr>\n",
       "    <tr>\n",
       "      <th>4</th>\n",
       "      <td>8</td>\n",
       "      <td>6.0</td>\n",
       "      <td>0.0</td>\n",
       "      <td>0.0</td>\n",
       "      <td>4.0</td>\n",
       "      <td>0.0</td>\n",
       "      <td>0.0</td>\n",
       "      <td>0.0</td>\n",
       "      <td>0.0</td>\n",
       "      <td>6.0</td>\n",
       "      <td>0.0</td>\n",
       "      <td>2.0</td>\n",
       "      <td>0.0</td>\n",
       "      <td>0.0</td>\n",
       "      <td>0.0</td>\n",
       "    </tr>\n",
       "  </tbody>\n",
       "</table>\n",
       "</div>"
      ],
      "text/plain": [
       "   user  Database  Python  CloudComputing  DataAnalysis  Containers  \\\n",
       "0     2      52.0    14.0             6.0          43.0         3.0   \n",
       "1     4      40.0     2.0             4.0          28.0         0.0   \n",
       "2     5      24.0     8.0            18.0          24.0         0.0   \n",
       "3     7       2.0     0.0             0.0           2.0         0.0   \n",
       "4     8       6.0     0.0             0.0           4.0         0.0   \n",
       "\n",
       "   MachineLearning  ComputerVision  DataScience  BigData  Chatbot     R  \\\n",
       "0             33.0             0.0         29.0     41.0      2.0  18.0   \n",
       "1             14.0             0.0         20.0     24.0      0.0   6.0   \n",
       "2             30.0             0.0         22.0     14.0      2.0  14.0   \n",
       "3              0.0             0.0          0.0      2.0      0.0   0.0   \n",
       "4              0.0             0.0          0.0      6.0      0.0   2.0   \n",
       "\n",
       "   BackendDev  FrontendDev  Blockchain  \n",
       "0        34.0          9.0         6.0  \n",
       "1         6.0          0.0         2.0  \n",
       "2        26.0          4.0         6.0  \n",
       "3         0.0          0.0         0.0  \n",
       "4         0.0          0.0         0.0  "
      ]
     },
     "execution_count": 13,
     "metadata": {},
     "output_type": "execute_result"
    }
   ],
   "source": [
    "# User vs Genre/Topic weight/preference: (33901, 15)\n",
    "profile_df.head()"
   ]
  },
  {
   "cell_type": "code",
   "execution_count": 14,
   "id": "19b06688-804a-44ea-ae24-d3ff94964614",
   "metadata": {},
   "outputs": [
    {
     "data": {
      "text/plain": [
       "(33901, 15)"
      ]
     },
     "execution_count": 14,
     "metadata": {},
     "output_type": "execute_result"
    }
   ],
   "source": [
    "profile_df.shape"
   ]
  },
  {
   "cell_type": "code",
   "execution_count": 17,
   "id": "1762e8d7-7dde-4a87-bcc8-5c1939cbc342",
   "metadata": {},
   "outputs": [
    {
     "data": {
      "text/html": [
       "<div>\n",
       "<style scoped>\n",
       "    .dataframe tbody tr th:only-of-type {\n",
       "        vertical-align: middle;\n",
       "    }\n",
       "\n",
       "    .dataframe tbody tr th {\n",
       "        vertical-align: top;\n",
       "    }\n",
       "\n",
       "    .dataframe thead th {\n",
       "        text-align: right;\n",
       "    }\n",
       "</style>\n",
       "<table border=\"1\" class=\"dataframe\">\n",
       "  <thead>\n",
       "    <tr style=\"text-align: right;\">\n",
       "      <th></th>\n",
       "      <th>user</th>\n",
       "      <th>item</th>\n",
       "      <th>rating</th>\n",
       "    </tr>\n",
       "  </thead>\n",
       "  <tbody>\n",
       "    <tr>\n",
       "      <th>0</th>\n",
       "      <td>1502801</td>\n",
       "      <td>RP0105EN</td>\n",
       "      <td>3.0</td>\n",
       "    </tr>\n",
       "    <tr>\n",
       "      <th>1</th>\n",
       "      <td>1609720</td>\n",
       "      <td>CNSC02EN</td>\n",
       "      <td>2.0</td>\n",
       "    </tr>\n",
       "    <tr>\n",
       "      <th>2</th>\n",
       "      <td>1347188</td>\n",
       "      <td>CO0301EN</td>\n",
       "      <td>3.0</td>\n",
       "    </tr>\n",
       "    <tr>\n",
       "      <th>3</th>\n",
       "      <td>755067</td>\n",
       "      <td>ML0103EN</td>\n",
       "      <td>3.0</td>\n",
       "    </tr>\n",
       "    <tr>\n",
       "      <th>4</th>\n",
       "      <td>538595</td>\n",
       "      <td>BD0115EN</td>\n",
       "      <td>3.0</td>\n",
       "    </tr>\n",
       "  </tbody>\n",
       "</table>\n",
       "</div>"
      ],
      "text/plain": [
       "      user      item  rating\n",
       "0  1502801  RP0105EN     3.0\n",
       "1  1609720  CNSC02EN     2.0\n",
       "2  1347188  CO0301EN     3.0\n",
       "3   755067  ML0103EN     3.0\n",
       "4   538595  BD0115EN     3.0"
      ]
     },
     "execution_count": 17,
     "metadata": {},
     "output_type": "execute_result"
    }
   ],
   "source": [
    "# User - course - rating: (9402, 3)\n",
    "test_users_df.head()"
   ]
  },
  {
   "cell_type": "code",
   "execution_count": 16,
   "id": "9731e840-8aef-4901-a645-deea16b9fd13",
   "metadata": {},
   "outputs": [
    {
     "data": {
      "text/plain": [
       "(9402, 3)"
      ]
     },
     "execution_count": 16,
     "metadata": {},
     "output_type": "execute_result"
    }
   ],
   "source": [
    "test_users_df.shape"
   ]
  },
  {
   "cell_type": "code",
   "execution_count": 19,
   "id": "76efe467-c3de-4c3b-8da5-14100bf1ff5b",
   "metadata": {},
   "outputs": [
    {
     "data": {
      "text/plain": [
       "1000"
      ]
     },
     "execution_count": 19,
     "metadata": {},
     "output_type": "execute_result"
    }
   ],
   "source": [
    "# There are 1000 unique users in test_users_df\n",
    "len(test_users_df['user'].unique())"
   ]
  },
  {
   "cell_type": "markdown",
   "id": "0860e82c-69fb-476c-827f-76aac1d70c64",
   "metadata": {},
   "source": [
    "# 2. Get Recommendations for One User"
   ]
  },
  {
   "cell_type": "code",
   "execution_count": 20,
   "id": "29f56f1d-3995-4ed1-b903-66212d4fbab4",
   "metadata": {},
   "outputs": [],
   "source": [
    "test_users = test_users_df.groupby(['user']).max().reset_index(drop=False)\n",
    "test_user_ids = test_users['user'].to_list()"
   ]
  },
  {
   "cell_type": "code",
   "execution_count": 21,
   "id": "f4d14410-b39d-40c4-9f11-dd35a7ec8d7e",
   "metadata": {},
   "outputs": [
    {
     "data": {
      "text/plain": [
       "[37465, 50348, 52091, 70434, 85625]"
      ]
     },
     "execution_count": 21,
     "metadata": {},
     "output_type": "execute_result"
    }
   ],
   "source": [
    "test_user_ids[:5]"
   ]
  },
  {
   "cell_type": "code",
   "execution_count": 24,
   "id": "5a83e879-7ecb-420c-9ce5-b050c2b11e36",
   "metadata": {},
   "outputs": [
    {
     "data": {
      "text/html": [
       "<div>\n",
       "<style scoped>\n",
       "    .dataframe tbody tr th:only-of-type {\n",
       "        vertical-align: middle;\n",
       "    }\n",
       "\n",
       "    .dataframe tbody tr th {\n",
       "        vertical-align: top;\n",
       "    }\n",
       "\n",
       "    .dataframe thead th {\n",
       "        text-align: right;\n",
       "    }\n",
       "</style>\n",
       "<table border=\"1\" class=\"dataframe\">\n",
       "  <thead>\n",
       "    <tr style=\"text-align: right;\">\n",
       "      <th></th>\n",
       "      <th>user</th>\n",
       "      <th>Database</th>\n",
       "      <th>Python</th>\n",
       "      <th>CloudComputing</th>\n",
       "      <th>DataAnalysis</th>\n",
       "      <th>Containers</th>\n",
       "      <th>MachineLearning</th>\n",
       "      <th>ComputerVision</th>\n",
       "      <th>DataScience</th>\n",
       "      <th>BigData</th>\n",
       "      <th>Chatbot</th>\n",
       "      <th>R</th>\n",
       "      <th>BackendDev</th>\n",
       "      <th>FrontendDev</th>\n",
       "      <th>Blockchain</th>\n",
       "    </tr>\n",
       "  </thead>\n",
       "  <tbody>\n",
       "    <tr>\n",
       "      <th>210</th>\n",
       "      <td>37465</td>\n",
       "      <td>12.0</td>\n",
       "      <td>0.0</td>\n",
       "      <td>3.0</td>\n",
       "      <td>3.0</td>\n",
       "      <td>0.0</td>\n",
       "      <td>0.0</td>\n",
       "      <td>0.0</td>\n",
       "      <td>6.0</td>\n",
       "      <td>12.0</td>\n",
       "      <td>0.0</td>\n",
       "      <td>0.0</td>\n",
       "      <td>3.0</td>\n",
       "      <td>0.0</td>\n",
       "      <td>0.0</td>\n",
       "    </tr>\n",
       "  </tbody>\n",
       "</table>\n",
       "</div>"
      ],
      "text/plain": [
       "      user  Database  Python  CloudComputing  DataAnalysis  Containers  \\\n",
       "210  37465      12.0     0.0             3.0           3.0         0.0   \n",
       "\n",
       "     MachineLearning  ComputerVision  DataScience  BigData  Chatbot    R  \\\n",
       "210              0.0             0.0          6.0     12.0      0.0  0.0   \n",
       "\n",
       "     BackendDev  FrontendDev  Blockchain  \n",
       "210         3.0          0.0         0.0  "
      ]
     },
     "execution_count": 24,
     "metadata": {},
     "output_type": "execute_result"
    }
   ],
   "source": [
    "test_user_profile = profile_df[profile_df['user'] == test_user_ids[0]] # user 37465\n",
    "test_user_profile"
   ]
  },
  {
   "cell_type": "code",
   "execution_count": 28,
   "id": "7c4ad0d9-8016-41be-a15c-75b9888e236d",
   "metadata": {},
   "outputs": [
    {
     "data": {
      "text/plain": [
       "array([12.,  0.,  3.,  3.,  0.,  0.,  0.,  6., 12.,  0.,  0.,  3.,  0.,\n",
       "        0.])"
      ]
     },
     "execution_count": 28,
     "metadata": {},
     "output_type": "execute_result"
    }
   ],
   "source": [
    "# Vector of user profile: (14,)\n",
    "test_user_vector = test_user_profile.iloc[0, 1:].values\n",
    "test_user_vector # (14,)"
   ]
  },
  {
   "cell_type": "code",
   "execution_count": 25,
   "id": "e4b39bc2-1167-4411-99e7-db0f3c063213",
   "metadata": {},
   "outputs": [],
   "source": [
    "enrolled_courses = test_users_df[test_users_df['user'] == test_user_ids[0]]['item'].to_list()\n",
    "enrolled_courses = set(enrolled_courses) # 7 courses"
   ]
  },
  {
   "cell_type": "code",
   "execution_count": 26,
   "id": "6b62fd2b-3069-4eea-9b30-74282d7de8a1",
   "metadata": {},
   "outputs": [
    {
     "data": {
      "text/plain": [
       "{'BD0101EN',\n",
       " 'BD0111EN',\n",
       " 'BD0115EN',\n",
       " 'BD0211EN',\n",
       " 'DS0101EN',\n",
       " 'DS0201EN',\n",
       " 'SC0101EN'}"
      ]
     },
     "execution_count": 26,
     "metadata": {},
     "output_type": "execute_result"
    }
   ],
   "source": [
    "# The selected user has enrolled to 7 courses\n",
    "# so 300 ratings are missing, i.e., these can be estimeated/predicted\n",
    "enrolled_courses"
   ]
  },
  {
   "cell_type": "code",
   "execution_count": 31,
   "id": "58e5b531-9507-48ca-abef-77000b4d6d6e",
   "metadata": {},
   "outputs": [],
   "source": [
    "all_courses = set(course_genres_df['COURSE_ID'].values) # 307 courses"
   ]
  },
  {
   "cell_type": "code",
   "execution_count": 32,
   "id": "785814fb-b64e-46f9-ad73-680ffe256ee2",
   "metadata": {},
   "outputs": [],
   "source": [
    "unknown_courses = all_courses.difference(enrolled_courses)"
   ]
  },
  {
   "cell_type": "code",
   "execution_count": 35,
   "id": "0392033c-e5d1-4994-af67-af906d660e16",
   "metadata": {},
   "outputs": [
    {
     "data": {
      "text/plain": [
       "array([[0, 0, 0, ..., 1, 1, 0],\n",
       "       [0, 1, 0, ..., 0, 0, 0],\n",
       "       [0, 0, 0, ..., 1, 1, 0],\n",
       "       ...,\n",
       "       [0, 0, 0, ..., 0, 1, 0],\n",
       "       [0, 0, 0, ..., 1, 1, 0],\n",
       "       [0, 0, 0, ..., 1, 1, 0]])"
      ]
     },
     "execution_count": 35,
     "metadata": {},
     "output_type": "execute_result"
    }
   ],
   "source": [
    "# Get the subset of course-genre table which contains the unkown courses\n",
    "unknown_course_genres = course_genres_df[course_genres_df['COURSE_ID'].isin(unknown_courses)]\n",
    "# Matrix\n",
    "course_matrix = unknown_course_genres.iloc[:, 2:].values\n",
    "course_matrix # (300, 14)"
   ]
  },
  {
   "cell_type": "code",
   "execution_count": 39,
   "id": "74646e27-b372-41ea-8e99-e1dbb09dbd81",
   "metadata": {},
   "outputs": [
    {
     "data": {
      "text/plain": [
       "array([ 3.,  6.,  3., 27.,  3.,  3.,  6.,  0.,  0., 12.,  3., 15.,  6.,\n",
       "        6.,  0.,  0.,  3.,  3., 24.,  0., 15.,  0.,  3.,  0.,  6.,  6.,\n",
       "        6.,  3., 27.,  6., 12.,  3.,  3.,  0., 12., 12., 27.,  9.,  6.,\n",
       "       27.,  3.,  0.,  0.,  6.,  6., 12.,  3.,  3.,  6.,  3.,  0., 24.,\n",
       "        6.,  3., 24.,  6.,  6.,  6., 18.,  6.,  0.,  0.,  3.,  6.,  0.,\n",
       "        3.,  3.,  6.,  0.,  3., 12.,  3.,  3.,  0.,  3.,  0., 12., 12.,\n",
       "        6.,  3.,  3., 12.,  3., 12., 15.,  3., 12.,  3.,  0.,  0.,  3.,\n",
       "       15., 24., 15., 15., 24.,  6.,  3.,  3.,  3.,  3.,  3.,  3.,  3.,\n",
       "        3.,  3., 15.,  0.,  3.,  3.,  0.,  3., 12.,  3.,  6.,  0.,  3.,\n",
       "        3., 15.,  3., 12., 12.,  3.,  3., 24.,  0.,  3.,  6.,  6.,  6.,\n",
       "        0.,  6.,  6.,  3.,  3.,  3.,  3.,  6.,  3.,  0.,  3.,  3.,  0.,\n",
       "        3.,  3.,  6.,  0.,  0.,  3.,  0.,  9.,  6.,  0.,  0.,  0.,  3.,\n",
       "        3.,  3.,  3.,  3.,  3.,  0.,  3.,  3., 24., 24.,  0.,  3.,  3.,\n",
       "        0.,  3.,  3., 12.,  3.,  3.,  3.,  0., 12.,  3., 18., 15.,  6.,\n",
       "        0., 15., 12.,  3.,  3.,  3.,  3.,  3.,  3.,  3.,  3.,  0.,  0.,\n",
       "        0.,  6., 15.,  9.,  3.,  6.,  3., 12.,  3.,  3.,  0.,  6., 12.,\n",
       "       15., 24., 18., 24., 18., 12.,  0.,  3., 24., 12., 12., 12., 12.,\n",
       "        0.,  0.,  0.,  0.,  0.,  3.,  6.,  6.,  3.,  3.,  3.,  3.,  3.,\n",
       "        3.,  3.,  3., 27.,  3.,  3.,  3.,  3.,  3.,  3.,  3.,  3.,  3.,\n",
       "        3., 24.,  6.,  6.,  0.,  0.,  0.,  0.,  0.,  0.,  0.,  0.,  0.,\n",
       "        3.,  0.,  0.,  0.,  0.,  0.,  0.,  0.,  6.,  6.,  6.,  9.,  6.,\n",
       "       12., 12., 12., 24., 24., 27., 27., 12., 15., 12.,  0.,  0.,  0.,\n",
       "        0.,  0.,  3.,  3.,  3.,  3.,  0.,  0.,  3.,  3.,  3.,  0.,  3.,\n",
       "        3.])"
      ]
     },
     "execution_count": 39,
     "metadata": {},
     "output_type": "execute_result"
    }
   ],
   "source": [
    "# Estimated rating/score for each of the 300 courses\n",
    "# Note that this rating is not normalized...\n",
    "np.dot(course_matrix,test_user_vector) # (300,)"
   ]
  },
  {
   "cell_type": "markdown",
   "id": "012bb840-0c51-479d-a4a0-77a83590c3e0",
   "metadata": {},
   "source": [
    "# 3. Compute Expected Scores"
   ]
  },
  {
   "cell_type": "markdown",
   "id": "d5c77aa3-2d29-49ea-b1d1-bfa53ffd6af1",
   "metadata": {},
   "source": [
    "In this section, the computations from the previous one are packed into a function which analyzes the entire test set of users. For each missing course of a student in the set a score is estimated."
   ]
  },
  {
   "cell_type": "code",
   "execution_count": 48,
   "id": "ff1c7ade-95d3-4856-9b61-3439e03b0a65",
   "metadata": {},
   "outputs": [],
   "source": [
    "def generate_recommendation_scores(profile_df, course_genres_df, test_users_df, score_threshold=10):\n",
    "    \"\"\"Generate recommendation scores\n",
    "    for the users/students in the test set.\n",
    "    A score is computed for each missing course.\n",
    "    \"\"\"\n",
    "    users = []\n",
    "    courses = []\n",
    "    scores = []\n",
    "    test_users = test_users_df.groupby(['user']).max().reset_index(drop=False)\n",
    "    test_user_ids = test_users['user'].to_list()\n",
    "    for user_id in test_user_ids:\n",
    "        test_user_profile = profile_df[profile_df['user'] == user_id] # df (1,15)\n",
    "        # get user vector for the current user id\n",
    "        test_user_vector = test_user_profile.iloc[:,1:].values[0] # np.array (1,14)\n",
    "        \n",
    "        # get the unknown course ids for the current user id\n",
    "        enrolled_courses = test_users_df[test_users_df['user'] == user_id]['item'].to_list()\n",
    "        unknown_courses = all_courses.difference(enrolled_courses)\n",
    "        unknown_course_df = course_genres_df[course_genres_df['COURSE_ID'].isin(unknown_courses)]\n",
    "        unknown_course_ids = unknown_course_df['COURSE_ID'].values\n",
    "        unknown_course_matrix = unknown_course_df.iloc[:, 2:].values # np.array (293,14)\n",
    "        \n",
    "        # user np.dot() to get the recommendation scores for each course\n",
    "        recommendation_scores = np.dot(unknown_course_matrix, test_user_vector)\n",
    "\n",
    "        # Append the results into the users, courses, and scores list\n",
    "        for i in range(0, len(unknown_course_ids)):\n",
    "            score = recommendation_scores[i]\n",
    "            # Only keep the courses with high recommendation score\n",
    "            if score >= score_threshold:\n",
    "                users.append(user_id)\n",
    "                courses.append(unknown_course_ids[i])\n",
    "                scores.append(recommendation_scores[i])\n",
    "                \n",
    "    return users, courses, scores"
   ]
  },
  {
   "cell_type": "code",
   "execution_count": 49,
   "id": "9934f8d7-744d-49a2-a385-56c7fa0a0a5b",
   "metadata": {},
   "outputs": [],
   "source": [
    "# Return users, courses, and scores lists for the dataframe\n",
    "users, courses, scores = generate_recommendation_scores(profile_df, course_genres_df, test_users_df)"
   ]
  },
  {
   "cell_type": "code",
   "execution_count": 50,
   "id": "abceac91-f618-49f5-abbc-ee8a8693a068",
   "metadata": {},
   "outputs": [],
   "source": [
    "res_dict = dict()\n",
    "res_dict['USER'] = users\n",
    "res_dict['COURSE_ID'] = courses\n",
    "res_dict['SCORE'] = scores\n",
    "res_df = pd.DataFrame(res_dict, columns=['USER', 'COURSE_ID', 'SCORE'])\n",
    "# Save the dataframe \n",
    "res_df.to_csv(\"../data/profile_rs_results.csv\", index=False)"
   ]
  },
  {
   "cell_type": "code",
   "execution_count": 51,
   "id": "d920b221-f25a-4cdc-8c6a-da0ad111513b",
   "metadata": {},
   "outputs": [
    {
     "data": {
      "text/html": [
       "<div>\n",
       "<style scoped>\n",
       "    .dataframe tbody tr th:only-of-type {\n",
       "        vertical-align: middle;\n",
       "    }\n",
       "\n",
       "    .dataframe tbody tr th {\n",
       "        vertical-align: top;\n",
       "    }\n",
       "\n",
       "    .dataframe thead th {\n",
       "        text-align: right;\n",
       "    }\n",
       "</style>\n",
       "<table border=\"1\" class=\"dataframe\">\n",
       "  <thead>\n",
       "    <tr style=\"text-align: right;\">\n",
       "      <th></th>\n",
       "      <th>USER</th>\n",
       "      <th>COURSE_ID</th>\n",
       "      <th>SCORE</th>\n",
       "    </tr>\n",
       "  </thead>\n",
       "  <tbody>\n",
       "    <tr>\n",
       "      <th>0</th>\n",
       "      <td>37465</td>\n",
       "      <td>RP0105EN</td>\n",
       "      <td>27.0</td>\n",
       "    </tr>\n",
       "    <tr>\n",
       "      <th>1</th>\n",
       "      <td>37465</td>\n",
       "      <td>GPXX06RFEN</td>\n",
       "      <td>12.0</td>\n",
       "    </tr>\n",
       "    <tr>\n",
       "      <th>2</th>\n",
       "      <td>37465</td>\n",
       "      <td>CC0271EN</td>\n",
       "      <td>15.0</td>\n",
       "    </tr>\n",
       "    <tr>\n",
       "      <th>3</th>\n",
       "      <td>37465</td>\n",
       "      <td>BD0145EN</td>\n",
       "      <td>24.0</td>\n",
       "    </tr>\n",
       "    <tr>\n",
       "      <th>4</th>\n",
       "      <td>37465</td>\n",
       "      <td>DE0205EN</td>\n",
       "      <td>15.0</td>\n",
       "    </tr>\n",
       "  </tbody>\n",
       "</table>\n",
       "</div>"
      ],
      "text/plain": [
       "    USER   COURSE_ID  SCORE\n",
       "0  37465    RP0105EN   27.0\n",
       "1  37465  GPXX06RFEN   12.0\n",
       "2  37465    CC0271EN   15.0\n",
       "3  37465    BD0145EN   24.0\n",
       "4  37465    DE0205EN   15.0"
      ]
     },
     "execution_count": 51,
     "metadata": {},
     "output_type": "execute_result"
    }
   ],
   "source": [
    "res_df.head()"
   ]
  },
  {
   "cell_type": "code",
   "execution_count": null,
   "id": "25a6d45c-10c7-4d7a-b562-0f416e353db8",
   "metadata": {},
   "outputs": [],
   "source": []
  }
 ],
 "metadata": {
  "kernelspec": {
   "display_name": "Python 3 (ipykernel)",
   "language": "python",
   "name": "python3"
  },
  "language_info": {
   "codemirror_mode": {
    "name": "ipython",
    "version": 3
   },
   "file_extension": ".py",
   "mimetype": "text/x-python",
   "name": "python",
   "nbconvert_exporter": "python",
   "pygments_lexer": "ipython3",
   "version": "3.7.13"
  }
 },
 "nbformat": 4,
 "nbformat_minor": 5
}
