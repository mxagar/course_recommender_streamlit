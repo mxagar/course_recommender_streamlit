{
 "cells": [
  {
   "cell_type": "markdown",
   "id": "33692860-831b-4d82-9776-4282faa7c84e",
   "metadata": {},
   "source": [
    "# Course Recommender: Collaborative-Filtering Methods"
   ]
  },
  {
   "cell_type": "markdown",
   "id": "03732db7-0a64-4282-a27f-c0daca45f697",
   "metadata": {},
   "source": [
    "This project implements and deploys an AI course Recommender System using [Streamlit](https://streamlit.io/). It was inspired by the the [IBM Machine Learning Professional Certificate](https://www.coursera.org/professional-certificates/ibm-machine-learning) offered by IBM & Coursera. In the last course/module of the Specialization, Machine Learning Capstone, a similar application is built; check my [class notes](https://github.com/mxagar/machine_learning_ibm/tree/main/06_Capstone_Project/06_Capstone_Recommender_System.md) for more information.\n",
    "\n",
    "This notebook researches and implements different **Collaborative-Filtering** recommender systems. You can open it in Google Colab:\n",
    "\n",
    "[![Open In Colab](https://colab.research.google.com/assets/colab-badge.svg)](https://colab.research.google.com/github/mxagar/course_recommender_streamlit/blob/main/notebooks/04_Collaborative_RecSys.ipynb)\n",
    "\n",
    "The following is implemented in this notebook:\n",
    "  \n",
    "  - A dense user-items ratings table is converted to a sparse table.\n",
    "  - Item-based and user-based k-NN search is applied to find the closest items/users given their similarity and perform a prediction with a weighted sum. This is done with the [surprise](https://surprise.readthedocs.io/en/stable/index.html) library and manually.\n",
    "  - Non-Negative Matrix Factorization (NMF) is used to decompose a ratings table into lower rank matrices which encode latent features. This is done with the [surprise](https://surprise.readthedocs.io/en/stable/index.html) library and with Scikit-Learn.\n",
    "\n",
    "Table of contents:\n",
    "\n",
    "- [Part 1: k-NN](#Part-1:-k-NN)\n",
    "    - [1. Convert Dense Ratings Matrix to Sparse User-Item Matrix](#1.-Convert-Dense-Ratings-Matrix-to-Sparse-User-Item-Matrix)\n",
    "    - [2. Item-Based Collaborative Filtering: k-NN with Suprise Library](#2.-Item-Based-Collaborative-Filtering:-k-NN-with-Suprise-Library)\n",
    "    - [3. User-Based Collaborative Filtering: k-NN Manually](#3.-User-Based-Collaborative-Filtering:-k-NN-Manually)\n",
    "- [Part 2: Non-Negative Matrix Factorization (NMF)](#Part-2:-Non-Negative-Matrix-Factorization-(NMF))\n",
    "    - [1. NMF with the Suprise Library](#1.-NMF-with-the-Suprise-Library)\n",
    "    - [2. NMF with Scikit-Learn](#2.-NMF-with-Scikit-Learn)"
   ]
  },
  {
   "cell_type": "markdown",
   "id": "30be46b1-08a4-4787-aa67-756384ecf483",
   "metadata": {},
   "source": [
    "# Basic Definitions"
   ]
  },
  {
   "cell_type": "markdown",
   "id": "7c99f9b7-787f-4fb7-a04e-bfe2087adac6",
   "metadata": {},
   "source": [
    "**User-based** collaborative filtering: user similarity matrix is computed (user row against user row with cosine similarity) and then k most similar users are used to estimate ratings as weighted sums:"
   ]
  },
  {
   "cell_type": "markdown",
   "id": "a76432ef-7134-415a-be1e-c8d49628914e",
   "metadata": {},
   "source": [
    "$$\\hat{r}_{ui} = \\frac{\n",
    "\\sum\\limits_{v \\in N^k_i(u)} \\text{similarity}(u, v) \\cdot r_{vi}}\n",
    "{\\sum\\limits_{v \\in N^k_i(u)} \\text{similarity}(u, v)}$$"
   ]
  },
  {
   "cell_type": "markdown",
   "id": "780c4fc1-0995-4536-b52b-d5b513fa975d",
   "metadata": {},
   "source": [
    "**Item-based** collaborative filtering: item similarity matrix is computed (item column against item column with cosine similarity) and then k most similar items are used to estimate ratings as weighted sums:"
   ]
  },
  {
   "cell_type": "markdown",
   "id": "bf8ee04d-ff9c-4332-8c1a-7f0932657fed",
   "metadata": {},
   "source": [
    "$$\\hat{r}_{ui} = \\frac{\n",
    "\\sum\\limits_{j \\in N^k_u(i)} \\text{similarity}(i, j) \\cdot r_{uj}}\n",
    "{\\sum\\limits_{j \\in N^k_u(i)} \\text{similarity}(i, j)}$$\n"
   ]
  },
  {
   "cell_type": "code",
   "execution_count": 4,
   "id": "4ac52774-3b9f-459a-a77b-a7cb50e4839b",
   "metadata": {},
   "outputs": [],
   "source": [
    "import numpy as np\n",
    "import pandas as pd\n",
    "import math"
   ]
  },
  {
   "cell_type": "markdown",
   "id": "3ded6951-b784-4bd5-b56a-730499660e67",
   "metadata": {
    "tags": []
   },
   "source": [
    "# Part 1: k-NN"
   ]
  },
  {
   "cell_type": "markdown",
   "id": "8a24afd1-5140-4267-8f6c-c02ce41f407b",
   "metadata": {},
   "source": [
    "## 1. Convert Dense Ratings Matrix to Sparse User-Item Matrix"
   ]
  },
  {
   "cell_type": "code",
   "execution_count": 8,
   "id": "0f36c0b1-7bd3-4381-a358-608532b48a21",
   "metadata": {},
   "outputs": [],
   "source": [
    "rating_df = pd.read_csv(\"../data/ratings.csv\")"
   ]
  },
  {
   "cell_type": "code",
   "execution_count": 10,
   "id": "7c85a43b-99ae-4b17-8cfc-fd2090036aaf",
   "metadata": {},
   "outputs": [
    {
     "data": {
      "text/html": [
       "<div>\n",
       "<style scoped>\n",
       "    .dataframe tbody tr th:only-of-type {\n",
       "        vertical-align: middle;\n",
       "    }\n",
       "\n",
       "    .dataframe tbody tr th {\n",
       "        vertical-align: top;\n",
       "    }\n",
       "\n",
       "    .dataframe thead th {\n",
       "        text-align: right;\n",
       "    }\n",
       "</style>\n",
       "<table border=\"1\" class=\"dataframe\">\n",
       "  <thead>\n",
       "    <tr style=\"text-align: right;\">\n",
       "      <th></th>\n",
       "      <th>user</th>\n",
       "      <th>item</th>\n",
       "      <th>rating</th>\n",
       "    </tr>\n",
       "  </thead>\n",
       "  <tbody>\n",
       "    <tr>\n",
       "      <th>0</th>\n",
       "      <td>1889878</td>\n",
       "      <td>CC0101EN</td>\n",
       "      <td>3.0</td>\n",
       "    </tr>\n",
       "    <tr>\n",
       "      <th>1</th>\n",
       "      <td>1342067</td>\n",
       "      <td>CL0101EN</td>\n",
       "      <td>3.0</td>\n",
       "    </tr>\n",
       "    <tr>\n",
       "      <th>2</th>\n",
       "      <td>1990814</td>\n",
       "      <td>ML0120ENv3</td>\n",
       "      <td>3.0</td>\n",
       "    </tr>\n",
       "    <tr>\n",
       "      <th>3</th>\n",
       "      <td>380098</td>\n",
       "      <td>BD0211EN</td>\n",
       "      <td>3.0</td>\n",
       "    </tr>\n",
       "    <tr>\n",
       "      <th>4</th>\n",
       "      <td>779563</td>\n",
       "      <td>DS0101EN</td>\n",
       "      <td>3.0</td>\n",
       "    </tr>\n",
       "  </tbody>\n",
       "</table>\n",
       "</div>"
      ],
      "text/plain": [
       "      user        item  rating\n",
       "0  1889878    CC0101EN     3.0\n",
       "1  1342067    CL0101EN     3.0\n",
       "2  1990814  ML0120ENv3     3.0\n",
       "3   380098    BD0211EN     3.0\n",
       "4   779563    DS0101EN     3.0"
      ]
     },
     "execution_count": 10,
     "metadata": {},
     "output_type": "execute_result"
    }
   ],
   "source": [
    "rating_df.head()"
   ]
  },
  {
   "cell_type": "code",
   "execution_count": 11,
   "id": "459fad15-58d0-4a78-aaa7-4b4e357db8a9",
   "metadata": {},
   "outputs": [
    {
     "data": {
      "text/html": [
       "<div>\n",
       "<style scoped>\n",
       "    .dataframe tbody tr th:only-of-type {\n",
       "        vertical-align: middle;\n",
       "    }\n",
       "\n",
       "    .dataframe tbody tr th {\n",
       "        vertical-align: top;\n",
       "    }\n",
       "\n",
       "    .dataframe thead th {\n",
       "        text-align: right;\n",
       "    }\n",
       "</style>\n",
       "<table border=\"1\" class=\"dataframe\">\n",
       "  <thead>\n",
       "    <tr style=\"text-align: right;\">\n",
       "      <th></th>\n",
       "      <th>user</th>\n",
       "      <th>AI0111EN</th>\n",
       "      <th>BC0101EN</th>\n",
       "      <th>BC0201EN</th>\n",
       "      <th>BC0202EN</th>\n",
       "      <th>BD0101EN</th>\n",
       "      <th>BD0111EN</th>\n",
       "      <th>BD0115EN</th>\n",
       "      <th>BD0121EN</th>\n",
       "      <th>BD0123EN</th>\n",
       "      <th>...</th>\n",
       "      <th>SW0201EN</th>\n",
       "      <th>TA0105</th>\n",
       "      <th>TA0105EN</th>\n",
       "      <th>TA0106EN</th>\n",
       "      <th>TMP0101EN</th>\n",
       "      <th>TMP0105EN</th>\n",
       "      <th>TMP0106</th>\n",
       "      <th>TMP107</th>\n",
       "      <th>WA0101EN</th>\n",
       "      <th>WA0103EN</th>\n",
       "    </tr>\n",
       "  </thead>\n",
       "  <tbody>\n",
       "    <tr>\n",
       "      <th>0</th>\n",
       "      <td>2</td>\n",
       "      <td>0.0</td>\n",
       "      <td>3.0</td>\n",
       "      <td>0.0</td>\n",
       "      <td>0.0</td>\n",
       "      <td>3.0</td>\n",
       "      <td>2.0</td>\n",
       "      <td>0.0</td>\n",
       "      <td>2.0</td>\n",
       "      <td>2.0</td>\n",
       "      <td>...</td>\n",
       "      <td>0.0</td>\n",
       "      <td>2.0</td>\n",
       "      <td>0.0</td>\n",
       "      <td>3.0</td>\n",
       "      <td>0.0</td>\n",
       "      <td>2.0</td>\n",
       "      <td>2.0</td>\n",
       "      <td>0.0</td>\n",
       "      <td>3.0</td>\n",
       "      <td>0.0</td>\n",
       "    </tr>\n",
       "    <tr>\n",
       "      <th>1</th>\n",
       "      <td>4</td>\n",
       "      <td>0.0</td>\n",
       "      <td>0.0</td>\n",
       "      <td>0.0</td>\n",
       "      <td>0.0</td>\n",
       "      <td>2.0</td>\n",
       "      <td>2.0</td>\n",
       "      <td>2.0</td>\n",
       "      <td>2.0</td>\n",
       "      <td>2.0</td>\n",
       "      <td>...</td>\n",
       "      <td>0.0</td>\n",
       "      <td>2.0</td>\n",
       "      <td>0.0</td>\n",
       "      <td>0.0</td>\n",
       "      <td>0.0</td>\n",
       "      <td>2.0</td>\n",
       "      <td>2.0</td>\n",
       "      <td>0.0</td>\n",
       "      <td>2.0</td>\n",
       "      <td>2.0</td>\n",
       "    </tr>\n",
       "    <tr>\n",
       "      <th>2</th>\n",
       "      <td>5</td>\n",
       "      <td>2.0</td>\n",
       "      <td>2.0</td>\n",
       "      <td>2.0</td>\n",
       "      <td>0.0</td>\n",
       "      <td>2.0</td>\n",
       "      <td>0.0</td>\n",
       "      <td>0.0</td>\n",
       "      <td>0.0</td>\n",
       "      <td>2.0</td>\n",
       "      <td>...</td>\n",
       "      <td>0.0</td>\n",
       "      <td>0.0</td>\n",
       "      <td>2.0</td>\n",
       "      <td>2.0</td>\n",
       "      <td>2.0</td>\n",
       "      <td>2.0</td>\n",
       "      <td>2.0</td>\n",
       "      <td>2.0</td>\n",
       "      <td>0.0</td>\n",
       "      <td>2.0</td>\n",
       "    </tr>\n",
       "    <tr>\n",
       "      <th>3</th>\n",
       "      <td>7</td>\n",
       "      <td>0.0</td>\n",
       "      <td>0.0</td>\n",
       "      <td>0.0</td>\n",
       "      <td>0.0</td>\n",
       "      <td>0.0</td>\n",
       "      <td>0.0</td>\n",
       "      <td>0.0</td>\n",
       "      <td>0.0</td>\n",
       "      <td>0.0</td>\n",
       "      <td>...</td>\n",
       "      <td>0.0</td>\n",
       "      <td>0.0</td>\n",
       "      <td>0.0</td>\n",
       "      <td>0.0</td>\n",
       "      <td>0.0</td>\n",
       "      <td>0.0</td>\n",
       "      <td>0.0</td>\n",
       "      <td>0.0</td>\n",
       "      <td>0.0</td>\n",
       "      <td>0.0</td>\n",
       "    </tr>\n",
       "    <tr>\n",
       "      <th>4</th>\n",
       "      <td>8</td>\n",
       "      <td>0.0</td>\n",
       "      <td>0.0</td>\n",
       "      <td>0.0</td>\n",
       "      <td>0.0</td>\n",
       "      <td>0.0</td>\n",
       "      <td>2.0</td>\n",
       "      <td>0.0</td>\n",
       "      <td>0.0</td>\n",
       "      <td>0.0</td>\n",
       "      <td>...</td>\n",
       "      <td>0.0</td>\n",
       "      <td>0.0</td>\n",
       "      <td>0.0</td>\n",
       "      <td>0.0</td>\n",
       "      <td>0.0</td>\n",
       "      <td>0.0</td>\n",
       "      <td>0.0</td>\n",
       "      <td>0.0</td>\n",
       "      <td>0.0</td>\n",
       "      <td>0.0</td>\n",
       "    </tr>\n",
       "  </tbody>\n",
       "</table>\n",
       "<p>5 rows × 127 columns</p>\n",
       "</div>"
      ],
      "text/plain": [
       "   user  AI0111EN  BC0101EN  BC0201EN  BC0202EN  BD0101EN  BD0111EN  BD0115EN  \\\n",
       "0     2       0.0       3.0       0.0       0.0       3.0       2.0       0.0   \n",
       "1     4       0.0       0.0       0.0       0.0       2.0       2.0       2.0   \n",
       "2     5       2.0       2.0       2.0       0.0       2.0       0.0       0.0   \n",
       "3     7       0.0       0.0       0.0       0.0       0.0       0.0       0.0   \n",
       "4     8       0.0       0.0       0.0       0.0       0.0       2.0       0.0   \n",
       "\n",
       "   BD0121EN  BD0123EN  ...  SW0201EN  TA0105  TA0105EN  TA0106EN  TMP0101EN  \\\n",
       "0       2.0       2.0  ...       0.0     2.0       0.0       3.0        0.0   \n",
       "1       2.0       2.0  ...       0.0     2.0       0.0       0.0        0.0   \n",
       "2       0.0       2.0  ...       0.0     0.0       2.0       2.0        2.0   \n",
       "3       0.0       0.0  ...       0.0     0.0       0.0       0.0        0.0   \n",
       "4       0.0       0.0  ...       0.0     0.0       0.0       0.0        0.0   \n",
       "\n",
       "   TMP0105EN  TMP0106  TMP107  WA0101EN  WA0103EN  \n",
       "0        2.0      2.0     0.0       3.0       0.0  \n",
       "1        2.0      2.0     0.0       2.0       2.0  \n",
       "2        2.0      2.0     2.0       0.0       2.0  \n",
       "3        0.0      0.0     0.0       0.0       0.0  \n",
       "4        0.0      0.0     0.0       0.0       0.0  \n",
       "\n",
       "[5 rows x 127 columns]"
      ]
     },
     "execution_count": 11,
     "metadata": {},
     "output_type": "execute_result"
    }
   ],
   "source": [
    "rating_sparse_df = rating_df.pivot(index='user', columns='item', values='rating').fillna(0).reset_index().rename_axis(index=None, columns=None)\n",
    "rating_sparse_df.head()"
   ]
  },
  {
   "cell_type": "markdown",
   "id": "c738bb11-fb46-4c20-821f-1c8431f9f6c3",
   "metadata": {
    "tags": []
   },
   "source": [
    "## 2. Item-Based Collaborative Filtering: k-NN with Suprise Library"
   ]
  },
  {
   "cell_type": "code",
   "execution_count": 15,
   "id": "514dc0da-30af-42a0-ac41-f656e082b64c",
   "metadata": {},
   "outputs": [],
   "source": [
    "from surprise import KNNBasic\n",
    "from surprise import Dataset, Reader\n",
    "from surprise.model_selection import train_test_split\n",
    "from surprise import accuracy"
   ]
  },
  {
   "cell_type": "code",
   "execution_count": 16,
   "id": "90e252be-e5a0-4b4e-b4c2-017efc2844d2",
   "metadata": {},
   "outputs": [],
   "source": [
    "# Surprise is a Recommender System Engine similar to Scikit-Learn\n",
    "# https://surprise.readthedocs.io/en/stable/getting_started.html"
   ]
  },
  {
   "cell_type": "code",
   "execution_count": 18,
   "id": "f21f6b6d-8ffe-44d5-867c-0c21ff8d75c2",
   "metadata": {},
   "outputs": [],
   "source": [
    "# Suprise loads from file\n",
    "rating_df.to_csv(\"../data/ratings_sparse.csv\", index=False)\n",
    "# Read the course rating dataset with columns user item rating\n",
    "reader = Reader(\n",
    "        line_format='user item rating', sep=',', skip_lines=1, rating_scale=(2, 3))\n",
    "\n",
    "coruse_dataset = Dataset.load_from_file(\"../data/ratings_sparse.csv\", reader=reader)"
   ]
  },
  {
   "cell_type": "code",
   "execution_count": 19,
   "id": "33eaeea0-f697-4181-b1b3-3b9f2ce4f22b",
   "metadata": {},
   "outputs": [],
   "source": [
    "trainset, testset = train_test_split(coruse_dataset, test_size=.3)"
   ]
  },
  {
   "cell_type": "code",
   "execution_count": 20,
   "id": "8eaa6512-2fa9-4626-934c-fcec94d3b103",
   "metadata": {},
   "outputs": [
    {
     "name": "stdout",
     "output_type": "stream",
     "text": [
      "Total 31330 users and 125 items in the trainingset\n"
     ]
    }
   ],
   "source": [
    "print(f\"Total {trainset.n_users} users and {trainset.n_items} items in the trainingset\")"
   ]
  },
  {
   "cell_type": "code",
   "execution_count": 21,
   "id": "321950ec-99b2-4a5c-bf98-5b6859b25e74",
   "metadata": {},
   "outputs": [
    {
     "name": "stdout",
     "output_type": "stream",
     "text": [
      "Computing the cosine similarity matrix...\n",
      "Done computing similarity matrix.\n",
      "RMSE: 0.1939\n"
     ]
    },
    {
     "data": {
      "text/plain": [
       "0.19387109865857158"
      ]
     },
     "execution_count": 21,
     "metadata": {},
     "output_type": "execute_result"
    }
   ],
   "source": [
    "# Define a KNNBasic() model\n",
    "# more KNN model hyperparamets can be found here:\n",
    "# https://surprise.readthedocs.io/en/stable/knn_inspired.html\n",
    "sim_option = {\n",
    "    'name': 'cosine',\n",
    "    'user_based': False,\n",
    "    #'user_based': True,\n",
    "}\n",
    "\n",
    "# Train the KNNBasic model on the trainset, and predict ratings for the testset\n",
    "algo = KNNBasic(sim_options=sim_option)\n",
    "algo.fit(trainset)\n",
    "\n",
    "# Then compute RMSE\n",
    "predictions = algo.test(testset)\n",
    "accuracy.rmse(predictions)"
   ]
  },
  {
   "cell_type": "code",
   "execution_count": 22,
   "id": "f211e469-5653-4880-9950-8fcd87f31a3a",
   "metadata": {},
   "outputs": [
    {
     "data": {
      "text/plain": [
       "list"
      ]
     },
     "execution_count": 22,
     "metadata": {},
     "output_type": "execute_result"
    }
   ],
   "source": [
    "type(predictions)"
   ]
  },
  {
   "cell_type": "code",
   "execution_count": 23,
   "id": "5071cc86-69b8-4689-a2fe-7970f599d6a7",
   "metadata": {},
   "outputs": [
    {
     "data": {
      "text/plain": [
       "Prediction(uid='993479', iid='BD0123EN', r_ui=3.0, est=3, details={'actual_k': 17, 'was_impossible': False})"
      ]
     },
     "execution_count": 23,
     "metadata": {},
     "output_type": "execute_result"
    }
   ],
   "source": [
    "# We could parse the Prediction objects to a dataframe\n",
    "predictions[0]"
   ]
  },
  {
   "cell_type": "markdown",
   "id": "4a681819-6926-4fde-8924-99ccf077c8a4",
   "metadata": {},
   "source": [
    "## 3. User-Based Collaborative Filtering: k-NN Manually"
   ]
  },
  {
   "cell_type": "code",
   "execution_count": 24,
   "id": "b7239509-9059-45b9-a374-0586f77809df",
   "metadata": {},
   "outputs": [],
   "source": [
    "## STEPS:\n",
    "## - Calculate the similarity between two users using their rating history (the row vectors of interaction matrix)\n",
    "## - Build a similarity matrix for each pair of users with the training dataset\n",
    "## - For each user, find its k nearest neighbors in the sim matrix\n",
    "## - For each rating in the test dataset, estimate its rating using the KNN collaborative filtering equations shown before\n",
    "## - Calculate RMSE for the entire test dataset"
   ]
  },
  {
   "cell_type": "code",
   "execution_count": 25,
   "id": "5b123670-e533-44cb-a8c8-d6c9a496081d",
   "metadata": {},
   "outputs": [],
   "source": [
    "from scipy.spatial.distance import cosine"
   ]
  },
  {
   "cell_type": "code",
   "execution_count": 26,
   "id": "5d33999f-1ca8-48f7-8456-15ff0ffcb6bb",
   "metadata": {},
   "outputs": [],
   "source": [
    "# Extract user list\n",
    "user_list = rating_sparse_df['user'].to_list()[:50] # only 50 users taken, otherwise it takes very long\n",
    "user_list_df = pd.DataFrame(data=user_list, columns = ['user'])\n",
    "# Empts similarity matrix\n",
    "user_sim = np.zeros((len(user_list), len(user_list)))\n",
    "# Compare users pairwise\n",
    "for i, this_user in enumerate(user_list):\n",
    "    this_user_ratings = rating_sparse_df[rating_sparse_df.user == this_user].iloc[:,1:].values\n",
    "    for j, other_user in enumerate(user_list):\n",
    "        other_user_ratings = rating_sparse_df[rating_sparse_df.user == other_user].iloc[:,1:].values\n",
    "        similarity = 1 - cosine(this_user_ratings, other_user_ratings)\n",
    "        # FIXME: matrix is symmetric, only half needs to be computed!\n",
    "        user_sim[i,j] = similarity\n",
    "# Assemble similarity dataframe\n",
    "user_sim_df = pd.DataFrame(data=user_sim, columns=user_list)\n",
    "user_sim_df = pd.concat([user_list_df, user_sim_df], axis=1)\n",
    "# Set index to user to sort similar users easily later on\n",
    "user_sim_df.set_index(user_sim_df['user'], inplace=True, drop=True)\n",
    "user_sim_df.drop(['user'], axis=1, inplace=True)"
   ]
  },
  {
   "cell_type": "code",
   "execution_count": 27,
   "id": "7fc5f7c2-fa70-4ba4-a383-769343697e58",
   "metadata": {},
   "outputs": [
    {
     "data": {
      "text/html": [
       "<div>\n",
       "<style scoped>\n",
       "    .dataframe tbody tr th:only-of-type {\n",
       "        vertical-align: middle;\n",
       "    }\n",
       "\n",
       "    .dataframe tbody tr th {\n",
       "        vertical-align: top;\n",
       "    }\n",
       "\n",
       "    .dataframe thead th {\n",
       "        text-align: right;\n",
       "    }\n",
       "</style>\n",
       "<table border=\"1\" class=\"dataframe\">\n",
       "  <thead>\n",
       "    <tr style=\"text-align: right;\">\n",
       "      <th></th>\n",
       "      <th>2</th>\n",
       "      <th>4</th>\n",
       "      <th>5</th>\n",
       "      <th>7</th>\n",
       "      <th>8</th>\n",
       "      <th>9</th>\n",
       "      <th>12</th>\n",
       "      <th>16</th>\n",
       "      <th>17</th>\n",
       "      <th>19</th>\n",
       "      <th>...</th>\n",
       "      <th>55</th>\n",
       "      <th>56</th>\n",
       "      <th>57</th>\n",
       "      <th>58</th>\n",
       "      <th>59</th>\n",
       "      <th>60</th>\n",
       "      <th>61</th>\n",
       "      <th>62</th>\n",
       "      <th>63</th>\n",
       "      <th>64</th>\n",
       "    </tr>\n",
       "    <tr>\n",
       "      <th>user</th>\n",
       "      <th></th>\n",
       "      <th></th>\n",
       "      <th></th>\n",
       "      <th></th>\n",
       "      <th></th>\n",
       "      <th></th>\n",
       "      <th></th>\n",
       "      <th></th>\n",
       "      <th></th>\n",
       "      <th></th>\n",
       "      <th></th>\n",
       "      <th></th>\n",
       "      <th></th>\n",
       "      <th></th>\n",
       "      <th></th>\n",
       "      <th></th>\n",
       "      <th></th>\n",
       "      <th></th>\n",
       "      <th></th>\n",
       "      <th></th>\n",
       "      <th></th>\n",
       "    </tr>\n",
       "  </thead>\n",
       "  <tbody>\n",
       "    <tr>\n",
       "      <th>2</th>\n",
       "      <td>1.000000</td>\n",
       "      <td>0.569970</td>\n",
       "      <td>0.546903</td>\n",
       "      <td>0.140028</td>\n",
       "      <td>0.188639</td>\n",
       "      <td>0.339486</td>\n",
       "      <td>0.339486</td>\n",
       "      <td>0.390850</td>\n",
       "      <td>0.093352</td>\n",
       "      <td>0.165025</td>\n",
       "      <td>...</td>\n",
       "      <td>0.198030</td>\n",
       "      <td>0.256718</td>\n",
       "      <td>0.140028</td>\n",
       "      <td>0.353156</td>\n",
       "      <td>0.140028</td>\n",
       "      <td>0.198030</td>\n",
       "      <td>0.585837</td>\n",
       "      <td>0.198030</td>\n",
       "      <td>0.427793</td>\n",
       "      <td>0.093352</td>\n",
       "    </tr>\n",
       "    <tr>\n",
       "      <th>4</th>\n",
       "      <td>0.569970</td>\n",
       "      <td>1.000000</td>\n",
       "      <td>0.353281</td>\n",
       "      <td>0.150756</td>\n",
       "      <td>0.261116</td>\n",
       "      <td>0.429058</td>\n",
       "      <td>0.333712</td>\n",
       "      <td>0.207514</td>\n",
       "      <td>0.150756</td>\n",
       "      <td>0.213201</td>\n",
       "      <td>...</td>\n",
       "      <td>0.213201</td>\n",
       "      <td>0.301511</td>\n",
       "      <td>0.150756</td>\n",
       "      <td>0.355280</td>\n",
       "      <td>0.150756</td>\n",
       "      <td>0.213201</td>\n",
       "      <td>0.826153</td>\n",
       "      <td>0.213201</td>\n",
       "      <td>0.657952</td>\n",
       "      <td>0.150756</td>\n",
       "    </tr>\n",
       "    <tr>\n",
       "      <th>5</th>\n",
       "      <td>0.546903</td>\n",
       "      <td>0.353281</td>\n",
       "      <td>1.000000</td>\n",
       "      <td>0.000000</td>\n",
       "      <td>0.075165</td>\n",
       "      <td>0.123508</td>\n",
       "      <td>0.247016</td>\n",
       "      <td>0.209072</td>\n",
       "      <td>0.000000</td>\n",
       "      <td>0.184115</td>\n",
       "      <td>...</td>\n",
       "      <td>0.092057</td>\n",
       "      <td>0.065094</td>\n",
       "      <td>0.130189</td>\n",
       "      <td>0.177627</td>\n",
       "      <td>0.130189</td>\n",
       "      <td>0.000000</td>\n",
       "      <td>0.299187</td>\n",
       "      <td>0.092057</td>\n",
       "      <td>0.255686</td>\n",
       "      <td>0.000000</td>\n",
       "    </tr>\n",
       "    <tr>\n",
       "      <th>7</th>\n",
       "      <td>0.140028</td>\n",
       "      <td>0.150756</td>\n",
       "      <td>0.000000</td>\n",
       "      <td>1.000000</td>\n",
       "      <td>0.000000</td>\n",
       "      <td>0.316228</td>\n",
       "      <td>0.316228</td>\n",
       "      <td>0.344124</td>\n",
       "      <td>0.000000</td>\n",
       "      <td>0.000000</td>\n",
       "      <td>...</td>\n",
       "      <td>0.000000</td>\n",
       "      <td>0.500000</td>\n",
       "      <td>0.000000</td>\n",
       "      <td>0.000000</td>\n",
       "      <td>0.000000</td>\n",
       "      <td>0.000000</td>\n",
       "      <td>0.176777</td>\n",
       "      <td>0.000000</td>\n",
       "      <td>0.218218</td>\n",
       "      <td>0.000000</td>\n",
       "    </tr>\n",
       "    <tr>\n",
       "      <th>8</th>\n",
       "      <td>0.188639</td>\n",
       "      <td>0.261116</td>\n",
       "      <td>0.075165</td>\n",
       "      <td>0.000000</td>\n",
       "      <td>1.000000</td>\n",
       "      <td>0.365148</td>\n",
       "      <td>0.182574</td>\n",
       "      <td>0.198680</td>\n",
       "      <td>0.000000</td>\n",
       "      <td>0.000000</td>\n",
       "      <td>...</td>\n",
       "      <td>0.000000</td>\n",
       "      <td>0.288675</td>\n",
       "      <td>0.000000</td>\n",
       "      <td>0.143223</td>\n",
       "      <td>0.000000</td>\n",
       "      <td>0.000000</td>\n",
       "      <td>0.306186</td>\n",
       "      <td>0.000000</td>\n",
       "      <td>0.251976</td>\n",
       "      <td>0.577350</td>\n",
       "    </tr>\n",
       "    <tr>\n",
       "      <th>9</th>\n",
       "      <td>0.339486</td>\n",
       "      <td>0.429058</td>\n",
       "      <td>0.123508</td>\n",
       "      <td>0.316228</td>\n",
       "      <td>0.365148</td>\n",
       "      <td>1.000000</td>\n",
       "      <td>0.300000</td>\n",
       "      <td>0.217643</td>\n",
       "      <td>0.000000</td>\n",
       "      <td>0.223607</td>\n",
       "      <td>...</td>\n",
       "      <td>0.223607</td>\n",
       "      <td>0.474342</td>\n",
       "      <td>0.316228</td>\n",
       "      <td>0.156893</td>\n",
       "      <td>0.316228</td>\n",
       "      <td>0.000000</td>\n",
       "      <td>0.447214</td>\n",
       "      <td>0.223607</td>\n",
       "      <td>0.345033</td>\n",
       "      <td>0.316228</td>\n",
       "    </tr>\n",
       "    <tr>\n",
       "      <th>12</th>\n",
       "      <td>0.339486</td>\n",
       "      <td>0.333712</td>\n",
       "      <td>0.247016</td>\n",
       "      <td>0.316228</td>\n",
       "      <td>0.182574</td>\n",
       "      <td>0.300000</td>\n",
       "      <td>1.000000</td>\n",
       "      <td>0.290191</td>\n",
       "      <td>0.000000</td>\n",
       "      <td>0.000000</td>\n",
       "      <td>...</td>\n",
       "      <td>0.000000</td>\n",
       "      <td>0.158114</td>\n",
       "      <td>0.000000</td>\n",
       "      <td>0.117670</td>\n",
       "      <td>0.000000</td>\n",
       "      <td>0.000000</td>\n",
       "      <td>0.335410</td>\n",
       "      <td>0.000000</td>\n",
       "      <td>0.345033</td>\n",
       "      <td>0.000000</td>\n",
       "    </tr>\n",
       "    <tr>\n",
       "      <th>16</th>\n",
       "      <td>0.390850</td>\n",
       "      <td>0.207514</td>\n",
       "      <td>0.209072</td>\n",
       "      <td>0.344124</td>\n",
       "      <td>0.198680</td>\n",
       "      <td>0.217643</td>\n",
       "      <td>0.290191</td>\n",
       "      <td>1.000000</td>\n",
       "      <td>0.000000</td>\n",
       "      <td>0.243332</td>\n",
       "      <td>...</td>\n",
       "      <td>0.243332</td>\n",
       "      <td>0.344124</td>\n",
       "      <td>0.344124</td>\n",
       "      <td>0.170733</td>\n",
       "      <td>0.344124</td>\n",
       "      <td>0.000000</td>\n",
       "      <td>0.243332</td>\n",
       "      <td>0.243332</td>\n",
       "      <td>0.225282</td>\n",
       "      <td>0.000000</td>\n",
       "    </tr>\n",
       "    <tr>\n",
       "      <th>17</th>\n",
       "      <td>0.093352</td>\n",
       "      <td>0.150756</td>\n",
       "      <td>0.000000</td>\n",
       "      <td>0.000000</td>\n",
       "      <td>0.000000</td>\n",
       "      <td>0.000000</td>\n",
       "      <td>0.000000</td>\n",
       "      <td>0.000000</td>\n",
       "      <td>1.000000</td>\n",
       "      <td>0.000000</td>\n",
       "      <td>...</td>\n",
       "      <td>0.000000</td>\n",
       "      <td>0.000000</td>\n",
       "      <td>0.000000</td>\n",
       "      <td>0.000000</td>\n",
       "      <td>0.000000</td>\n",
       "      <td>0.000000</td>\n",
       "      <td>0.000000</td>\n",
       "      <td>0.000000</td>\n",
       "      <td>0.000000</td>\n",
       "      <td>0.000000</td>\n",
       "    </tr>\n",
       "    <tr>\n",
       "      <th>19</th>\n",
       "      <td>0.165025</td>\n",
       "      <td>0.213201</td>\n",
       "      <td>0.184115</td>\n",
       "      <td>0.000000</td>\n",
       "      <td>0.000000</td>\n",
       "      <td>0.223607</td>\n",
       "      <td>0.000000</td>\n",
       "      <td>0.243332</td>\n",
       "      <td>0.000000</td>\n",
       "      <td>1.000000</td>\n",
       "      <td>...</td>\n",
       "      <td>0.500000</td>\n",
       "      <td>0.353553</td>\n",
       "      <td>0.707107</td>\n",
       "      <td>0.175412</td>\n",
       "      <td>0.707107</td>\n",
       "      <td>0.000000</td>\n",
       "      <td>0.250000</td>\n",
       "      <td>0.500000</td>\n",
       "      <td>0.154303</td>\n",
       "      <td>0.000000</td>\n",
       "    </tr>\n",
       "  </tbody>\n",
       "</table>\n",
       "<p>10 rows × 50 columns</p>\n",
       "</div>"
      ],
      "text/plain": [
       "            2         4         5         7         8         9         12  \\\n",
       "user                                                                         \n",
       "2     1.000000  0.569970  0.546903  0.140028  0.188639  0.339486  0.339486   \n",
       "4     0.569970  1.000000  0.353281  0.150756  0.261116  0.429058  0.333712   \n",
       "5     0.546903  0.353281  1.000000  0.000000  0.075165  0.123508  0.247016   \n",
       "7     0.140028  0.150756  0.000000  1.000000  0.000000  0.316228  0.316228   \n",
       "8     0.188639  0.261116  0.075165  0.000000  1.000000  0.365148  0.182574   \n",
       "9     0.339486  0.429058  0.123508  0.316228  0.365148  1.000000  0.300000   \n",
       "12    0.339486  0.333712  0.247016  0.316228  0.182574  0.300000  1.000000   \n",
       "16    0.390850  0.207514  0.209072  0.344124  0.198680  0.217643  0.290191   \n",
       "17    0.093352  0.150756  0.000000  0.000000  0.000000  0.000000  0.000000   \n",
       "19    0.165025  0.213201  0.184115  0.000000  0.000000  0.223607  0.000000   \n",
       "\n",
       "            16        17        19  ...        55        56        57  \\\n",
       "user                                ...                                 \n",
       "2     0.390850  0.093352  0.165025  ...  0.198030  0.256718  0.140028   \n",
       "4     0.207514  0.150756  0.213201  ...  0.213201  0.301511  0.150756   \n",
       "5     0.209072  0.000000  0.184115  ...  0.092057  0.065094  0.130189   \n",
       "7     0.344124  0.000000  0.000000  ...  0.000000  0.500000  0.000000   \n",
       "8     0.198680  0.000000  0.000000  ...  0.000000  0.288675  0.000000   \n",
       "9     0.217643  0.000000  0.223607  ...  0.223607  0.474342  0.316228   \n",
       "12    0.290191  0.000000  0.000000  ...  0.000000  0.158114  0.000000   \n",
       "16    1.000000  0.000000  0.243332  ...  0.243332  0.344124  0.344124   \n",
       "17    0.000000  1.000000  0.000000  ...  0.000000  0.000000  0.000000   \n",
       "19    0.243332  0.000000  1.000000  ...  0.500000  0.353553  0.707107   \n",
       "\n",
       "            58        59        60        61        62        63        64  \n",
       "user                                                                        \n",
       "2     0.353156  0.140028  0.198030  0.585837  0.198030  0.427793  0.093352  \n",
       "4     0.355280  0.150756  0.213201  0.826153  0.213201  0.657952  0.150756  \n",
       "5     0.177627  0.130189  0.000000  0.299187  0.092057  0.255686  0.000000  \n",
       "7     0.000000  0.000000  0.000000  0.176777  0.000000  0.218218  0.000000  \n",
       "8     0.143223  0.000000  0.000000  0.306186  0.000000  0.251976  0.577350  \n",
       "9     0.156893  0.316228  0.000000  0.447214  0.223607  0.345033  0.316228  \n",
       "12    0.117670  0.000000  0.000000  0.335410  0.000000  0.345033  0.000000  \n",
       "16    0.170733  0.344124  0.000000  0.243332  0.243332  0.225282  0.000000  \n",
       "17    0.000000  0.000000  0.000000  0.000000  0.000000  0.000000  0.000000  \n",
       "19    0.175412  0.707107  0.000000  0.250000  0.500000  0.154303  0.000000  \n",
       "\n",
       "[10 rows x 50 columns]"
      ]
     },
     "execution_count": 27,
     "metadata": {},
     "output_type": "execute_result"
    }
   ],
   "source": [
    "user_sim_df.head(10)"
   ]
  },
  {
   "cell_type": "code",
   "execution_count": 28,
   "id": "8bc3a317-5681-4739-b588-5d9ceb649e43",
   "metadata": {},
   "outputs": [
    {
     "data": {
      "text/plain": [
       "user\n",
       "2     0.390850\n",
       "33    0.344124\n",
       "40    0.344124\n",
       "Name: 16, dtype: float64"
      ]
     },
     "execution_count": 28,
     "metadata": {},
     "output_type": "execute_result"
    }
   ],
   "source": [
    "# For user n=7, which are the closest k=3 users?\n",
    "n = 7\n",
    "u = user_list[n]\n",
    "k = 3\n",
    "user_sim_df[u].sort_values(ascending=False)[1:(k+1)] # first user is the user herself, discarded"
   ]
  },
  {
   "cell_type": "code",
   "execution_count": 29,
   "id": "fa78a919-e543-4cf6-92b6-aafc599247d4",
   "metadata": {},
   "outputs": [],
   "source": [
    "# For user n=7, which is her ratings prediction using the k=3 closest neighbors?\n",
    "n = 7\n",
    "u = user_list[n]\n",
    "k = 3\n",
    "item_list = rating_sparse_df.columns[1:]\n",
    "neighbor_users = list(user_sim_df[u].sort_values(ascending=False)[1:(k+1)].index)\n",
    "neighbor_weights = list(user_sim_df[u].sort_values(ascending=False)[1:(k+1)].values)\n",
    "estimared_ratings = [0]*len(item_list)\n",
    "for i, item in enumerate(item_list):\n",
    "    n = 0\n",
    "    summed_weights = 0\n",
    "    for j, user in enumerate(neighbor_users):\n",
    "        r = rating_sparse_df.loc[rating_sparse_df.user==user, item].values[0]\n",
    "        if r > 0:\n",
    "            n += 1\n",
    "            estimared_ratings[i] += r*neighbor_weights[j]\n",
    "            summed_weights += neighbor_weights[j]\n",
    "    if n > 0:\n",
    "        estimared_ratings[i] /= summed_weights"
   ]
  },
  {
   "cell_type": "code",
   "execution_count": 30,
   "id": "e819fa34-e848-4bf6-a202-5548f41a309c",
   "metadata": {},
   "outputs": [],
   "source": [
    "true_ratings = rating_sparse_df.loc[rating_sparse_df.user==user].values[0,1:]"
   ]
  },
  {
   "cell_type": "code",
   "execution_count": 31,
   "id": "aa153dfb-f280-477f-bfc7-769fd23800df",
   "metadata": {},
   "outputs": [],
   "source": [
    "rmse = np.sqrt(np.sum(np.square(np.array(estimared_ratings)-true_ratings))/len(estimared_ratings))"
   ]
  },
  {
   "cell_type": "code",
   "execution_count": 32,
   "id": "1992643d-31db-4db9-b44c-32e3aa9d10e8",
   "metadata": {},
   "outputs": [
    {
     "data": {
      "text/plain": [
       "1.8445474891761775"
      ]
     },
     "execution_count": 32,
     "metadata": {},
     "output_type": "execute_result"
    }
   ],
   "source": [
    "rmse"
   ]
  },
  {
   "cell_type": "markdown",
   "id": "8aa2d35e-e361-473d-a267-c8fa038874da",
   "metadata": {},
   "source": [
    "# Part 2: Non-Negative Matrix Factorization (NMF)"
   ]
  },
  {
   "cell_type": "markdown",
   "id": "3354ae56-61fa-4bad-b2b2-86819e1ba4b4",
   "metadata": {},
   "source": [
    "## 1. NMF with the Suprise Library"
   ]
  },
  {
   "cell_type": "code",
   "execution_count": 5,
   "id": "885c4332-09ea-43ee-8b9d-1b2b2711b82e",
   "metadata": {},
   "outputs": [],
   "source": [
    "from surprise import NMF\n",
    "from surprise import Dataset, Reader\n",
    "from surprise.model_selection import train_test_split\n",
    "from surprise import accuracy"
   ]
  },
  {
   "cell_type": "code",
   "execution_count": 6,
   "id": "7083e23a-ab3a-41c6-acaf-1da3544c5c9a",
   "metadata": {},
   "outputs": [],
   "source": [
    "ratings_df = pd.read_csv(\"../data/ratings.csv\")"
   ]
  },
  {
   "cell_type": "code",
   "execution_count": 7,
   "id": "609fa832-28e0-41ca-ba28-ae6771a728e3",
   "metadata": {},
   "outputs": [
    {
     "data": {
      "text/html": [
       "<div>\n",
       "<style scoped>\n",
       "    .dataframe tbody tr th:only-of-type {\n",
       "        vertical-align: middle;\n",
       "    }\n",
       "\n",
       "    .dataframe tbody tr th {\n",
       "        vertical-align: top;\n",
       "    }\n",
       "\n",
       "    .dataframe thead th {\n",
       "        text-align: right;\n",
       "    }\n",
       "</style>\n",
       "<table border=\"1\" class=\"dataframe\">\n",
       "  <thead>\n",
       "    <tr style=\"text-align: right;\">\n",
       "      <th></th>\n",
       "      <th>user</th>\n",
       "      <th>item</th>\n",
       "      <th>rating</th>\n",
       "    </tr>\n",
       "  </thead>\n",
       "  <tbody>\n",
       "    <tr>\n",
       "      <th>0</th>\n",
       "      <td>1889878</td>\n",
       "      <td>CC0101EN</td>\n",
       "      <td>3.0</td>\n",
       "    </tr>\n",
       "    <tr>\n",
       "      <th>1</th>\n",
       "      <td>1342067</td>\n",
       "      <td>CL0101EN</td>\n",
       "      <td>3.0</td>\n",
       "    </tr>\n",
       "    <tr>\n",
       "      <th>2</th>\n",
       "      <td>1990814</td>\n",
       "      <td>ML0120ENv3</td>\n",
       "      <td>3.0</td>\n",
       "    </tr>\n",
       "    <tr>\n",
       "      <th>3</th>\n",
       "      <td>380098</td>\n",
       "      <td>BD0211EN</td>\n",
       "      <td>3.0</td>\n",
       "    </tr>\n",
       "    <tr>\n",
       "      <th>4</th>\n",
       "      <td>779563</td>\n",
       "      <td>DS0101EN</td>\n",
       "      <td>3.0</td>\n",
       "    </tr>\n",
       "  </tbody>\n",
       "</table>\n",
       "</div>"
      ],
      "text/plain": [
       "      user        item  rating\n",
       "0  1889878    CC0101EN     3.0\n",
       "1  1342067    CL0101EN     3.0\n",
       "2  1990814  ML0120ENv3     3.0\n",
       "3   380098    BD0211EN     3.0\n",
       "4   779563    DS0101EN     3.0"
      ]
     },
     "execution_count": 7,
     "metadata": {},
     "output_type": "execute_result"
    }
   ],
   "source": [
    "ratings_df.head()"
   ]
  },
  {
   "cell_type": "code",
   "execution_count": 8,
   "id": "52ad406f-7a4f-4989-acf4-c59c39c5828a",
   "metadata": {},
   "outputs": [
    {
     "data": {
      "text/html": [
       "<div>\n",
       "<style scoped>\n",
       "    .dataframe tbody tr th:only-of-type {\n",
       "        vertical-align: middle;\n",
       "    }\n",
       "\n",
       "    .dataframe tbody tr th {\n",
       "        vertical-align: top;\n",
       "    }\n",
       "\n",
       "    .dataframe thead th {\n",
       "        text-align: right;\n",
       "    }\n",
       "</style>\n",
       "<table border=\"1\" class=\"dataframe\">\n",
       "  <thead>\n",
       "    <tr style=\"text-align: right;\">\n",
       "      <th></th>\n",
       "      <th>user</th>\n",
       "      <th>AI0111EN</th>\n",
       "      <th>BC0101EN</th>\n",
       "      <th>BC0201EN</th>\n",
       "      <th>BC0202EN</th>\n",
       "      <th>BD0101EN</th>\n",
       "      <th>BD0111EN</th>\n",
       "      <th>BD0115EN</th>\n",
       "      <th>BD0121EN</th>\n",
       "      <th>BD0123EN</th>\n",
       "      <th>...</th>\n",
       "      <th>SW0201EN</th>\n",
       "      <th>TA0105</th>\n",
       "      <th>TA0105EN</th>\n",
       "      <th>TA0106EN</th>\n",
       "      <th>TMP0101EN</th>\n",
       "      <th>TMP0105EN</th>\n",
       "      <th>TMP0106</th>\n",
       "      <th>TMP107</th>\n",
       "      <th>WA0101EN</th>\n",
       "      <th>WA0103EN</th>\n",
       "    </tr>\n",
       "  </thead>\n",
       "  <tbody>\n",
       "    <tr>\n",
       "      <th>0</th>\n",
       "      <td>2</td>\n",
       "      <td>0.0</td>\n",
       "      <td>3.0</td>\n",
       "      <td>0.0</td>\n",
       "      <td>0.0</td>\n",
       "      <td>3.0</td>\n",
       "      <td>2.0</td>\n",
       "      <td>0.0</td>\n",
       "      <td>2.0</td>\n",
       "      <td>2.0</td>\n",
       "      <td>...</td>\n",
       "      <td>0.0</td>\n",
       "      <td>2.0</td>\n",
       "      <td>0.0</td>\n",
       "      <td>3.0</td>\n",
       "      <td>0.0</td>\n",
       "      <td>2.0</td>\n",
       "      <td>2.0</td>\n",
       "      <td>0.0</td>\n",
       "      <td>3.0</td>\n",
       "      <td>0.0</td>\n",
       "    </tr>\n",
       "    <tr>\n",
       "      <th>1</th>\n",
       "      <td>4</td>\n",
       "      <td>0.0</td>\n",
       "      <td>0.0</td>\n",
       "      <td>0.0</td>\n",
       "      <td>0.0</td>\n",
       "      <td>2.0</td>\n",
       "      <td>2.0</td>\n",
       "      <td>2.0</td>\n",
       "      <td>2.0</td>\n",
       "      <td>2.0</td>\n",
       "      <td>...</td>\n",
       "      <td>0.0</td>\n",
       "      <td>2.0</td>\n",
       "      <td>0.0</td>\n",
       "      <td>0.0</td>\n",
       "      <td>0.0</td>\n",
       "      <td>2.0</td>\n",
       "      <td>2.0</td>\n",
       "      <td>0.0</td>\n",
       "      <td>2.0</td>\n",
       "      <td>2.0</td>\n",
       "    </tr>\n",
       "    <tr>\n",
       "      <th>2</th>\n",
       "      <td>5</td>\n",
       "      <td>2.0</td>\n",
       "      <td>2.0</td>\n",
       "      <td>2.0</td>\n",
       "      <td>0.0</td>\n",
       "      <td>2.0</td>\n",
       "      <td>0.0</td>\n",
       "      <td>0.0</td>\n",
       "      <td>0.0</td>\n",
       "      <td>2.0</td>\n",
       "      <td>...</td>\n",
       "      <td>0.0</td>\n",
       "      <td>0.0</td>\n",
       "      <td>2.0</td>\n",
       "      <td>2.0</td>\n",
       "      <td>2.0</td>\n",
       "      <td>2.0</td>\n",
       "      <td>2.0</td>\n",
       "      <td>2.0</td>\n",
       "      <td>0.0</td>\n",
       "      <td>2.0</td>\n",
       "    </tr>\n",
       "    <tr>\n",
       "      <th>3</th>\n",
       "      <td>7</td>\n",
       "      <td>0.0</td>\n",
       "      <td>0.0</td>\n",
       "      <td>0.0</td>\n",
       "      <td>0.0</td>\n",
       "      <td>0.0</td>\n",
       "      <td>0.0</td>\n",
       "      <td>0.0</td>\n",
       "      <td>0.0</td>\n",
       "      <td>0.0</td>\n",
       "      <td>...</td>\n",
       "      <td>0.0</td>\n",
       "      <td>0.0</td>\n",
       "      <td>0.0</td>\n",
       "      <td>0.0</td>\n",
       "      <td>0.0</td>\n",
       "      <td>0.0</td>\n",
       "      <td>0.0</td>\n",
       "      <td>0.0</td>\n",
       "      <td>0.0</td>\n",
       "      <td>0.0</td>\n",
       "    </tr>\n",
       "    <tr>\n",
       "      <th>4</th>\n",
       "      <td>8</td>\n",
       "      <td>0.0</td>\n",
       "      <td>0.0</td>\n",
       "      <td>0.0</td>\n",
       "      <td>0.0</td>\n",
       "      <td>0.0</td>\n",
       "      <td>2.0</td>\n",
       "      <td>0.0</td>\n",
       "      <td>0.0</td>\n",
       "      <td>0.0</td>\n",
       "      <td>...</td>\n",
       "      <td>0.0</td>\n",
       "      <td>0.0</td>\n",
       "      <td>0.0</td>\n",
       "      <td>0.0</td>\n",
       "      <td>0.0</td>\n",
       "      <td>0.0</td>\n",
       "      <td>0.0</td>\n",
       "      <td>0.0</td>\n",
       "      <td>0.0</td>\n",
       "      <td>0.0</td>\n",
       "    </tr>\n",
       "  </tbody>\n",
       "</table>\n",
       "<p>5 rows × 127 columns</p>\n",
       "</div>"
      ],
      "text/plain": [
       "   user  AI0111EN  BC0101EN  BC0201EN  BC0202EN  BD0101EN  BD0111EN  BD0115EN  \\\n",
       "0     2       0.0       3.0       0.0       0.0       3.0       2.0       0.0   \n",
       "1     4       0.0       0.0       0.0       0.0       2.0       2.0       2.0   \n",
       "2     5       2.0       2.0       2.0       0.0       2.0       0.0       0.0   \n",
       "3     7       0.0       0.0       0.0       0.0       0.0       0.0       0.0   \n",
       "4     8       0.0       0.0       0.0       0.0       0.0       2.0       0.0   \n",
       "\n",
       "   BD0121EN  BD0123EN  ...  SW0201EN  TA0105  TA0105EN  TA0106EN  TMP0101EN  \\\n",
       "0       2.0       2.0  ...       0.0     2.0       0.0       3.0        0.0   \n",
       "1       2.0       2.0  ...       0.0     2.0       0.0       0.0        0.0   \n",
       "2       0.0       2.0  ...       0.0     0.0       2.0       2.0        2.0   \n",
       "3       0.0       0.0  ...       0.0     0.0       0.0       0.0        0.0   \n",
       "4       0.0       0.0  ...       0.0     0.0       0.0       0.0        0.0   \n",
       "\n",
       "   TMP0105EN  TMP0106  TMP107  WA0101EN  WA0103EN  \n",
       "0        2.0      2.0     0.0       3.0       0.0  \n",
       "1        2.0      2.0     0.0       2.0       2.0  \n",
       "2        2.0      2.0     2.0       0.0       2.0  \n",
       "3        0.0      0.0     0.0       0.0       0.0  \n",
       "4        0.0      0.0     0.0       0.0       0.0  \n",
       "\n",
       "[5 rows x 127 columns]"
      ]
     },
     "execution_count": 8,
     "metadata": {},
     "output_type": "execute_result"
    }
   ],
   "source": [
    "# Dense -> Sparse ratings\n",
    "# HOWEVER: note that Suprise works with dense tables, too\n",
    "ratings_sparse_df = ratings_df.pivot(index='user', columns='item', values='rating').fillna(0).reset_index().rename_axis(index=None, columns=None)\n",
    "ratings_sparse_df.head()"
   ]
  },
  {
   "cell_type": "code",
   "execution_count": 9,
   "id": "fdbf6866-0c92-431b-8adf-bf4a679ab711",
   "metadata": {},
   "outputs": [],
   "source": [
    "# Read the course rating dataset with columns user item rating\n",
    "# The CSV file can be a dense one\n",
    "reader = Reader(\n",
    "        line_format='user item rating', sep=',', skip_lines=1, rating_scale=(2, 3))\n",
    "course_dataset = Dataset.load_from_file(\"../data/ratings.csv\", reader=reader)"
   ]
  },
  {
   "cell_type": "code",
   "execution_count": 10,
   "id": "08e9e737-020d-443a-969b-7dbd0aeb6353",
   "metadata": {},
   "outputs": [],
   "source": [
    "trainset, testset = train_test_split(course_dataset, test_size=.3)"
   ]
  },
  {
   "cell_type": "code",
   "execution_count": 11,
   "id": "bd407724-a765-41a5-a8fb-0b9b977747c3",
   "metadata": {},
   "outputs": [
    {
     "name": "stdout",
     "output_type": "stream",
     "text": [
      "Total 31348 users and 126 items in the trainingset\n"
     ]
    }
   ],
   "source": [
    "print(f\"Total {trainset.n_users} users and {trainset.n_items} items in the trainingset\")"
   ]
  },
  {
   "cell_type": "code",
   "execution_count": 12,
   "id": "30495784-fc97-45af-ae8f-db59dd8ac407",
   "metadata": {},
   "outputs": [
    {
     "name": "stdout",
     "output_type": "stream",
     "text": [
      "Processing epoch 0\n",
      "Processing epoch 1\n",
      "Processing epoch 2\n",
      "Processing epoch 3\n",
      "Processing epoch 4\n",
      "Processing epoch 5\n",
      "Processing epoch 6\n",
      "Processing epoch 7\n",
      "Processing epoch 8\n",
      "Processing epoch 9\n",
      "Processing epoch 10\n",
      "Processing epoch 11\n",
      "Processing epoch 12\n",
      "Processing epoch 13\n",
      "Processing epoch 14\n",
      "Processing epoch 15\n",
      "Processing epoch 16\n",
      "Processing epoch 17\n",
      "Processing epoch 18\n",
      "Processing epoch 19\n",
      "Processing epoch 20\n",
      "Processing epoch 21\n",
      "Processing epoch 22\n",
      "Processing epoch 23\n",
      "Processing epoch 24\n",
      "Processing epoch 25\n",
      "Processing epoch 26\n",
      "Processing epoch 27\n",
      "Processing epoch 28\n",
      "Processing epoch 29\n",
      "Processing epoch 30\n",
      "Processing epoch 31\n",
      "Processing epoch 32\n",
      "Processing epoch 33\n",
      "Processing epoch 34\n",
      "Processing epoch 35\n",
      "Processing epoch 36\n",
      "Processing epoch 37\n",
      "Processing epoch 38\n",
      "Processing epoch 39\n",
      "Processing epoch 40\n",
      "Processing epoch 41\n",
      "Processing epoch 42\n",
      "Processing epoch 43\n",
      "Processing epoch 44\n",
      "Processing epoch 45\n",
      "Processing epoch 46\n",
      "Processing epoch 47\n",
      "Processing epoch 48\n",
      "Processing epoch 49\n",
      "RMSE: 0.2124\n"
     ]
    },
    {
     "data": {
      "text/plain": [
       "0.21235480559689332"
      ]
     },
     "execution_count": 12,
     "metadata": {},
     "output_type": "execute_result"
    }
   ],
   "source": [
    "algo = NMF(n_factors=15, n_epochs=50, verbose=True, random_state=123)\n",
    "algo.fit(trainset)\n",
    "predictions = algo.test(testset)\n",
    "accuracy.rmse(predictions)"
   ]
  },
  {
   "cell_type": "markdown",
   "id": "626acbcc-1e70-42c6-873b-3bc1614947d1",
   "metadata": {},
   "source": [
    "## 2. NMF with Scikit-Learn"
   ]
  },
  {
   "cell_type": "code",
   "execution_count": 13,
   "id": "d01a8286-0ca0-4a2a-a88c-b608b2ed04a1",
   "metadata": {},
   "outputs": [],
   "source": [
    "from sklearn.decomposition import NMF\n",
    "from sklearn.model_selection import train_test_split\n",
    "from sklearn.metrics import mean_squared_error"
   ]
  },
  {
   "cell_type": "code",
   "execution_count": 14,
   "id": "3144c79a-28a2-4bec-bbda-38fa3a519058",
   "metadata": {},
   "outputs": [],
   "source": [
    "# Scikit-learn uses the SPARSE representation\n",
    "X_train, X_test = train_test_split(\n",
    "    ratings_sparse_df.iloc[:,1:],\n",
    "    test_size=0.3, # portion of dataset to allocate to test set\n",
    "    random_state=42 # we are setting the seed here, ALWAYS DO IT!\n",
    ")"
   ]
  },
  {
   "cell_type": "code",
   "execution_count": 15,
   "id": "b60b6c5c-aa20-49e3-90f0-9451cc90be5c",
   "metadata": {},
   "outputs": [],
   "source": [
    "nmf = NMF(n_components=15, init='random', random_state=818)\n",
    "W = nmf.fit_transform(X_train) # (X.shape[0]=n_samples, n_components)\n",
    "H = nmf.components_ # (n_components, X.shape[1]=n_features)\n",
    "X_hat = W@H"
   ]
  },
  {
   "cell_type": "code",
   "execution_count": 16,
   "id": "2f2e40f8-3475-4b4f-86c9-1df00d9efbbf",
   "metadata": {},
   "outputs": [
    {
     "data": {
      "text/plain": [
       "(23730, 15)"
      ]
     },
     "execution_count": 16,
     "metadata": {},
     "output_type": "execute_result"
    }
   ],
   "source": [
    "W.shape"
   ]
  },
  {
   "cell_type": "code",
   "execution_count": 17,
   "id": "ba8b7a94-6126-4ab1-be53-6db4aaccf8f8",
   "metadata": {},
   "outputs": [
    {
     "data": {
      "text/plain": [
       "(15, 126)"
      ]
     },
     "execution_count": 17,
     "metadata": {},
     "output_type": "execute_result"
    }
   ],
   "source": [
    "H.shape"
   ]
  },
  {
   "cell_type": "code",
   "execution_count": 18,
   "id": "e0b08adb-774a-4a8b-bd7d-6515c5d6e30c",
   "metadata": {},
   "outputs": [
    {
     "name": "stdout",
     "output_type": "stream",
     "text": [
      "RMSE:  0.3360953022513968\n"
     ]
    }
   ],
   "source": [
    "# The RMSE metric is worse, with a default configuration\n",
    "print('RMSE: ', mean_squared_error(X_train, X_hat, squared=False))"
   ]
  },
  {
   "cell_type": "code",
   "execution_count": 19,
   "id": "4d693fdd-d5d5-4b90-a110-d6d8511010dc",
   "metadata": {},
   "outputs": [],
   "source": [
    "# IMPORTANT: The fitted NMF model has constant H components,\n",
    "# but W is different for each input data X.\n",
    "W_test = nmf.transform(X_test)"
   ]
  },
  {
   "cell_type": "code",
   "execution_count": 20,
   "id": "e3504c82-ee86-4d29-9fa0-f7aa3a8d90ee",
   "metadata": {},
   "outputs": [
    {
     "data": {
      "text/plain": [
       "(10171, 15)"
      ]
     },
     "execution_count": 20,
     "metadata": {},
     "output_type": "execute_result"
    }
   ],
   "source": [
    "W_test.shape"
   ]
  },
  {
   "cell_type": "code",
   "execution_count": 21,
   "id": "8b3c1f57-e5ef-41e8-a58e-257e1ea1cc99",
   "metadata": {},
   "outputs": [],
   "source": [
    "X_test_hat = W_test@H"
   ]
  },
  {
   "cell_type": "code",
   "execution_count": 22,
   "id": "4f028e23-02af-4bd1-a546-4feb95ac77c2",
   "metadata": {},
   "outputs": [
    {
     "name": "stdout",
     "output_type": "stream",
     "text": [
      "RMSE:  0.3373680254871046\n"
     ]
    }
   ],
   "source": [
    "# The RMSE metric is worse, with a default configuration\n",
    "print('RMSE: ', mean_squared_error(X_test, X_test_hat, squared=False))"
   ]
  },
  {
   "cell_type": "code",
   "execution_count": null,
   "id": "2ffa796b-b052-47b1-9611-385e58e72343",
   "metadata": {},
   "outputs": [],
   "source": []
  }
 ],
 "metadata": {
  "kernelspec": {
   "display_name": "Python 3 (ipykernel)",
   "language": "python",
   "name": "python3"
  },
  "language_info": {
   "codemirror_mode": {
    "name": "ipython",
    "version": 3
   },
   "file_extension": ".py",
   "mimetype": "text/x-python",
   "name": "python",
   "nbconvert_exporter": "python",
   "pygments_lexer": "ipython3",
   "version": "3.7.13"
  }
 },
 "nbformat": 4,
 "nbformat_minor": 5
}
