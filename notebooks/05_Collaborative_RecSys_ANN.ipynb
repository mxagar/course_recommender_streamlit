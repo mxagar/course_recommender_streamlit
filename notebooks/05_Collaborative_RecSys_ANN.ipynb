{
 "cells": [
  {
   "cell_type": "markdown",
   "id": "3fd1eb4a-7838-436d-92ca-b46ffd18146b",
   "metadata": {},
   "source": [
    "# Course Recommender: Collaborative-Filtering Methods with Neural Networks"
   ]
  },
  {
   "cell_type": "markdown",
   "id": "bb42f346-7b0a-4504-a1a5-b00298718127",
   "metadata": {},
   "source": [
    "This project implements and deploys an AI course Recommender System using [Streamlit](https://streamlit.io/). It was inspired by the the [IBM Machine Learning Professional Certificate](https://www.coursera.org/professional-certificates/ibm-machine-learning) offered by IBM & Coursera. In the last course/module of the Specialization, Machine Learning Capstone, a similar application is built; check my [class notes](https://github.com/mxagar/machine_learning_ibm/tree/main/06_Capstone_Project/06_Capstone_Recommender_System.md) for more information.\n",
    "\n",
    "This notebook researches and implements different **Collaborative-Filtering** recommender systems based on Artificial Neural Networks (ANN). You can open it in Google Colab:\n",
    "\n",
    "[![Open In Colab](https://colab.research.google.com/assets/colab-badge.svg)](https://colab.research.google.com/github/mxagar/course_recommender_streamlit/blob/main/notebooks/05_Collaborative_RecSys_ANN.ipynb)\n",
    "\n",
    "The following is implemented in the current notebook:\n",
    "\n",
    "  - A very simple ANN is created with Keras using OOP, i.e., inheriting the `tensorflow.keras.Model` class. The model takes the dense ratings dataframe encoded with indices and it builds two embeddings: one for the user representations and the other for the item representations. Both embeddings have size 16 and are multiplied (dot product) to predict the rating.\n",
    "  - The training results in two important embedding matrices, which encode latent features. Therefore, we have the following dataframes:\n",
    "    - user embeddings: `(33901, 17)`\n",
    "    - item embeddings: `(126, 17)`\n",
    "    - ratings (dense): `(233306, 3)`\n",
    "  - The embeddings are joined to the ratings dataframe so that we get a table of shape `(233306, 3+16+16)`. Then, the two embedding vectors are summed and we collapse the large dataframe to a shape of `(233306, 16+1)`, i.e., 16 features (summed embedding vectors) and the rating (target).\n",
    "  - With this dataset, regression models are applied:\n",
    "    - Linear regression.\n",
    "    - Lasso regression with cross-validation.\n",
    "    - Ridge regression with cross-validation.\n",
    "    - Random forest classifier with a grid search.\n",
    "\n",
    "![Embedding feature vectors](../assets/embedding_feature_vector.jpg)\n",
    "\n",
    "![Embedding feature vectors - regression](../assets/rating_regression.jpg)\n",
    "\n",
    "Table of contents:\n",
    "\n",
    "- [Part 1: Create the Embedding Features](#Part-1:-Create-the-Embedding-Features)\n",
    "  - [1. Load Dataset](#1.-Load-Dataset)\n",
    "  - [2. Define and Train Neural Network to Extract Embeddings](#2.-Define-and-Train-Neural-Network-to-Extract-Embeddings)\n",
    "      - Test with New Data\n",
    "  - [3. Extract and Persist Embeddings](#3.-Extract-and-Persist-Embeddings)\n",
    "- [Part 2: Regression and Classification Models of the Embeddings](#Part-2:-Regression-and-Classification-Models-of-the-Embeddings)\n",
    "  - [1. Prepare Dataset](#1.-Prepare-Dataset)\n",
    "  - [2. Perform Regression](#2.-Perform-Regression)\n",
    "    - Linear Regression\n",
    "    - Regularized Regression with Cross-Validation: Lasso, Ridge\n",
    "  - [3. Perform Classification](#3.-Perform-Classification)\n",
    "    - Random Forest Classifier"
   ]
  },
  {
   "cell_type": "code",
   "execution_count": 1,
   "id": "53b80823-5d1e-4433-b3bb-d60a059fe32d",
   "metadata": {},
   "outputs": [],
   "source": [
    "import pandas as pd\n",
    "import tensorflow as tf\n",
    "import matplotlib.pyplot as plt\n",
    "\n",
    "from tensorflow import keras\n",
    "from tensorflow.keras import layers"
   ]
  },
  {
   "cell_type": "code",
   "execution_count": 2,
   "id": "924f0b2d-c4f3-4cfc-9a88-afe4fe7620b6",
   "metadata": {},
   "outputs": [],
   "source": [
    "# Set a random state\n",
    "rs = 123"
   ]
  },
  {
   "cell_type": "markdown",
   "id": "3bab3905-bb92-4483-876c-3ea30cc1ae06",
   "metadata": {},
   "source": [
    "# Part 1: Create the Embedding Features"
   ]
  },
  {
   "cell_type": "markdown",
   "id": "5b6f8984-5a2f-43b6-9bfb-8a71d4f2927e",
   "metadata": {},
   "source": [
    "## 1. Load Dataset"
   ]
  },
  {
   "cell_type": "code",
   "execution_count": 3,
   "id": "3207d828-9bac-4d29-8caf-931536fcba2a",
   "metadata": {},
   "outputs": [
    {
     "data": {
      "text/html": [
       "<div>\n",
       "<style scoped>\n",
       "    .dataframe tbody tr th:only-of-type {\n",
       "        vertical-align: middle;\n",
       "    }\n",
       "\n",
       "    .dataframe tbody tr th {\n",
       "        vertical-align: top;\n",
       "    }\n",
       "\n",
       "    .dataframe thead th {\n",
       "        text-align: right;\n",
       "    }\n",
       "</style>\n",
       "<table border=\"1\" class=\"dataframe\">\n",
       "  <thead>\n",
       "    <tr style=\"text-align: right;\">\n",
       "      <th></th>\n",
       "      <th>user</th>\n",
       "      <th>item</th>\n",
       "      <th>rating</th>\n",
       "    </tr>\n",
       "  </thead>\n",
       "  <tbody>\n",
       "    <tr>\n",
       "      <th>0</th>\n",
       "      <td>1889878</td>\n",
       "      <td>CC0101EN</td>\n",
       "      <td>3.0</td>\n",
       "    </tr>\n",
       "    <tr>\n",
       "      <th>1</th>\n",
       "      <td>1342067</td>\n",
       "      <td>CL0101EN</td>\n",
       "      <td>3.0</td>\n",
       "    </tr>\n",
       "    <tr>\n",
       "      <th>2</th>\n",
       "      <td>1990814</td>\n",
       "      <td>ML0120ENv3</td>\n",
       "      <td>3.0</td>\n",
       "    </tr>\n",
       "    <tr>\n",
       "      <th>3</th>\n",
       "      <td>380098</td>\n",
       "      <td>BD0211EN</td>\n",
       "      <td>3.0</td>\n",
       "    </tr>\n",
       "    <tr>\n",
       "      <th>4</th>\n",
       "      <td>779563</td>\n",
       "      <td>DS0101EN</td>\n",
       "      <td>3.0</td>\n",
       "    </tr>\n",
       "  </tbody>\n",
       "</table>\n",
       "</div>"
      ],
      "text/plain": [
       "      user        item  rating\n",
       "0  1889878    CC0101EN     3.0\n",
       "1  1342067    CL0101EN     3.0\n",
       "2  1990814  ML0120ENv3     3.0\n",
       "3   380098    BD0211EN     3.0\n",
       "4   779563    DS0101EN     3.0"
      ]
     },
     "execution_count": 3,
     "metadata": {},
     "output_type": "execute_result"
    }
   ],
   "source": [
    "rating_df = pd.read_csv(\"../data/ratings.csv\")\n",
    "rating_df.head()"
   ]
  },
  {
   "cell_type": "code",
   "execution_count": 4,
   "id": "02509f2e-710c-485a-8546-09c6dbacfb65",
   "metadata": {},
   "outputs": [
    {
     "data": {
      "text/plain": [
       "(233306, 3)"
      ]
     },
     "execution_count": 4,
     "metadata": {},
     "output_type": "execute_result"
    }
   ],
   "source": [
    "rating_df.shape"
   ]
  },
  {
   "cell_type": "code",
   "execution_count": 5,
   "id": "91935154-7bce-465d-84b0-fe0fe3253585",
   "metadata": {},
   "outputs": [
    {
     "name": "stdout",
     "output_type": "stream",
     "text": [
      "There are total `33901` of users and `126` items\n"
     ]
    }
   ],
   "source": [
    "num_users = len(rating_df['user'].unique())\n",
    "num_items = len(rating_df['item'].unique())\n",
    "print(f\"There are total `{num_users}` of users and `{num_items}` items\")"
   ]
  },
  {
   "cell_type": "markdown",
   "id": "a977aff2-be13-4415-917b-e828dcfe26ac",
   "metadata": {},
   "source": [
    "## 2. Define and Train Neural Network to Extract Embeddings"
   ]
  },
  {
   "cell_type": "code",
   "execution_count": 6,
   "id": "1893a050-0676-4583-b021-40fe8c9bc16c",
   "metadata": {},
   "outputs": [],
   "source": [
    "class RecommenderNet(keras.Model):\n",
    "    \n",
    "    def __init__(self, num_users, num_items, embedding_size=16, **kwargs):\n",
    "        \"\"\"\n",
    "           Constructor\n",
    "           :param int num_users: number of users\n",
    "           :param int num_items: number of items\n",
    "           :param int embedding_size: the size of embedding vector\n",
    "        \"\"\"\n",
    "        super(RecommenderNet, self).__init__(**kwargs)\n",
    "        self.num_users = num_users\n",
    "        self.num_items = num_items\n",
    "        self.embedding_size = embedding_size\n",
    "        \n",
    "        # Define a user_embedding vector\n",
    "        # Input dimension is the num_users\n",
    "        # Output dimension is the embedding size\n",
    "        self.user_embedding_layer = layers.Embedding(\n",
    "            input_dim=num_users,\n",
    "            output_dim=embedding_size,\n",
    "            name='user_embedding_layer',\n",
    "            embeddings_initializer=\"he_normal\",\n",
    "            embeddings_regularizer=keras.regularizers.l2(1e-6),\n",
    "        )\n",
    "        # Define a user bias layer\n",
    "        self.user_bias = layers.Embedding(\n",
    "            input_dim=num_users,\n",
    "            output_dim=1,\n",
    "            name=\"user_bias\")\n",
    "        \n",
    "        # Define an item_embedding vector\n",
    "        # Input dimension is the num_items\n",
    "        # Output dimension is the embedding size\n",
    "        self.item_embedding_layer = layers.Embedding(\n",
    "            input_dim=num_items,\n",
    "            output_dim=embedding_size,\n",
    "            name='item_embedding_layer',\n",
    "            embeddings_initializer=\"he_normal\",\n",
    "            embeddings_regularizer=keras.regularizers.l2(1e-6),\n",
    "        )\n",
    "        # Define an item bias layer\n",
    "        self.item_bias = layers.Embedding(\n",
    "            input_dim=num_items,\n",
    "            output_dim=1,\n",
    "            name=\"item_bias\")\n",
    "        \n",
    "    def call(self, inputs):\n",
    "        \"\"\"\n",
    "           method to be called during model fitting\n",
    "           \n",
    "           :param inputs: user and item one-hot vectors\n",
    "        \"\"\"\n",
    "        # Compute the user embedding vector\n",
    "        user_vector = self.user_embedding_layer(inputs[:, 0])\n",
    "        user_bias = self.user_bias(inputs[:, 0])\n",
    "        item_vector = self.item_embedding_layer(inputs[:, 1])\n",
    "        item_bias = self.item_bias(inputs[:, 1])\n",
    "        dot_user_item = tf.tensordot(user_vector, item_vector, 2)\n",
    "        # Add all the components (including bias)\n",
    "        x = dot_user_item + user_bias + item_bias\n",
    "        # Sigmoid output layer to output the probability\n",
    "        return tf.nn.relu(x)"
   ]
  },
  {
   "cell_type": "code",
   "execution_count": 7,
   "id": "e60e00d2-52cd-43f6-9d9c-122ff8a5209e",
   "metadata": {},
   "outputs": [],
   "source": [
    "def process_dataset(raw_data):\n",
    "    \n",
    "    encoded_data = raw_data.copy()\n",
    "    \n",
    "    # Mapping user ids to indices\n",
    "    user_list = encoded_data[\"user\"].unique().tolist()\n",
    "    user_id2idx_dict = {x: i for i, x in enumerate(user_list)}\n",
    "    user_idx2id_dict = {i: x for i, x in enumerate(user_list)}\n",
    "    \n",
    "    # Mapping course ids to indices\n",
    "    course_list = encoded_data[\"item\"].unique().tolist()\n",
    "    course_id2idx_dict = {x: i for i, x in enumerate(course_list)}\n",
    "    course_idx2id_dict = {i: x for i, x in enumerate(course_list)}\n",
    "\n",
    "    # Convert original user ids to idx\n",
    "    encoded_data[\"user\"] = encoded_data[\"user\"].map(user_id2idx_dict)\n",
    "    # Convert original course ids to idx\n",
    "    encoded_data[\"item\"] = encoded_data[\"item\"].map(course_id2idx_dict)\n",
    "    # Convert rating to int\n",
    "    encoded_data[\"rating\"] = encoded_data[\"rating\"].values.astype(\"int\")\n",
    "\n",
    "    return encoded_data, user_idx2id_dict, course_idx2id_dict"
   ]
  },
  {
   "cell_type": "code",
   "execution_count": 8,
   "id": "291d559e-9643-450a-a9ab-a586ae4b1c09",
   "metadata": {},
   "outputs": [],
   "source": [
    "encoded_data, user_idx2id_dict, course_idx2id_dict = process_dataset(rating_df)"
   ]
  },
  {
   "cell_type": "code",
   "execution_count": 9,
   "id": "91fb6613-14a3-4a8d-9154-590ba6a64310",
   "metadata": {},
   "outputs": [
    {
     "data": {
      "text/html": [
       "<div>\n",
       "<style scoped>\n",
       "    .dataframe tbody tr th:only-of-type {\n",
       "        vertical-align: middle;\n",
       "    }\n",
       "\n",
       "    .dataframe tbody tr th {\n",
       "        vertical-align: top;\n",
       "    }\n",
       "\n",
       "    .dataframe thead th {\n",
       "        text-align: right;\n",
       "    }\n",
       "</style>\n",
       "<table border=\"1\" class=\"dataframe\">\n",
       "  <thead>\n",
       "    <tr style=\"text-align: right;\">\n",
       "      <th></th>\n",
       "      <th>user</th>\n",
       "      <th>item</th>\n",
       "      <th>rating</th>\n",
       "    </tr>\n",
       "  </thead>\n",
       "  <tbody>\n",
       "    <tr>\n",
       "      <th>0</th>\n",
       "      <td>0</td>\n",
       "      <td>0</td>\n",
       "      <td>3</td>\n",
       "    </tr>\n",
       "    <tr>\n",
       "      <th>1</th>\n",
       "      <td>1</td>\n",
       "      <td>1</td>\n",
       "      <td>3</td>\n",
       "    </tr>\n",
       "    <tr>\n",
       "      <th>2</th>\n",
       "      <td>2</td>\n",
       "      <td>2</td>\n",
       "      <td>3</td>\n",
       "    </tr>\n",
       "    <tr>\n",
       "      <th>3</th>\n",
       "      <td>3</td>\n",
       "      <td>3</td>\n",
       "      <td>3</td>\n",
       "    </tr>\n",
       "    <tr>\n",
       "      <th>4</th>\n",
       "      <td>4</td>\n",
       "      <td>4</td>\n",
       "      <td>3</td>\n",
       "    </tr>\n",
       "  </tbody>\n",
       "</table>\n",
       "</div>"
      ],
      "text/plain": [
       "   user  item  rating\n",
       "0     0     0       3\n",
       "1     1     1       3\n",
       "2     2     2       3\n",
       "3     3     3       3\n",
       "4     4     4       3"
      ]
     },
     "execution_count": 9,
     "metadata": {},
     "output_type": "execute_result"
    }
   ],
   "source": [
    "encoded_data.head()"
   ]
  },
  {
   "cell_type": "code",
   "execution_count": 10,
   "id": "ffe9fad6-f985-4383-91a8-01f2d9f2959e",
   "metadata": {},
   "outputs": [],
   "source": [
    "def generate_train_test_datasets(dataset, scale=True):\n",
    "\n",
    "    min_rating = min(dataset[\"rating\"])\n",
    "    max_rating = max(dataset[\"rating\"])\n",
    "\n",
    "    dataset = dataset.sample(frac=1, random_state=42)\n",
    "    x = dataset[[\"user\", \"item\"]].values\n",
    "    if scale:\n",
    "        y = dataset[\"rating\"].apply(lambda x: (x - min_rating) / (max_rating - min_rating)).values\n",
    "    else:\n",
    "        y = dataset[\"rating\"].values\n",
    "\n",
    "    # Assuming training on 80% of the data and validating on 10%, and testing 10%\n",
    "    train_indices = int(0.8 * dataset.shape[0])\n",
    "    test_indices = int(0.9 * dataset.shape[0])\n",
    "\n",
    "    x_train, x_val, x_test, y_train, y_val, y_test = (\n",
    "        x[:train_indices],\n",
    "        x[train_indices:test_indices],\n",
    "        x[test_indices:],\n",
    "        y[:train_indices],\n",
    "        y[train_indices:test_indices],\n",
    "        y[test_indices:],\n",
    "    )\n",
    "    return x_train, x_val, x_test, y_train, y_val, y_test"
   ]
  },
  {
   "cell_type": "code",
   "execution_count": 11,
   "id": "aa7f106d-50a0-4ffc-a89e-260731e10358",
   "metadata": {},
   "outputs": [],
   "source": [
    "x_train, x_val, x_test, y_train, y_val, y_test = generate_train_test_datasets(encoded_data)"
   ]
  },
  {
   "cell_type": "code",
   "execution_count": 12,
   "id": "b44918ce-0d92-4ecc-ad02-7162998c7920",
   "metadata": {},
   "outputs": [
    {
     "data": {
      "text/plain": [
       "(186644, 2)"
      ]
     },
     "execution_count": 12,
     "metadata": {},
     "output_type": "execute_result"
    }
   ],
   "source": [
    "x_train.shape # user, course"
   ]
  },
  {
   "cell_type": "code",
   "execution_count": 13,
   "id": "a226f4e1-60e4-4c1a-9f88-7bf39db20887",
   "metadata": {},
   "outputs": [
    {
     "data": {
      "text/plain": [
       "array([ 8376,  7659, 10717, ...,  3409, 28761,  4973])"
      ]
     },
     "execution_count": 13,
     "metadata": {},
     "output_type": "execute_result"
    }
   ],
   "source": [
    "user_indices = x_train[:, 0]\n",
    "user_indices"
   ]
  },
  {
   "cell_type": "code",
   "execution_count": 14,
   "id": "71e92020-2740-4e2a-b093-10887fc99fa6",
   "metadata": {},
   "outputs": [
    {
     "data": {
      "text/plain": [
       "array([12, 29,  3, ..., 18, 19, 17])"
      ]
     },
     "execution_count": 14,
     "metadata": {},
     "output_type": "execute_result"
    }
   ],
   "source": [
    "item_indices = x_train[:, 1]\n",
    "item_indices"
   ]
  },
  {
   "cell_type": "code",
   "execution_count": 15,
   "id": "f7482ec4-c7df-4ea9-a0b0-5ecff0483f78",
   "metadata": {},
   "outputs": [],
   "source": [
    "embedding_size = 16\n",
    "model = RecommenderNet(num_users, num_items, embedding_size)"
   ]
  },
  {
   "cell_type": "code",
   "execution_count": 16,
   "id": "8501b66d-756e-413b-a389-77e42880dc78",
   "metadata": {},
   "outputs": [
    {
     "name": "stderr",
     "output_type": "stream",
     "text": [
      "2023-02-10 11:20:53.875373: I tensorflow/core/platform/cpu_feature_guard.cc:145] This TensorFlow binary is optimized with Intel(R) MKL-DNN to use the following CPU instructions in performance critical operations:  SSE4.1 SSE4.2\n",
      "To enable them in non-MKL-DNN operations, rebuild TensorFlow with the appropriate compiler flags.\n",
      "2023-02-10 11:20:53.876442: I tensorflow/core/common_runtime/process_util.cc:115] Creating new thread pool with default inter op setting: 8. Tune using inter_op_parallelism_threads for best performance.\n"
     ]
    },
    {
     "name": "stdout",
     "output_type": "stream",
     "text": [
      "Train on 186644 samples, validate on 23331 samples\n",
      "Epoch 1/2\n"
     ]
    },
    {
     "name": "stderr",
     "output_type": "stream",
     "text": [
      "/Users/mxagar/opt/anaconda3/envs/tf/lib/python3.7/site-packages/tensorflow_core/python/framework/indexed_slices.py:424: UserWarning: Converting sparse IndexedSlices to a dense Tensor of unknown shape. This may consume a large amount of memory.\n",
      "  \"Converting sparse IndexedSlices to a dense Tensor of unknown shape. \"\n",
      "/Users/mxagar/opt/anaconda3/envs/tf/lib/python3.7/site-packages/tensorflow_core/python/framework/indexed_slices.py:424: UserWarning: Converting sparse IndexedSlices to a dense Tensor of unknown shape. This may consume a large amount of memory.\n",
      "  \"Converting sparse IndexedSlices to a dense Tensor of unknown shape. \"\n"
     ]
    },
    {
     "name": "stdout",
     "output_type": "stream",
     "text": [
      "186644/186644 [==============================] - 52s 281us/sample - loss: 0.0849 - val_loss: 0.0561\n",
      "Epoch 2/2\n",
      "186644/186644 [==============================] - 53s 284us/sample - loss: 0.0657 - val_loss: 0.0806\n"
     ]
    }
   ],
   "source": [
    "from tensorflow.keras.optimizers import Adam, SGD, RMSprop\n",
    "from tensorflow.keras.metrics import RootMeanSquaredError\n",
    "from tensorflow.keras.losses import MeanSquaredError\n",
    "\n",
    "model.compile(optimizer=Adam(lr = .003),\n",
    "                loss=MeanSquaredError(), \n",
    "                metric=RootMeanSquaredError())\n",
    "\n",
    "run_hist = model.fit(x_train,\n",
    "                         y_train,\n",
    "                         validation_data=(x_test, y_test),\n",
    "                         epochs=2,\n",
    "                         shuffle=True)"
   ]
  },
  {
   "cell_type": "code",
   "execution_count": 17,
   "id": "7bab07b3-d447-4be7-a158-f790d589c77a",
   "metadata": {},
   "outputs": [
    {
     "data": {
      "text/plain": [
       "dict_keys(['loss', 'val_loss'])"
      ]
     },
     "execution_count": 17,
     "metadata": {},
     "output_type": "execute_result"
    }
   ],
   "source": [
    "run_hist.history.keys()"
   ]
  },
  {
   "cell_type": "code",
   "execution_count": 18,
   "id": "965482b2-1360-4f95-bd50-e04b97a5c9f9",
   "metadata": {},
   "outputs": [
    {
     "data": {
      "text/plain": [
       "<matplotlib.legend.Legend at 0x7fa5e2504490>"
      ]
     },
     "execution_count": 18,
     "metadata": {},
     "output_type": "execute_result"
    },
    {
     "data": {
      "image/png": "[encoded data removed]",
      "text/plain": [
       "<Figure size 432x288 with 1 Axes>"
      ]
     },
     "metadata": {
      "needs_background": "light"
     },
     "output_type": "display_data"
    }
   ],
   "source": [
    "fig, ax = plt.subplots()\n",
    "ax.plot(run_hist.history[\"loss\"],'r', marker='.', label=\"Train Loss\")\n",
    "ax.plot(run_hist.history[\"val_loss\"],'b', marker='.', label=\"Validation Loss\")\n",
    "ax.legend()"
   ]
  },
  {
   "cell_type": "code",
   "execution_count": 19,
   "id": "2bf0ed8f-2524-4e2c-b265-cf55a31044e0",
   "metadata": {},
   "outputs": [
    {
     "data": {
      "text/plain": [
       "0.08060124092847319"
      ]
     },
     "execution_count": 19,
     "metadata": {},
     "output_type": "execute_result"
    }
   ],
   "source": [
    "model.evaluate(x_test,y_test,verbose=0)"
   ]
  },
  {
   "cell_type": "markdown",
   "id": "0bff65e5-0b86-4240-8d67-6ff681d7a76f",
   "metadata": {},
   "source": [
    "### Test with New Data"
   ]
  },
  {
   "cell_type": "code",
   "execution_count": 20,
   "id": "5c849d65-cd04-40c2-8d5a-6a640fe81646",
   "metadata": {},
   "outputs": [],
   "source": [
    "import numpy as np"
   ]
  },
  {
   "cell_type": "code",
   "execution_count": 21,
   "id": "acc874d7-1592-4c6a-9a1e-7300dfd33f30",
   "metadata": {},
   "outputs": [
    {
     "data": {
      "text/plain": [
       "array([16103,    27])"
      ]
     },
     "execution_count": 21,
     "metadata": {},
     "output_type": "execute_result"
    }
   ],
   "source": [
    "x_test[0]"
   ]
  },
  {
   "cell_type": "code",
   "execution_count": 22,
   "id": "10c1b4f0-6384-4e96-8082-f830f93b5790",
   "metadata": {},
   "outputs": [
    {
     "data": {
      "text/plain": [
       "33900"
      ]
     },
     "execution_count": 22,
     "metadata": {},
     "output_type": "execute_result"
    }
   ],
   "source": [
    "encoded_data.user.max()"
   ]
  },
  {
   "cell_type": "code",
   "execution_count": 23,
   "id": "c42bc176-0c81-45b6-ad21-da42cfc15afd",
   "metadata": {},
   "outputs": [
    {
     "data": {
      "text/plain": [
       "125"
      ]
     },
     "execution_count": 23,
     "metadata": {},
     "output_type": "execute_result"
    }
   ],
   "source": [
    "encoded_data.item.max()"
   ]
  },
  {
   "cell_type": "code",
   "execution_count": 24,
   "id": "ab79c046-2ade-4747-9850-cddd8c47f8c8",
   "metadata": {},
   "outputs": [
    {
     "data": {
      "text/plain": [
       "array([[1.0415483]], dtype=float32)"
      ]
     },
     "execution_count": 24,
     "metadata": {},
     "output_type": "execute_result"
    }
   ],
   "source": [
    "model.predict([[x_test[1]]])"
   ]
  },
  {
   "cell_type": "code",
   "execution_count": 25,
   "id": "e18e34fc-bcec-4988-b161-fb15202a797a",
   "metadata": {},
   "outputs": [],
   "source": [
    "test_data = [[np.array([33900, 125])]]"
   ]
  },
  {
   "cell_type": "code",
   "execution_count": 26,
   "id": "a5716958-db77-41e1-ac8d-f21bccfd55ca",
   "metadata": {},
   "outputs": [
    {
     "data": {
      "text/plain": [
       "-0.0"
      ]
     },
     "execution_count": 26,
     "metadata": {},
     "output_type": "execute_result"
    }
   ],
   "source": [
    "model.predict(test_data)[0,0]"
   ]
  },
  {
   "cell_type": "code",
   "execution_count": 28,
   "id": "1fb24e7e-db2a-4c62-98e1-d1b58e4c3b4c",
   "metadata": {},
   "outputs": [],
   "source": [
    "users = list(encoded_data.user.unique())\n",
    "items = list(encoded_data.item.unique())\n",
    "for user in users[:2]:\n",
    "    for item in items:\n",
    "        test_data = [[np.array([user, item])]]\n",
    "        pred = model.predict(test_data)[0,0]"
   ]
  },
  {
   "cell_type": "markdown",
   "id": "145c9a42-7369-4ae3-acfd-e260b89edf71",
   "metadata": {},
   "source": [
    "## 3. Extract and Persist Embeddings"
   ]
  },
  {
   "cell_type": "code",
   "execution_count": 21,
   "id": "8ccc7c2e-6c66-496e-883b-cf2a6b85553b",
   "metadata": {},
   "outputs": [
    {
     "name": "stdout",
     "output_type": "stream",
     "text": [
      "Model: \"recommender_net\"\n",
      "_________________________________________________________________\n",
      "Layer (type)                 Output Shape              Param #   \n",
      "=================================================================\n",
      "user_embedding_layer (Embedd multiple                  542416    \n",
      "_________________________________________________________________\n",
      "user_bias (Embedding)        multiple                  33901     \n",
      "_________________________________________________________________\n",
      "item_embedding_layer (Embedd multiple                  2016      \n",
      "_________________________________________________________________\n",
      "item_bias (Embedding)        multiple                  126       \n",
      "=================================================================\n",
      "Total params: 578,459\n",
      "Trainable params: 578,459\n",
      "Non-trainable params: 0\n",
      "_________________________________________________________________\n"
     ]
    }
   ],
   "source": [
    "model.summary()"
   ]
  },
  {
   "cell_type": "code",
   "execution_count": 22,
   "id": "dffd7d16-dcba-4152-913c-e873be8cdc52",
   "metadata": {},
   "outputs": [
    {
     "name": "stdout",
     "output_type": "stream",
     "text": [
      "User features shape: (33901, 16)\n"
     ]
    }
   ],
   "source": [
    "# User features\n",
    "user_latent_features = model.get_layer('user_embedding_layer').get_weights()[0]\n",
    "print(f\"User features shape: {user_latent_features.shape}\")"
   ]
  },
  {
   "cell_type": "code",
   "execution_count": 23,
   "id": "7d239a86-0370-4ebf-91c4-4b558c8eb147",
   "metadata": {},
   "outputs": [
    {
     "data": {
      "text/plain": [
       "array([ 0.03736337,  0.39427406, -0.04172319,  0.20165065, -0.11913025,\n",
       "       -0.25450367,  0.20215334,  0.23786804,  0.08437391,  0.01716124,\n",
       "       -0.20202145, -0.46880993, -0.19820866, -0.04530432, -0.4169354 ,\n",
       "       -0.3730686 ], dtype=float32)"
      ]
     },
     "execution_count": 23,
     "metadata": {},
     "output_type": "execute_result"
    }
   ],
   "source": [
    "user_latent_features[0]"
   ]
  },
  {
   "cell_type": "code",
   "execution_count": 25,
   "id": "aa12f42a-e7e3-469d-8da9-d50ddfb8584c",
   "metadata": {},
   "outputs": [
    {
     "name": "stdout",
     "output_type": "stream",
     "text": [
      "Item features shape: (126, 16)\n"
     ]
    }
   ],
   "source": [
    "# Course/item features\n",
    "item_latent_features = model.get_layer('item_embedding_layer').get_weights()[0]\n",
    "print(f\"Item features shape: {item_latent_features.shape}\")"
   ]
  },
  {
   "cell_type": "code",
   "execution_count": 26,
   "id": "3104599e-6860-4352-b325-fc4fa08a724d",
   "metadata": {},
   "outputs": [
    {
     "data": {
      "text/plain": [
       "array([ 0.00017854, -0.06646857, -0.03985178,  0.07657506,  0.00426503,\n",
       "        0.02875166,  0.03254846, -0.0100686 , -0.00121374,  0.01292956,\n",
       "       -0.04164341,  0.07415272, -0.08505473, -0.00319362, -0.13746248,\n",
       "       -0.0004338 ], dtype=float32)"
      ]
     },
     "execution_count": 26,
     "metadata": {},
     "output_type": "execute_result"
    }
   ],
   "source": [
    "item_latent_features[0]"
   ]
  },
  {
   "cell_type": "code",
   "execution_count": 27,
   "id": "ae6cd6d2-1f37-4f76-9302-55266b0dfba4",
   "metadata": {},
   "outputs": [
    {
     "data": {
      "text/html": [
       "<div>\n",
       "<style scoped>\n",
       "    .dataframe tbody tr th:only-of-type {\n",
       "        vertical-align: middle;\n",
       "    }\n",
       "\n",
       "    .dataframe tbody tr th {\n",
       "        vertical-align: top;\n",
       "    }\n",
       "\n",
       "    .dataframe thead th {\n",
       "        text-align: right;\n",
       "    }\n",
       "</style>\n",
       "<table border=\"1\" class=\"dataframe\">\n",
       "  <thead>\n",
       "    <tr style=\"text-align: right;\">\n",
       "      <th></th>\n",
       "      <th>user</th>\n",
       "      <th>UFeature0</th>\n",
       "      <th>UFeature1</th>\n",
       "      <th>UFeature2</th>\n",
       "      <th>UFeature3</th>\n",
       "      <th>UFeature4</th>\n",
       "      <th>UFeature5</th>\n",
       "      <th>UFeature6</th>\n",
       "      <th>UFeature7</th>\n",
       "      <th>UFeature8</th>\n",
       "      <th>UFeature9</th>\n",
       "      <th>UFeature10</th>\n",
       "      <th>UFeature11</th>\n",
       "      <th>UFeature12</th>\n",
       "      <th>UFeature13</th>\n",
       "      <th>UFeature14</th>\n",
       "      <th>UFeature15</th>\n",
       "    </tr>\n",
       "  </thead>\n",
       "  <tbody>\n",
       "    <tr>\n",
       "      <th>0</th>\n",
       "      <td>1889878</td>\n",
       "      <td>0.037363</td>\n",
       "      <td>0.394274</td>\n",
       "      <td>-0.041723</td>\n",
       "      <td>0.201651</td>\n",
       "      <td>-0.119130</td>\n",
       "      <td>-0.254504</td>\n",
       "      <td>0.202153</td>\n",
       "      <td>0.237868</td>\n",
       "      <td>0.084374</td>\n",
       "      <td>0.017161</td>\n",
       "      <td>-0.202021</td>\n",
       "      <td>-0.468810</td>\n",
       "      <td>-0.198209</td>\n",
       "      <td>-0.045304</td>\n",
       "      <td>-0.416935</td>\n",
       "      <td>-0.373069</td>\n",
       "    </tr>\n",
       "    <tr>\n",
       "      <th>1</th>\n",
       "      <td>1342067</td>\n",
       "      <td>0.079197</td>\n",
       "      <td>0.348854</td>\n",
       "      <td>0.201428</td>\n",
       "      <td>-0.094731</td>\n",
       "      <td>-0.078270</td>\n",
       "      <td>0.250712</td>\n",
       "      <td>0.186442</td>\n",
       "      <td>-0.033630</td>\n",
       "      <td>-0.167372</td>\n",
       "      <td>0.274865</td>\n",
       "      <td>-0.153683</td>\n",
       "      <td>-0.142953</td>\n",
       "      <td>-0.086704</td>\n",
       "      <td>0.200799</td>\n",
       "      <td>0.402748</td>\n",
       "      <td>0.317898</td>\n",
       "    </tr>\n",
       "    <tr>\n",
       "      <th>2</th>\n",
       "      <td>1990814</td>\n",
       "      <td>0.090707</td>\n",
       "      <td>-0.580528</td>\n",
       "      <td>0.016279</td>\n",
       "      <td>-0.175532</td>\n",
       "      <td>-0.453024</td>\n",
       "      <td>0.157056</td>\n",
       "      <td>-0.060022</td>\n",
       "      <td>0.087126</td>\n",
       "      <td>0.344923</td>\n",
       "      <td>-0.083886</td>\n",
       "      <td>-0.234925</td>\n",
       "      <td>0.262393</td>\n",
       "      <td>-0.372628</td>\n",
       "      <td>-0.197599</td>\n",
       "      <td>0.263074</td>\n",
       "      <td>0.071419</td>\n",
       "    </tr>\n",
       "    <tr>\n",
       "      <th>3</th>\n",
       "      <td>380098</td>\n",
       "      <td>-0.247264</td>\n",
       "      <td>-0.022498</td>\n",
       "      <td>0.302606</td>\n",
       "      <td>-0.296971</td>\n",
       "      <td>0.233045</td>\n",
       "      <td>-0.593748</td>\n",
       "      <td>-0.012848</td>\n",
       "      <td>-0.008598</td>\n",
       "      <td>0.085366</td>\n",
       "      <td>-0.358428</td>\n",
       "      <td>0.070679</td>\n",
       "      <td>-0.548603</td>\n",
       "      <td>-0.217238</td>\n",
       "      <td>0.287327</td>\n",
       "      <td>-0.111407</td>\n",
       "      <td>-0.218006</td>\n",
       "    </tr>\n",
       "    <tr>\n",
       "      <th>4</th>\n",
       "      <td>779563</td>\n",
       "      <td>0.060767</td>\n",
       "      <td>-0.071871</td>\n",
       "      <td>0.083888</td>\n",
       "      <td>0.165368</td>\n",
       "      <td>0.068353</td>\n",
       "      <td>-0.131535</td>\n",
       "      <td>-0.026316</td>\n",
       "      <td>0.256422</td>\n",
       "      <td>0.246456</td>\n",
       "      <td>-0.191131</td>\n",
       "      <td>0.115227</td>\n",
       "      <td>-0.069518</td>\n",
       "      <td>0.319445</td>\n",
       "      <td>-0.010730</td>\n",
       "      <td>-0.316350</td>\n",
       "      <td>-0.180957</td>\n",
       "    </tr>\n",
       "  </tbody>\n",
       "</table>\n",
       "</div>"
      ],
      "text/plain": [
       "      user  UFeature0  UFeature1  UFeature2  UFeature3  UFeature4  UFeature5  \\\n",
       "0  1889878   0.037363   0.394274  -0.041723   0.201651  -0.119130  -0.254504   \n",
       "1  1342067   0.079197   0.348854   0.201428  -0.094731  -0.078270   0.250712   \n",
       "2  1990814   0.090707  -0.580528   0.016279  -0.175532  -0.453024   0.157056   \n",
       "3   380098  -0.247264  -0.022498   0.302606  -0.296971   0.233045  -0.593748   \n",
       "4   779563   0.060767  -0.071871   0.083888   0.165368   0.068353  -0.131535   \n",
       "\n",
       "   UFeature6  UFeature7  UFeature8  UFeature9  UFeature10  UFeature11  \\\n",
       "0   0.202153   0.237868   0.084374   0.017161   -0.202021   -0.468810   \n",
       "1   0.186442  -0.033630  -0.167372   0.274865   -0.153683   -0.142953   \n",
       "2  -0.060022   0.087126   0.344923  -0.083886   -0.234925    0.262393   \n",
       "3  -0.012848  -0.008598   0.085366  -0.358428    0.070679   -0.548603   \n",
       "4  -0.026316   0.256422   0.246456  -0.191131    0.115227   -0.069518   \n",
       "\n",
       "   UFeature12  UFeature13  UFeature14  UFeature15  \n",
       "0   -0.198209   -0.045304   -0.416935   -0.373069  \n",
       "1   -0.086704    0.200799    0.402748    0.317898  \n",
       "2   -0.372628   -0.197599    0.263074    0.071419  \n",
       "3   -0.217238    0.287327   -0.111407   -0.218006  \n",
       "4    0.319445   -0.010730   -0.316350   -0.180957  "
      ]
     },
     "execution_count": 27,
     "metadata": {},
     "output_type": "execute_result"
    }
   ],
   "source": [
    "# Create a dataframe of the user features\n",
    "user_columns = [f\"UFeature{i}\" for i in range(user_latent_features.shape[1])]\n",
    "user_embeddings_df = pd.DataFrame(data=user_latent_features, columns = user_columns)\n",
    "user_embeddings_df['user'] = user_embeddings_df.index\n",
    "# Shift column 'user' to first position\n",
    "first_column = user_embeddings_df.pop('user')\n",
    "user_embeddings_df.insert(0, 'user', first_column)\n",
    "# Decode user ids\n",
    "user_embeddings_df['user'] = user_embeddings_df['user'].replace(user_idx2id_dict)\n",
    "user_embeddings_df.head()"
   ]
  },
  {
   "cell_type": "code",
   "execution_count": 28,
   "id": "498981cc-ee4b-4ce5-a8c1-767ac1b93df8",
   "metadata": {},
   "outputs": [],
   "source": [
    "# Presist\n",
    "user_embeddings_df.to_csv('../data/user_embeddings_computed.csv', sep=',', header=True, index=False)"
   ]
  },
  {
   "cell_type": "code",
   "execution_count": 29,
   "id": "3e8d89f0-c69d-4506-9fe1-4f4e3d4f3671",
   "metadata": {},
   "outputs": [
    {
     "data": {
      "text/html": [
       "<div>\n",
       "<style scoped>\n",
       "    .dataframe tbody tr th:only-of-type {\n",
       "        vertical-align: middle;\n",
       "    }\n",
       "\n",
       "    .dataframe tbody tr th {\n",
       "        vertical-align: top;\n",
       "    }\n",
       "\n",
       "    .dataframe thead th {\n",
       "        text-align: right;\n",
       "    }\n",
       "</style>\n",
       "<table border=\"1\" class=\"dataframe\">\n",
       "  <thead>\n",
       "    <tr style=\"text-align: right;\">\n",
       "      <th></th>\n",
       "      <th>item</th>\n",
       "      <th>CFeature0</th>\n",
       "      <th>CFeature1</th>\n",
       "      <th>CFeature2</th>\n",
       "      <th>CFeature3</th>\n",
       "      <th>CFeature4</th>\n",
       "      <th>CFeature5</th>\n",
       "      <th>CFeature6</th>\n",
       "      <th>CFeature7</th>\n",
       "      <th>CFeature8</th>\n",
       "      <th>CFeature9</th>\n",
       "      <th>CFeature10</th>\n",
       "      <th>CFeature11</th>\n",
       "      <th>CFeature12</th>\n",
       "      <th>CFeature13</th>\n",
       "      <th>CFeature14</th>\n",
       "      <th>CFeature15</th>\n",
       "    </tr>\n",
       "  </thead>\n",
       "  <tbody>\n",
       "    <tr>\n",
       "      <th>0</th>\n",
       "      <td>CC0101EN</td>\n",
       "      <td>0.000179</td>\n",
       "      <td>-0.066469</td>\n",
       "      <td>-0.039852</td>\n",
       "      <td>0.076575</td>\n",
       "      <td>0.004265</td>\n",
       "      <td>0.028752</td>\n",
       "      <td>0.032548</td>\n",
       "      <td>-0.010069</td>\n",
       "      <td>-0.001214</td>\n",
       "      <td>0.012930</td>\n",
       "      <td>-0.041643</td>\n",
       "      <td>0.074153</td>\n",
       "      <td>-0.085055</td>\n",
       "      <td>-0.003194</td>\n",
       "      <td>-0.137462</td>\n",
       "      <td>-0.000434</td>\n",
       "    </tr>\n",
       "    <tr>\n",
       "      <th>1</th>\n",
       "      <td>CL0101EN</td>\n",
       "      <td>-0.013564</td>\n",
       "      <td>-0.009729</td>\n",
       "      <td>0.009777</td>\n",
       "      <td>0.053337</td>\n",
       "      <td>0.044205</td>\n",
       "      <td>-0.004143</td>\n",
       "      <td>-0.043374</td>\n",
       "      <td>-0.059303</td>\n",
       "      <td>0.111450</td>\n",
       "      <td>-0.009365</td>\n",
       "      <td>-0.041403</td>\n",
       "      <td>0.046712</td>\n",
       "      <td>0.036019</td>\n",
       "      <td>0.099774</td>\n",
       "      <td>-0.098198</td>\n",
       "      <td>0.001638</td>\n",
       "    </tr>\n",
       "    <tr>\n",
       "      <th>2</th>\n",
       "      <td>ML0120ENv3</td>\n",
       "      <td>-0.048549</td>\n",
       "      <td>-0.056843</td>\n",
       "      <td>-0.029791</td>\n",
       "      <td>0.008809</td>\n",
       "      <td>0.078675</td>\n",
       "      <td>0.163863</td>\n",
       "      <td>0.025153</td>\n",
       "      <td>0.126594</td>\n",
       "      <td>-0.053933</td>\n",
       "      <td>0.002968</td>\n",
       "      <td>-0.119335</td>\n",
       "      <td>-0.057970</td>\n",
       "      <td>-0.079519</td>\n",
       "      <td>0.037132</td>\n",
       "      <td>-0.038562</td>\n",
       "      <td>0.179136</td>\n",
       "    </tr>\n",
       "    <tr>\n",
       "      <th>3</th>\n",
       "      <td>BD0211EN</td>\n",
       "      <td>0.000988</td>\n",
       "      <td>0.031309</td>\n",
       "      <td>-0.023057</td>\n",
       "      <td>-0.071562</td>\n",
       "      <td>0.048848</td>\n",
       "      <td>-0.003149</td>\n",
       "      <td>0.000580</td>\n",
       "      <td>0.013914</td>\n",
       "      <td>-0.007219</td>\n",
       "      <td>-0.021144</td>\n",
       "      <td>-0.019784</td>\n",
       "      <td>0.086174</td>\n",
       "      <td>0.019136</td>\n",
       "      <td>-0.010219</td>\n",
       "      <td>0.034010</td>\n",
       "      <td>-0.013569</td>\n",
       "    </tr>\n",
       "    <tr>\n",
       "      <th>4</th>\n",
       "      <td>DS0101EN</td>\n",
       "      <td>-0.026713</td>\n",
       "      <td>0.048090</td>\n",
       "      <td>-0.010585</td>\n",
       "      <td>0.018473</td>\n",
       "      <td>0.074788</td>\n",
       "      <td>-0.025918</td>\n",
       "      <td>0.018338</td>\n",
       "      <td>0.013359</td>\n",
       "      <td>0.009295</td>\n",
       "      <td>-0.031144</td>\n",
       "      <td>-0.039660</td>\n",
       "      <td>-0.041878</td>\n",
       "      <td>0.015354</td>\n",
       "      <td>-0.020958</td>\n",
       "      <td>0.002620</td>\n",
       "      <td>0.057363</td>\n",
       "    </tr>\n",
       "  </tbody>\n",
       "</table>\n",
       "</div>"
      ],
      "text/plain": [
       "         item  CFeature0  CFeature1  CFeature2  CFeature3  CFeature4  \\\n",
       "0    CC0101EN   0.000179  -0.066469  -0.039852   0.076575   0.004265   \n",
       "1    CL0101EN  -0.013564  -0.009729   0.009777   0.053337   0.044205   \n",
       "2  ML0120ENv3  -0.048549  -0.056843  -0.029791   0.008809   0.078675   \n",
       "3    BD0211EN   0.000988   0.031309  -0.023057  -0.071562   0.048848   \n",
       "4    DS0101EN  -0.026713   0.048090  -0.010585   0.018473   0.074788   \n",
       "\n",
       "   CFeature5  CFeature6  CFeature7  CFeature8  CFeature9  CFeature10  \\\n",
       "0   0.028752   0.032548  -0.010069  -0.001214   0.012930   -0.041643   \n",
       "1  -0.004143  -0.043374  -0.059303   0.111450  -0.009365   -0.041403   \n",
       "2   0.163863   0.025153   0.126594  -0.053933   0.002968   -0.119335   \n",
       "3  -0.003149   0.000580   0.013914  -0.007219  -0.021144   -0.019784   \n",
       "4  -0.025918   0.018338   0.013359   0.009295  -0.031144   -0.039660   \n",
       "\n",
       "   CFeature11  CFeature12  CFeature13  CFeature14  CFeature15  \n",
       "0    0.074153   -0.085055   -0.003194   -0.137462   -0.000434  \n",
       "1    0.046712    0.036019    0.099774   -0.098198    0.001638  \n",
       "2   -0.057970   -0.079519    0.037132   -0.038562    0.179136  \n",
       "3    0.086174    0.019136   -0.010219    0.034010   -0.013569  \n",
       "4   -0.041878    0.015354   -0.020958    0.002620    0.057363  "
      ]
     },
     "execution_count": 29,
     "metadata": {},
     "output_type": "execute_result"
    }
   ],
   "source": [
    "# Create a dataframe of the item features\n",
    "item_columns = [f\"CFeature{i}\" for i in range(item_latent_features.shape[1])]\n",
    "item_embeddings_df = pd.DataFrame(data=item_latent_features, columns = item_columns)\n",
    "item_embeddings_df['item'] = item_embeddings_df.index\n",
    "# Shift column 'item' to first position\n",
    "first_column = item_embeddings_df.pop('item')\n",
    "item_embeddings_df.insert(0, 'item', first_column)\n",
    "# Decode user ids\n",
    "item_embeddings_df['item'] = item_embeddings_df['item'].replace(course_idx2id_dict)\n",
    "item_embeddings_df.head()"
   ]
  },
  {
   "cell_type": "code",
   "execution_count": 31,
   "id": "7c205c8e-f86e-45fa-a196-ae276efc5387",
   "metadata": {},
   "outputs": [],
   "source": [
    "# Presist\n",
    "item_embeddings_df.to_csv('../data/course_embeddings_computed.csv', sep=',', header=True, index=False)"
   ]
  },
  {
   "cell_type": "markdown",
   "id": "4bea5bfd-3c2a-4f6b-83f2-1275be3cc864",
   "metadata": {},
   "source": [
    "# Part 2: Regression and Classification Models of the Embeddings"
   ]
  },
  {
   "cell_type": "markdown",
   "id": "368b2608-407f-4850-b7ea-7ada9eaf281c",
   "metadata": {},
   "source": [
    "## 1. Prepare Dataset"
   ]
  },
  {
   "cell_type": "code",
   "execution_count": 62,
   "id": "dafa8c62-92bd-4471-8b6c-c9a90b926fb3",
   "metadata": {},
   "outputs": [],
   "source": [
    "import pandas as pd\n",
    "\n",
    "from sklearn.model_selection import train_test_split\n",
    "from sklearn import linear_model\n",
    "from sklearn.metrics import mean_squared_error\n",
    "from sklearn.metrics import accuracy_score, precision_recall_fscore_support"
   ]
  },
  {
   "cell_type": "code",
   "execution_count": 33,
   "id": "83aa2e02-debb-427a-9e29-b7b9a11a4f18",
   "metadata": {},
   "outputs": [],
   "source": [
    "# Set a random state\n",
    "rs = 123"
   ]
  },
  {
   "cell_type": "code",
   "execution_count": 34,
   "id": "4ba0f0b8-b625-4dcb-9570-6445dc2d5bc7",
   "metadata": {},
   "outputs": [],
   "source": [
    "rating_df = pd.read_csv('../data/ratings.csv')"
   ]
  },
  {
   "cell_type": "code",
   "execution_count": 35,
   "id": "25e41c7a-32b0-4c89-8dde-720f4f013fab",
   "metadata": {},
   "outputs": [
    {
     "data": {
      "text/html": [
       "<div>\n",
       "<style scoped>\n",
       "    .dataframe tbody tr th:only-of-type {\n",
       "        vertical-align: middle;\n",
       "    }\n",
       "\n",
       "    .dataframe tbody tr th {\n",
       "        vertical-align: top;\n",
       "    }\n",
       "\n",
       "    .dataframe thead th {\n",
       "        text-align: right;\n",
       "    }\n",
       "</style>\n",
       "<table border=\"1\" class=\"dataframe\">\n",
       "  <thead>\n",
       "    <tr style=\"text-align: right;\">\n",
       "      <th></th>\n",
       "      <th>user</th>\n",
       "      <th>item</th>\n",
       "      <th>rating</th>\n",
       "    </tr>\n",
       "  </thead>\n",
       "  <tbody>\n",
       "    <tr>\n",
       "      <th>0</th>\n",
       "      <td>1889878</td>\n",
       "      <td>CC0101EN</td>\n",
       "      <td>3.0</td>\n",
       "    </tr>\n",
       "    <tr>\n",
       "      <th>1</th>\n",
       "      <td>1342067</td>\n",
       "      <td>CL0101EN</td>\n",
       "      <td>3.0</td>\n",
       "    </tr>\n",
       "    <tr>\n",
       "      <th>2</th>\n",
       "      <td>1990814</td>\n",
       "      <td>ML0120ENv3</td>\n",
       "      <td>3.0</td>\n",
       "    </tr>\n",
       "    <tr>\n",
       "      <th>3</th>\n",
       "      <td>380098</td>\n",
       "      <td>BD0211EN</td>\n",
       "      <td>3.0</td>\n",
       "    </tr>\n",
       "    <tr>\n",
       "      <th>4</th>\n",
       "      <td>779563</td>\n",
       "      <td>DS0101EN</td>\n",
       "      <td>3.0</td>\n",
       "    </tr>\n",
       "  </tbody>\n",
       "</table>\n",
       "</div>"
      ],
      "text/plain": [
       "      user        item  rating\n",
       "0  1889878    CC0101EN     3.0\n",
       "1  1342067    CL0101EN     3.0\n",
       "2  1990814  ML0120ENv3     3.0\n",
       "3   380098    BD0211EN     3.0\n",
       "4   779563    DS0101EN     3.0"
      ]
     },
     "execution_count": 35,
     "metadata": {},
     "output_type": "execute_result"
    }
   ],
   "source": [
    "rating_df.head()"
   ]
  },
  {
   "cell_type": "code",
   "execution_count": 36,
   "id": "7b86b36d-8192-44a9-81f0-99a83a8c4142",
   "metadata": {},
   "outputs": [
    {
     "data": {
      "text/plain": [
       "(233306, 3)"
      ]
     },
     "execution_count": 36,
     "metadata": {},
     "output_type": "execute_result"
    }
   ],
   "source": [
    "rating_df.shape"
   ]
  },
  {
   "cell_type": "code",
   "execution_count": 37,
   "id": "71864c05-dff0-4298-b100-f8f38153a5c3",
   "metadata": {},
   "outputs": [],
   "source": [
    "# Load user embeddings\n",
    "#user_emb = pd.read_csv('../data/user_embeddings.csv')\n",
    "user_emb = pd.read_csv('../data/user_embeddings_computed.csv')\n",
    "# Load item embeddings\n",
    "#item_emb = pd.read_csv('../data/course_embeddings.csv')\n",
    "item_emb = pd.read_csv('../data/course_embeddings_computed.csv')"
   ]
  },
  {
   "cell_type": "code",
   "execution_count": 38,
   "id": "30a2172d-9eab-4d7a-b3f3-d1a04ea33dfc",
   "metadata": {},
   "outputs": [
    {
     "data": {
      "text/html": [
       "<div>\n",
       "<style scoped>\n",
       "    .dataframe tbody tr th:only-of-type {\n",
       "        vertical-align: middle;\n",
       "    }\n",
       "\n",
       "    .dataframe tbody tr th {\n",
       "        vertical-align: top;\n",
       "    }\n",
       "\n",
       "    .dataframe thead th {\n",
       "        text-align: right;\n",
       "    }\n",
       "</style>\n",
       "<table border=\"1\" class=\"dataframe\">\n",
       "  <thead>\n",
       "    <tr style=\"text-align: right;\">\n",
       "      <th></th>\n",
       "      <th>user</th>\n",
       "      <th>UFeature0</th>\n",
       "      <th>UFeature1</th>\n",
       "      <th>UFeature2</th>\n",
       "      <th>UFeature3</th>\n",
       "      <th>UFeature4</th>\n",
       "      <th>UFeature5</th>\n",
       "      <th>UFeature6</th>\n",
       "      <th>UFeature7</th>\n",
       "      <th>UFeature8</th>\n",
       "      <th>UFeature9</th>\n",
       "      <th>UFeature10</th>\n",
       "      <th>UFeature11</th>\n",
       "      <th>UFeature12</th>\n",
       "      <th>UFeature13</th>\n",
       "      <th>UFeature14</th>\n",
       "      <th>UFeature15</th>\n",
       "    </tr>\n",
       "  </thead>\n",
       "  <tbody>\n",
       "    <tr>\n",
       "      <th>0</th>\n",
       "      <td>1889878</td>\n",
       "      <td>0.037363</td>\n",
       "      <td>0.394274</td>\n",
       "      <td>-0.041723</td>\n",
       "      <td>0.201651</td>\n",
       "      <td>-0.119130</td>\n",
       "      <td>-0.254504</td>\n",
       "      <td>0.202153</td>\n",
       "      <td>0.237868</td>\n",
       "      <td>0.084374</td>\n",
       "      <td>0.017161</td>\n",
       "      <td>-0.202021</td>\n",
       "      <td>-0.468810</td>\n",
       "      <td>-0.198209</td>\n",
       "      <td>-0.045304</td>\n",
       "      <td>-0.416935</td>\n",
       "      <td>-0.373069</td>\n",
       "    </tr>\n",
       "    <tr>\n",
       "      <th>1</th>\n",
       "      <td>1342067</td>\n",
       "      <td>0.079197</td>\n",
       "      <td>0.348854</td>\n",
       "      <td>0.201428</td>\n",
       "      <td>-0.094731</td>\n",
       "      <td>-0.078270</td>\n",
       "      <td>0.250712</td>\n",
       "      <td>0.186442</td>\n",
       "      <td>-0.033630</td>\n",
       "      <td>-0.167372</td>\n",
       "      <td>0.274865</td>\n",
       "      <td>-0.153683</td>\n",
       "      <td>-0.142953</td>\n",
       "      <td>-0.086704</td>\n",
       "      <td>0.200799</td>\n",
       "      <td>0.402748</td>\n",
       "      <td>0.317898</td>\n",
       "    </tr>\n",
       "    <tr>\n",
       "      <th>2</th>\n",
       "      <td>1990814</td>\n",
       "      <td>0.090707</td>\n",
       "      <td>-0.580528</td>\n",
       "      <td>0.016279</td>\n",
       "      <td>-0.175532</td>\n",
       "      <td>-0.453024</td>\n",
       "      <td>0.157056</td>\n",
       "      <td>-0.060022</td>\n",
       "      <td>0.087126</td>\n",
       "      <td>0.344923</td>\n",
       "      <td>-0.083886</td>\n",
       "      <td>-0.234925</td>\n",
       "      <td>0.262393</td>\n",
       "      <td>-0.372628</td>\n",
       "      <td>-0.197599</td>\n",
       "      <td>0.263074</td>\n",
       "      <td>0.071419</td>\n",
       "    </tr>\n",
       "    <tr>\n",
       "      <th>3</th>\n",
       "      <td>380098</td>\n",
       "      <td>-0.247264</td>\n",
       "      <td>-0.022498</td>\n",
       "      <td>0.302606</td>\n",
       "      <td>-0.296971</td>\n",
       "      <td>0.233045</td>\n",
       "      <td>-0.593748</td>\n",
       "      <td>-0.012848</td>\n",
       "      <td>-0.008598</td>\n",
       "      <td>0.085366</td>\n",
       "      <td>-0.358428</td>\n",
       "      <td>0.070679</td>\n",
       "      <td>-0.548603</td>\n",
       "      <td>-0.217238</td>\n",
       "      <td>0.287327</td>\n",
       "      <td>-0.111407</td>\n",
       "      <td>-0.218006</td>\n",
       "    </tr>\n",
       "    <tr>\n",
       "      <th>4</th>\n",
       "      <td>779563</td>\n",
       "      <td>0.060767</td>\n",
       "      <td>-0.071871</td>\n",
       "      <td>0.083888</td>\n",
       "      <td>0.165368</td>\n",
       "      <td>0.068353</td>\n",
       "      <td>-0.131535</td>\n",
       "      <td>-0.026316</td>\n",
       "      <td>0.256422</td>\n",
       "      <td>0.246456</td>\n",
       "      <td>-0.191131</td>\n",
       "      <td>0.115227</td>\n",
       "      <td>-0.069518</td>\n",
       "      <td>0.319445</td>\n",
       "      <td>-0.010730</td>\n",
       "      <td>-0.316350</td>\n",
       "      <td>-0.180957</td>\n",
       "    </tr>\n",
       "  </tbody>\n",
       "</table>\n",
       "</div>"
      ],
      "text/plain": [
       "      user  UFeature0  UFeature1  UFeature2  UFeature3  UFeature4  UFeature5  \\\n",
       "0  1889878   0.037363   0.394274  -0.041723   0.201651  -0.119130  -0.254504   \n",
       "1  1342067   0.079197   0.348854   0.201428  -0.094731  -0.078270   0.250712   \n",
       "2  1990814   0.090707  -0.580528   0.016279  -0.175532  -0.453024   0.157056   \n",
       "3   380098  -0.247264  -0.022498   0.302606  -0.296971   0.233045  -0.593748   \n",
       "4   779563   0.060767  -0.071871   0.083888   0.165368   0.068353  -0.131535   \n",
       "\n",
       "   UFeature6  UFeature7  UFeature8  UFeature9  UFeature10  UFeature11  \\\n",
       "0   0.202153   0.237868   0.084374   0.017161   -0.202021   -0.468810   \n",
       "1   0.186442  -0.033630  -0.167372   0.274865   -0.153683   -0.142953   \n",
       "2  -0.060022   0.087126   0.344923  -0.083886   -0.234925    0.262393   \n",
       "3  -0.012848  -0.008598   0.085366  -0.358428    0.070679   -0.548603   \n",
       "4  -0.026316   0.256422   0.246456  -0.191131    0.115227   -0.069518   \n",
       "\n",
       "   UFeature12  UFeature13  UFeature14  UFeature15  \n",
       "0   -0.198209   -0.045304   -0.416935   -0.373069  \n",
       "1   -0.086704    0.200799    0.402748    0.317898  \n",
       "2   -0.372628   -0.197599    0.263074    0.071419  \n",
       "3   -0.217238    0.287327   -0.111407   -0.218006  \n",
       "4    0.319445   -0.010730   -0.316350   -0.180957  "
      ]
     },
     "execution_count": 38,
     "metadata": {},
     "output_type": "execute_result"
    }
   ],
   "source": [
    "user_emb.head()"
   ]
  },
  {
   "cell_type": "code",
   "execution_count": 39,
   "id": "4e96998e-28a5-438b-b6c3-a51af95c9ad4",
   "metadata": {},
   "outputs": [
    {
     "data": {
      "text/plain": [
       "(33901, 17)"
      ]
     },
     "execution_count": 39,
     "metadata": {},
     "output_type": "execute_result"
    }
   ],
   "source": [
    "user_emb.shape"
   ]
  },
  {
   "cell_type": "code",
   "execution_count": 40,
   "id": "52421e66-ad81-48d5-aa1d-a64cca32a4ba",
   "metadata": {},
   "outputs": [
    {
     "data": {
      "text/html": [
       "<div>\n",
       "<style scoped>\n",
       "    .dataframe tbody tr th:only-of-type {\n",
       "        vertical-align: middle;\n",
       "    }\n",
       "\n",
       "    .dataframe tbody tr th {\n",
       "        vertical-align: top;\n",
       "    }\n",
       "\n",
       "    .dataframe thead th {\n",
       "        text-align: right;\n",
       "    }\n",
       "</style>\n",
       "<table border=\"1\" class=\"dataframe\">\n",
       "  <thead>\n",
       "    <tr style=\"text-align: right;\">\n",
       "      <th></th>\n",
       "      <th>item</th>\n",
       "      <th>CFeature0</th>\n",
       "      <th>CFeature1</th>\n",
       "      <th>CFeature2</th>\n",
       "      <th>CFeature3</th>\n",
       "      <th>CFeature4</th>\n",
       "      <th>CFeature5</th>\n",
       "      <th>CFeature6</th>\n",
       "      <th>CFeature7</th>\n",
       "      <th>CFeature8</th>\n",
       "      <th>CFeature9</th>\n",
       "      <th>CFeature10</th>\n",
       "      <th>CFeature11</th>\n",
       "      <th>CFeature12</th>\n",
       "      <th>CFeature13</th>\n",
       "      <th>CFeature14</th>\n",
       "      <th>CFeature15</th>\n",
       "    </tr>\n",
       "  </thead>\n",
       "  <tbody>\n",
       "    <tr>\n",
       "      <th>0</th>\n",
       "      <td>CC0101EN</td>\n",
       "      <td>0.000179</td>\n",
       "      <td>-0.066469</td>\n",
       "      <td>-0.039852</td>\n",
       "      <td>0.076575</td>\n",
       "      <td>0.004265</td>\n",
       "      <td>0.028752</td>\n",
       "      <td>0.032548</td>\n",
       "      <td>-0.010069</td>\n",
       "      <td>-0.001214</td>\n",
       "      <td>0.012930</td>\n",
       "      <td>-0.041643</td>\n",
       "      <td>0.074153</td>\n",
       "      <td>-0.085055</td>\n",
       "      <td>-0.003194</td>\n",
       "      <td>-0.137462</td>\n",
       "      <td>-0.000434</td>\n",
       "    </tr>\n",
       "    <tr>\n",
       "      <th>1</th>\n",
       "      <td>CL0101EN</td>\n",
       "      <td>-0.013564</td>\n",
       "      <td>-0.009729</td>\n",
       "      <td>0.009777</td>\n",
       "      <td>0.053337</td>\n",
       "      <td>0.044205</td>\n",
       "      <td>-0.004143</td>\n",
       "      <td>-0.043374</td>\n",
       "      <td>-0.059303</td>\n",
       "      <td>0.111450</td>\n",
       "      <td>-0.009365</td>\n",
       "      <td>-0.041403</td>\n",
       "      <td>0.046712</td>\n",
       "      <td>0.036019</td>\n",
       "      <td>0.099774</td>\n",
       "      <td>-0.098198</td>\n",
       "      <td>0.001638</td>\n",
       "    </tr>\n",
       "    <tr>\n",
       "      <th>2</th>\n",
       "      <td>ML0120ENv3</td>\n",
       "      <td>-0.048549</td>\n",
       "      <td>-0.056843</td>\n",
       "      <td>-0.029791</td>\n",
       "      <td>0.008809</td>\n",
       "      <td>0.078675</td>\n",
       "      <td>0.163863</td>\n",
       "      <td>0.025153</td>\n",
       "      <td>0.126594</td>\n",
       "      <td>-0.053933</td>\n",
       "      <td>0.002968</td>\n",
       "      <td>-0.119335</td>\n",
       "      <td>-0.057970</td>\n",
       "      <td>-0.079519</td>\n",
       "      <td>0.037132</td>\n",
       "      <td>-0.038562</td>\n",
       "      <td>0.179136</td>\n",
       "    </tr>\n",
       "    <tr>\n",
       "      <th>3</th>\n",
       "      <td>BD0211EN</td>\n",
       "      <td>0.000988</td>\n",
       "      <td>0.031309</td>\n",
       "      <td>-0.023057</td>\n",
       "      <td>-0.071562</td>\n",
       "      <td>0.048848</td>\n",
       "      <td>-0.003149</td>\n",
       "      <td>0.000580</td>\n",
       "      <td>0.013914</td>\n",
       "      <td>-0.007219</td>\n",
       "      <td>-0.021144</td>\n",
       "      <td>-0.019784</td>\n",
       "      <td>0.086174</td>\n",
       "      <td>0.019136</td>\n",
       "      <td>-0.010219</td>\n",
       "      <td>0.034010</td>\n",
       "      <td>-0.013569</td>\n",
       "    </tr>\n",
       "    <tr>\n",
       "      <th>4</th>\n",
       "      <td>DS0101EN</td>\n",
       "      <td>-0.026713</td>\n",
       "      <td>0.048090</td>\n",
       "      <td>-0.010585</td>\n",
       "      <td>0.018473</td>\n",
       "      <td>0.074788</td>\n",
       "      <td>-0.025918</td>\n",
       "      <td>0.018338</td>\n",
       "      <td>0.013359</td>\n",
       "      <td>0.009295</td>\n",
       "      <td>-0.031144</td>\n",
       "      <td>-0.039660</td>\n",
       "      <td>-0.041878</td>\n",
       "      <td>0.015354</td>\n",
       "      <td>-0.020958</td>\n",
       "      <td>0.002620</td>\n",
       "      <td>0.057363</td>\n",
       "    </tr>\n",
       "  </tbody>\n",
       "</table>\n",
       "</div>"
      ],
      "text/plain": [
       "         item  CFeature0  CFeature1  CFeature2  CFeature3  CFeature4  \\\n",
       "0    CC0101EN   0.000179  -0.066469  -0.039852   0.076575   0.004265   \n",
       "1    CL0101EN  -0.013564  -0.009729   0.009777   0.053337   0.044205   \n",
       "2  ML0120ENv3  -0.048549  -0.056843  -0.029791   0.008809   0.078675   \n",
       "3    BD0211EN   0.000988   0.031309  -0.023057  -0.071562   0.048848   \n",
       "4    DS0101EN  -0.026713   0.048090  -0.010585   0.018473   0.074788   \n",
       "\n",
       "   CFeature5  CFeature6  CFeature7  CFeature8  CFeature9  CFeature10  \\\n",
       "0   0.028752   0.032548  -0.010069  -0.001214   0.012930   -0.041643   \n",
       "1  -0.004143  -0.043374  -0.059303   0.111450  -0.009365   -0.041403   \n",
       "2   0.163863   0.025153   0.126594  -0.053933   0.002968   -0.119335   \n",
       "3  -0.003149   0.000580   0.013914  -0.007219  -0.021144   -0.019784   \n",
       "4  -0.025918   0.018338   0.013359   0.009295  -0.031144   -0.039660   \n",
       "\n",
       "   CFeature11  CFeature12  CFeature13  CFeature14  CFeature15  \n",
       "0    0.074153   -0.085055   -0.003194   -0.137462   -0.000434  \n",
       "1    0.046712    0.036019    0.099774   -0.098198    0.001638  \n",
       "2   -0.057970   -0.079519    0.037132   -0.038562    0.179136  \n",
       "3    0.086174    0.019136   -0.010219    0.034010   -0.013569  \n",
       "4   -0.041878    0.015354   -0.020958    0.002620    0.057363  "
      ]
     },
     "execution_count": 40,
     "metadata": {},
     "output_type": "execute_result"
    }
   ],
   "source": [
    "item_emb.head()"
   ]
  },
  {
   "cell_type": "code",
   "execution_count": 41,
   "id": "cc13c597-2a5f-48d3-a77b-ab5e41a4f7f1",
   "metadata": {},
   "outputs": [
    {
     "data": {
      "text/plain": [
       "(126, 17)"
      ]
     },
     "execution_count": 41,
     "metadata": {},
     "output_type": "execute_result"
    }
   ],
   "source": [
    "item_emb.shape"
   ]
  },
  {
   "cell_type": "code",
   "execution_count": 42,
   "id": "4cac4e01-699e-4c0d-98ef-7b6c6d6554ba",
   "metadata": {},
   "outputs": [],
   "source": [
    "# Merge user embedding features\n",
    "user_emb_merged = pd.merge(rating_df, user_emb, how='left', left_on='user', right_on='user').fillna(0)\n",
    "# Merge course embedding features\n",
    "merged_df = pd.merge(user_emb_merged, item_emb, how='left', left_on='item', right_on='item').fillna(0)"
   ]
  },
  {
   "cell_type": "code",
   "execution_count": 43,
   "id": "cfbe6def-1720-4793-83cd-a6834d84c05e",
   "metadata": {},
   "outputs": [
    {
     "data": {
      "text/html": [
       "<div>\n",
       "<style scoped>\n",
       "    .dataframe tbody tr th:only-of-type {\n",
       "        vertical-align: middle;\n",
       "    }\n",
       "\n",
       "    .dataframe tbody tr th {\n",
       "        vertical-align: top;\n",
       "    }\n",
       "\n",
       "    .dataframe thead th {\n",
       "        text-align: right;\n",
       "    }\n",
       "</style>\n",
       "<table border=\"1\" class=\"dataframe\">\n",
       "  <thead>\n",
       "    <tr style=\"text-align: right;\">\n",
       "      <th></th>\n",
       "      <th>user</th>\n",
       "      <th>item</th>\n",
       "      <th>rating</th>\n",
       "      <th>UFeature0</th>\n",
       "      <th>UFeature1</th>\n",
       "      <th>UFeature2</th>\n",
       "      <th>UFeature3</th>\n",
       "      <th>UFeature4</th>\n",
       "      <th>UFeature5</th>\n",
       "      <th>UFeature6</th>\n",
       "      <th>...</th>\n",
       "      <th>CFeature6</th>\n",
       "      <th>CFeature7</th>\n",
       "      <th>CFeature8</th>\n",
       "      <th>CFeature9</th>\n",
       "      <th>CFeature10</th>\n",
       "      <th>CFeature11</th>\n",
       "      <th>CFeature12</th>\n",
       "      <th>CFeature13</th>\n",
       "      <th>CFeature14</th>\n",
       "      <th>CFeature15</th>\n",
       "    </tr>\n",
       "  </thead>\n",
       "  <tbody>\n",
       "    <tr>\n",
       "      <th>0</th>\n",
       "      <td>1889878</td>\n",
       "      <td>CC0101EN</td>\n",
       "      <td>3.0</td>\n",
       "      <td>0.037363</td>\n",
       "      <td>0.394274</td>\n",
       "      <td>-0.041723</td>\n",
       "      <td>0.201651</td>\n",
       "      <td>-0.119130</td>\n",
       "      <td>-0.254504</td>\n",
       "      <td>0.202153</td>\n",
       "      <td>...</td>\n",
       "      <td>0.032548</td>\n",
       "      <td>-0.010069</td>\n",
       "      <td>-0.001214</td>\n",
       "      <td>0.012930</td>\n",
       "      <td>-0.041643</td>\n",
       "      <td>0.074153</td>\n",
       "      <td>-0.085055</td>\n",
       "      <td>-0.003194</td>\n",
       "      <td>-0.137462</td>\n",
       "      <td>-0.000434</td>\n",
       "    </tr>\n",
       "    <tr>\n",
       "      <th>1</th>\n",
       "      <td>1342067</td>\n",
       "      <td>CL0101EN</td>\n",
       "      <td>3.0</td>\n",
       "      <td>0.079197</td>\n",
       "      <td>0.348854</td>\n",
       "      <td>0.201428</td>\n",
       "      <td>-0.094731</td>\n",
       "      <td>-0.078270</td>\n",
       "      <td>0.250712</td>\n",
       "      <td>0.186442</td>\n",
       "      <td>...</td>\n",
       "      <td>-0.043374</td>\n",
       "      <td>-0.059303</td>\n",
       "      <td>0.111450</td>\n",
       "      <td>-0.009365</td>\n",
       "      <td>-0.041403</td>\n",
       "      <td>0.046712</td>\n",
       "      <td>0.036019</td>\n",
       "      <td>0.099774</td>\n",
       "      <td>-0.098198</td>\n",
       "      <td>0.001638</td>\n",
       "    </tr>\n",
       "    <tr>\n",
       "      <th>2</th>\n",
       "      <td>1990814</td>\n",
       "      <td>ML0120ENv3</td>\n",
       "      <td>3.0</td>\n",
       "      <td>0.090707</td>\n",
       "      <td>-0.580528</td>\n",
       "      <td>0.016279</td>\n",
       "      <td>-0.175532</td>\n",
       "      <td>-0.453024</td>\n",
       "      <td>0.157056</td>\n",
       "      <td>-0.060022</td>\n",
       "      <td>...</td>\n",
       "      <td>0.025153</td>\n",
       "      <td>0.126594</td>\n",
       "      <td>-0.053933</td>\n",
       "      <td>0.002968</td>\n",
       "      <td>-0.119335</td>\n",
       "      <td>-0.057970</td>\n",
       "      <td>-0.079519</td>\n",
       "      <td>0.037132</td>\n",
       "      <td>-0.038562</td>\n",
       "      <td>0.179136</td>\n",
       "    </tr>\n",
       "    <tr>\n",
       "      <th>3</th>\n",
       "      <td>380098</td>\n",
       "      <td>BD0211EN</td>\n",
       "      <td>3.0</td>\n",
       "      <td>-0.247264</td>\n",
       "      <td>-0.022498</td>\n",
       "      <td>0.302606</td>\n",
       "      <td>-0.296971</td>\n",
       "      <td>0.233045</td>\n",
       "      <td>-0.593748</td>\n",
       "      <td>-0.012848</td>\n",
       "      <td>...</td>\n",
       "      <td>0.000580</td>\n",
       "      <td>0.013914</td>\n",
       "      <td>-0.007219</td>\n",
       "      <td>-0.021144</td>\n",
       "      <td>-0.019784</td>\n",
       "      <td>0.086174</td>\n",
       "      <td>0.019136</td>\n",
       "      <td>-0.010219</td>\n",
       "      <td>0.034010</td>\n",
       "      <td>-0.013569</td>\n",
       "    </tr>\n",
       "    <tr>\n",
       "      <th>4</th>\n",
       "      <td>779563</td>\n",
       "      <td>DS0101EN</td>\n",
       "      <td>3.0</td>\n",
       "      <td>0.060767</td>\n",
       "      <td>-0.071871</td>\n",
       "      <td>0.083888</td>\n",
       "      <td>0.165368</td>\n",
       "      <td>0.068353</td>\n",
       "      <td>-0.131535</td>\n",
       "      <td>-0.026316</td>\n",
       "      <td>...</td>\n",
       "      <td>0.018338</td>\n",
       "      <td>0.013359</td>\n",
       "      <td>0.009295</td>\n",
       "      <td>-0.031144</td>\n",
       "      <td>-0.039660</td>\n",
       "      <td>-0.041878</td>\n",
       "      <td>0.015354</td>\n",
       "      <td>-0.020958</td>\n",
       "      <td>0.002620</td>\n",
       "      <td>0.057363</td>\n",
       "    </tr>\n",
       "  </tbody>\n",
       "</table>\n",
       "<p>5 rows × 35 columns</p>\n",
       "</div>"
      ],
      "text/plain": [
       "      user        item  rating  UFeature0  UFeature1  UFeature2  UFeature3  \\\n",
       "0  1889878    CC0101EN     3.0   0.037363   0.394274  -0.041723   0.201651   \n",
       "1  1342067    CL0101EN     3.0   0.079197   0.348854   0.201428  -0.094731   \n",
       "2  1990814  ML0120ENv3     3.0   0.090707  -0.580528   0.016279  -0.175532   \n",
       "3   380098    BD0211EN     3.0  -0.247264  -0.022498   0.302606  -0.296971   \n",
       "4   779563    DS0101EN     3.0   0.060767  -0.071871   0.083888   0.165368   \n",
       "\n",
       "   UFeature4  UFeature5  UFeature6  ...  CFeature6  CFeature7  CFeature8  \\\n",
       "0  -0.119130  -0.254504   0.202153  ...   0.032548  -0.010069  -0.001214   \n",
       "1  -0.078270   0.250712   0.186442  ...  -0.043374  -0.059303   0.111450   \n",
       "2  -0.453024   0.157056  -0.060022  ...   0.025153   0.126594  -0.053933   \n",
       "3   0.233045  -0.593748  -0.012848  ...   0.000580   0.013914  -0.007219   \n",
       "4   0.068353  -0.131535  -0.026316  ...   0.018338   0.013359   0.009295   \n",
       "\n",
       "   CFeature9  CFeature10  CFeature11  CFeature12  CFeature13  CFeature14  \\\n",
       "0   0.012930   -0.041643    0.074153   -0.085055   -0.003194   -0.137462   \n",
       "1  -0.009365   -0.041403    0.046712    0.036019    0.099774   -0.098198   \n",
       "2   0.002968   -0.119335   -0.057970   -0.079519    0.037132   -0.038562   \n",
       "3  -0.021144   -0.019784    0.086174    0.019136   -0.010219    0.034010   \n",
       "4  -0.031144   -0.039660   -0.041878    0.015354   -0.020958    0.002620   \n",
       "\n",
       "   CFeature15  \n",
       "0   -0.000434  \n",
       "1    0.001638  \n",
       "2    0.179136  \n",
       "3   -0.013569  \n",
       "4    0.057363  \n",
       "\n",
       "[5 rows x 35 columns]"
      ]
     },
     "execution_count": 43,
     "metadata": {},
     "output_type": "execute_result"
    }
   ],
   "source": [
    "merged_df.head()"
   ]
  },
  {
   "cell_type": "code",
   "execution_count": 46,
   "id": "2ebe2b03-e258-4d5f-9f25-cca7ebae4570",
   "metadata": {},
   "outputs": [
    {
     "data": {
      "text/html": [
       "<div>\n",
       "<style scoped>\n",
       "    .dataframe tbody tr th:only-of-type {\n",
       "        vertical-align: middle;\n",
       "    }\n",
       "\n",
       "    .dataframe tbody tr th {\n",
       "        vertical-align: top;\n",
       "    }\n",
       "\n",
       "    .dataframe thead th {\n",
       "        text-align: right;\n",
       "    }\n",
       "</style>\n",
       "<table border=\"1\" class=\"dataframe\">\n",
       "  <thead>\n",
       "    <tr style=\"text-align: right;\">\n",
       "      <th></th>\n",
       "      <th>Feature0</th>\n",
       "      <th>Feature1</th>\n",
       "      <th>Feature2</th>\n",
       "      <th>Feature3</th>\n",
       "      <th>Feature4</th>\n",
       "      <th>Feature5</th>\n",
       "      <th>Feature6</th>\n",
       "      <th>Feature7</th>\n",
       "      <th>Feature8</th>\n",
       "      <th>Feature9</th>\n",
       "      <th>Feature10</th>\n",
       "      <th>Feature11</th>\n",
       "      <th>Feature12</th>\n",
       "      <th>Feature13</th>\n",
       "      <th>Feature14</th>\n",
       "      <th>Feature15</th>\n",
       "      <th>rating</th>\n",
       "    </tr>\n",
       "  </thead>\n",
       "  <tbody>\n",
       "    <tr>\n",
       "      <th>0</th>\n",
       "      <td>0.037542</td>\n",
       "      <td>0.327805</td>\n",
       "      <td>-0.081575</td>\n",
       "      <td>0.278226</td>\n",
       "      <td>-0.114865</td>\n",
       "      <td>-0.225752</td>\n",
       "      <td>0.234702</td>\n",
       "      <td>0.227799</td>\n",
       "      <td>0.083160</td>\n",
       "      <td>0.030091</td>\n",
       "      <td>-0.243665</td>\n",
       "      <td>-0.394657</td>\n",
       "      <td>-0.283263</td>\n",
       "      <td>-0.048498</td>\n",
       "      <td>-0.554398</td>\n",
       "      <td>-0.373502</td>\n",
       "      <td>3.0</td>\n",
       "    </tr>\n",
       "    <tr>\n",
       "      <th>1</th>\n",
       "      <td>0.065633</td>\n",
       "      <td>0.339125</td>\n",
       "      <td>0.211206</td>\n",
       "      <td>-0.041394</td>\n",
       "      <td>-0.034065</td>\n",
       "      <td>0.246569</td>\n",
       "      <td>0.143068</td>\n",
       "      <td>-0.092933</td>\n",
       "      <td>-0.055923</td>\n",
       "      <td>0.265500</td>\n",
       "      <td>-0.195086</td>\n",
       "      <td>-0.096242</td>\n",
       "      <td>-0.050685</td>\n",
       "      <td>0.300572</td>\n",
       "      <td>0.304550</td>\n",
       "      <td>0.319536</td>\n",
       "      <td>3.0</td>\n",
       "    </tr>\n",
       "    <tr>\n",
       "      <th>2</th>\n",
       "      <td>0.042158</td>\n",
       "      <td>-0.637371</td>\n",
       "      <td>-0.013512</td>\n",
       "      <td>-0.166723</td>\n",
       "      <td>-0.374349</td>\n",
       "      <td>0.320918</td>\n",
       "      <td>-0.034869</td>\n",
       "      <td>0.213720</td>\n",
       "      <td>0.290990</td>\n",
       "      <td>-0.080918</td>\n",
       "      <td>-0.354260</td>\n",
       "      <td>0.204423</td>\n",
       "      <td>-0.452147</td>\n",
       "      <td>-0.160467</td>\n",
       "      <td>0.224512</td>\n",
       "      <td>0.250555</td>\n",
       "      <td>3.0</td>\n",
       "    </tr>\n",
       "    <tr>\n",
       "      <th>3</th>\n",
       "      <td>-0.246275</td>\n",
       "      <td>0.008811</td>\n",
       "      <td>0.279549</td>\n",
       "      <td>-0.368534</td>\n",
       "      <td>0.281894</td>\n",
       "      <td>-0.596896</td>\n",
       "      <td>-0.012268</td>\n",
       "      <td>0.005316</td>\n",
       "      <td>0.078147</td>\n",
       "      <td>-0.379571</td>\n",
       "      <td>0.050894</td>\n",
       "      <td>-0.462429</td>\n",
       "      <td>-0.198102</td>\n",
       "      <td>0.277107</td>\n",
       "      <td>-0.077397</td>\n",
       "      <td>-0.231575</td>\n",
       "      <td>3.0</td>\n",
       "    </tr>\n",
       "    <tr>\n",
       "      <th>4</th>\n",
       "      <td>0.034053</td>\n",
       "      <td>-0.023781</td>\n",
       "      <td>0.073303</td>\n",
       "      <td>0.183841</td>\n",
       "      <td>0.143141</td>\n",
       "      <td>-0.157453</td>\n",
       "      <td>-0.007978</td>\n",
       "      <td>0.269781</td>\n",
       "      <td>0.255751</td>\n",
       "      <td>-0.222275</td>\n",
       "      <td>0.075566</td>\n",
       "      <td>-0.111396</td>\n",
       "      <td>0.334799</td>\n",
       "      <td>-0.031688</td>\n",
       "      <td>-0.313731</td>\n",
       "      <td>-0.123593</td>\n",
       "      <td>3.0</td>\n",
       "    </tr>\n",
       "  </tbody>\n",
       "</table>\n",
       "</div>"
      ],
      "text/plain": [
       "   Feature0  Feature1  Feature2  Feature3  Feature4  Feature5  Feature6  \\\n",
       "0  0.037542  0.327805 -0.081575  0.278226 -0.114865 -0.225752  0.234702   \n",
       "1  0.065633  0.339125  0.211206 -0.041394 -0.034065  0.246569  0.143068   \n",
       "2  0.042158 -0.637371 -0.013512 -0.166723 -0.374349  0.320918 -0.034869   \n",
       "3 -0.246275  0.008811  0.279549 -0.368534  0.281894 -0.596896 -0.012268   \n",
       "4  0.034053 -0.023781  0.073303  0.183841  0.143141 -0.157453 -0.007978   \n",
       "\n",
       "   Feature7  Feature8  Feature9  Feature10  Feature11  Feature12  Feature13  \\\n",
       "0  0.227799  0.083160  0.030091  -0.243665  -0.394657  -0.283263  -0.048498   \n",
       "1 -0.092933 -0.055923  0.265500  -0.195086  -0.096242  -0.050685   0.300572   \n",
       "2  0.213720  0.290990 -0.080918  -0.354260   0.204423  -0.452147  -0.160467   \n",
       "3  0.005316  0.078147 -0.379571   0.050894  -0.462429  -0.198102   0.277107   \n",
       "4  0.269781  0.255751 -0.222275   0.075566  -0.111396   0.334799  -0.031688   \n",
       "\n",
       "   Feature14  Feature15  rating  \n",
       "0  -0.554398  -0.373502     3.0  \n",
       "1   0.304550   0.319536     3.0  \n",
       "2   0.224512   0.250555     3.0  \n",
       "3  -0.077397  -0.231575     3.0  \n",
       "4  -0.313731  -0.123593     3.0  "
      ]
     },
     "execution_count": 46,
     "metadata": {},
     "output_type": "execute_result"
    }
   ],
   "source": [
    "# Sum embedding features and create new dataset\n",
    "u_feautres = [f\"UFeature{i}\" for i in range(16)]\n",
    "c_features = [f\"CFeature{i}\" for i in range(16)]\n",
    "\n",
    "user_embeddings = merged_df[u_feautres]\n",
    "course_embeddings = merged_df[c_features]\n",
    "ratings = merged_df['rating']\n",
    "\n",
    "# Aggregate the two feature columns using element-wise add\n",
    "embedding_dataset = user_embeddings + course_embeddings.values\n",
    "embedding_dataset.columns = [f\"Feature{i}\" for i in range(16)]\n",
    "embedding_dataset['rating'] = ratings\n",
    "embedding_dataset.head()"
   ]
  },
  {
   "cell_type": "markdown",
   "id": "be2d916c-e413-4337-82a0-b9935119068d",
   "metadata": {},
   "source": [
    "## 2. Perform Regression"
   ]
  },
  {
   "cell_type": "code",
   "execution_count": 64,
   "id": "4c926478-698c-4075-ab5c-399db17d1958",
   "metadata": {},
   "outputs": [],
   "source": [
    "from sklearn.linear_model import LinearRegression, Lasso, Ridge, LassoCV, RidgeCV"
   ]
  },
  {
   "cell_type": "code",
   "execution_count": 49,
   "id": "e4c10c99-973b-4f99-a300-1118e547512b",
   "metadata": {},
   "outputs": [
    {
     "name": "stdout",
     "output_type": "stream",
     "text": [
      "Input data shape: (233306, 16), Output data shape: (233306,)\n"
     ]
    }
   ],
   "source": [
    "X = embedding_dataset.iloc[:, :-1]\n",
    "y = embedding_dataset.iloc[:, -1]\n",
    "print(f\"Input data shape: {X.shape}, Output data shape: {y.shape}\")"
   ]
  },
  {
   "cell_type": "code",
   "execution_count": 61,
   "id": "95d59363-8151-4317-80a0-f5a88b18c555",
   "metadata": {},
   "outputs": [
    {
     "data": {
      "text/plain": [
       "array([3., 2.])"
      ]
     },
     "execution_count": 61,
     "metadata": {},
     "output_type": "execute_result"
    }
   ],
   "source": [
    "# Regression is done to predict values in the range 2-3\n",
    "# However, note that classification is maybe better suited\n",
    "# Classification is approached in the next section\n",
    "y.unique()"
   ]
  },
  {
   "cell_type": "code",
   "execution_count": 51,
   "id": "095d770e-f079-46bc-9e23-b3309857a61e",
   "metadata": {},
   "outputs": [],
   "source": [
    "X_train, X_test, y_train, y_test = train_test_split(\n",
    "    X, # predictive variables\n",
    "    y, # target\n",
    "    test_size=0.1, # portion of dataset to allocate to test set\n",
    "    random_state=42 # we are setting the seed here, ALWAYS DO IT!\n",
    "    # stratify=y # if we want to keep class ratios in splits\n",
    ") # We can also use the stratify argument: stratify = X[variable]"
   ]
  },
  {
   "cell_type": "markdown",
   "id": "3b9a837b-7de8-426d-8312-5cd5d0878c58",
   "metadata": {},
   "source": [
    "### Linear Regression"
   ]
  },
  {
   "cell_type": "code",
   "execution_count": 55,
   "id": "236db579-d3e4-46ce-80f5-902a4bc34e94",
   "metadata": {},
   "outputs": [],
   "source": [
    "lr = LinearRegression()"
   ]
  },
  {
   "cell_type": "code",
   "execution_count": 56,
   "id": "c456aba1-133b-4a69-91d9-7abdada8a005",
   "metadata": {},
   "outputs": [
    {
     "data": {
      "text/plain": [
       "LinearRegression()"
      ]
     },
     "execution_count": 56,
     "metadata": {},
     "output_type": "execute_result"
    }
   ],
   "source": [
    "lr.fit(X_train, y_train)"
   ]
  },
  {
   "cell_type": "code",
   "execution_count": 57,
   "id": "bc02f580-36f9-4dbd-a1ba-25ce265b2f65",
   "metadata": {},
   "outputs": [],
   "source": [
    "pred = lr.predict(X_test)"
   ]
  },
  {
   "cell_type": "code",
   "execution_count": 59,
   "id": "4cee8c8b-5877-48bb-bae1-8103382f0963",
   "metadata": {},
   "outputs": [
    {
     "name": "stdout",
     "output_type": "stream",
     "text": [
      "0.20791360096629857\n"
     ]
    }
   ],
   "source": [
    "rmse = mean_squared_error(y_test, pred, squared=False)\n",
    "print(rmse)"
   ]
  },
  {
   "cell_type": "markdown",
   "id": "af1c38cd-ca98-4172-9ed2-7e19f75bd171",
   "metadata": {},
   "source": [
    "### Regularized Regression with Cross-Validation: Lasso, Ridge"
   ]
  },
  {
   "cell_type": "code",
   "execution_count": 60,
   "id": "63830c89-b426-49d7-a903-46c0941ca8e8",
   "metadata": {},
   "outputs": [
    {
     "name": "stdout",
     "output_type": "stream",
     "text": [
      "0.20853908210448432\n",
      "0.20791346116635748\n"
     ]
    }
   ],
   "source": [
    "alphas = [0.005, 0.05, 0.1, 0.3, 1, 3, 5, 10, 15, 30, 80]\n",
    "lasso = LassoCV(alphas=alphas, random_state=0) # alpha: regularization strength\n",
    "ridge = RidgeCV(alphas=alphas) \n",
    "\n",
    "lasso.fit(X_train, y_train)\n",
    "ridge.fit(X_train, y_train)\n",
    "\n",
    "pred_lasso = lasso.predict(X_test)\n",
    "pred_ridge = ridge.predict(X_test)\n",
    "\n",
    "rmse_lasso = mean_squared_error(y_test, pred_lasso, squared=False)\n",
    "print(rmse_lasso)\n",
    "\n",
    "rmse_ridge = mean_squared_error(y_test, pred_ridge, squared=False)\n",
    "print(rmse_ridge)"
   ]
  },
  {
   "cell_type": "markdown",
   "id": "aadda536-d76f-4817-b86f-6c6124c16491",
   "metadata": {},
   "source": [
    "## 3. Perform Classification"
   ]
  },
  {
   "cell_type": "code",
   "execution_count": 73,
   "id": "7c15c799-c251-4968-979c-5f557c34c312",
   "metadata": {},
   "outputs": [],
   "source": [
    "from sklearn.preprocessing import LabelEncoder\n",
    "from sklearn.linear_model import LogisticRegression\n",
    "from sklearn.ensemble import RandomForestClassifier\n",
    "from sklearn.model_selection import GridSearchCV"
   ]
  },
  {
   "cell_type": "code",
   "execution_count": 66,
   "id": "65563e5c-a5f3-40b5-aa88-68ea71d1bdce",
   "metadata": {},
   "outputs": [],
   "source": [
    "X = embedding_dataset.iloc[:, :-1]\n",
    "y_raw = embedding_dataset.iloc[:, -1]\n",
    "\n",
    "label_encoder = LabelEncoder()\n",
    "y = label_encoder.fit_transform(y_raw.values.ravel())"
   ]
  },
  {
   "cell_type": "code",
   "execution_count": 70,
   "id": "b38d1ca1-3d43-49f8-9636-66a4182f3f33",
   "metadata": {},
   "outputs": [
    {
     "data": {
      "text/plain": [
       "(0, 1)"
      ]
     },
     "execution_count": 70,
     "metadata": {},
     "output_type": "execute_result"
    }
   ],
   "source": [
    "y.min(), y.max()"
   ]
  },
  {
   "cell_type": "code",
   "execution_count": 71,
   "id": "4efb7208-465a-4e1e-876b-6c4988cf4398",
   "metadata": {},
   "outputs": [],
   "source": [
    "X_train, X_test, y_train, y_test = train_test_split(X, y, test_size=0.2, random_state=rs)"
   ]
  },
  {
   "cell_type": "code",
   "execution_count": 75,
   "id": "42329d8c-91f5-4f89-9c18-07f31c1b9b80",
   "metadata": {},
   "outputs": [
    {
     "name": "stdout",
     "output_type": "stream",
     "text": [
      "Input data shape: (233306, 16), Output data shape: (233306,)\n"
     ]
    }
   ],
   "source": [
    "print(f\"Input data shape: {X.shape}, Output data shape: {y.shape}\")"
   ]
  },
  {
   "cell_type": "markdown",
   "id": "ed713031-bcb8-472d-9e68-81a2a8122ef2",
   "metadata": {},
   "source": [
    "### Random Forest Classifier"
   ]
  },
  {
   "cell_type": "code",
   "execution_count": 74,
   "id": "4d236fe6-f9e3-438b-9f62-8315cefaefa6",
   "metadata": {},
   "outputs": [],
   "source": [
    "params_grid = {\n",
    "  'max_depth': [15, 20],\n",
    "  'n_estimators': [50, 100],\n",
    "  'min_samples_split': [2, 5]\n",
    "}\n",
    "\n",
    "model = RandomForestClassifier(random_state=rs)\n",
    "\n",
    "grid_search = GridSearchCV(estimator = model, \n",
    "                       param_grid = params_grid, \n",
    "                       scoring='f1',\n",
    "                       cv = 3, verbose = 1)"
   ]
  },
  {
   "cell_type": "code",
   "execution_count": 76,
   "id": "dfbe0080-f6ce-47af-b744-2e192b734d9c",
   "metadata": {},
   "outputs": [
    {
     "name": "stdout",
     "output_type": "stream",
     "text": [
      "Fitting 3 folds for each of 8 candidates, totalling 24 fits\n"
     ]
    },
    {
     "data": {
      "text/plain": [
       "GridSearchCV(cv=3, estimator=RandomForestClassifier(random_state=123),\n",
       "             param_grid={'max_depth': [15, 20], 'min_samples_split': [2, 5],\n",
       "                         'n_estimators': [50, 100]},\n",
       "             scoring='f1', verbose=1)"
      ]
     },
     "execution_count": 76,
     "metadata": {},
     "output_type": "execute_result"
    }
   ],
   "source": [
    "grid_search.fit(X, y)"
   ]
  },
  {
   "cell_type": "code",
   "execution_count": 77,
   "id": "14b603ec-3aa8-4be3-afc6-631479541fe0",
   "metadata": {},
   "outputs": [
    {
     "name": "stdout",
     "output_type": "stream",
     "text": [
      "0.9869320330883378\n",
      "{'max_depth': 20, 'min_samples_split': 2, 'n_estimators': 100}\n"
     ]
    }
   ],
   "source": [
    "rfc = grid_search.best_estimator_\n",
    "\n",
    "print(grid_search.best_score_)\n",
    "print(grid_search.best_params_)"
   ]
  },
  {
   "cell_type": "code",
   "execution_count": 78,
   "id": "9c326031-b504-4006-84a2-82b520035ce5",
   "metadata": {},
   "outputs": [],
   "source": [
    "pred = rfc.predict(X_test)"
   ]
  },
  {
   "cell_type": "code",
   "execution_count": 79,
   "id": "00fcaea4-07d4-49e2-a6a2-1fd92b576c60",
   "metadata": {},
   "outputs": [
    {
     "name": "stdout",
     "output_type": "stream",
     "text": [
      "[0.89284818 0.99522045]\n"
     ]
    }
   ],
   "source": [
    "precision, recall, f1, support = precision_recall_fscore_support(y_test, pred)\n",
    "print(f1)"
   ]
  },
  {
   "cell_type": "code",
   "execution_count": null,
   "id": "31484538-1181-4c8b-86d5-8ba43f344bae",
   "metadata": {},
   "outputs": [],
   "source": []
  }
 ],
 "metadata": {
  "kernelspec": {
   "display_name": "Python 3 (ipykernel)",
   "language": "python",
   "name": "python3"
  },
  "language_info": {
   "codemirror_mode": {
    "name": "ipython",
    "version": 3
   },
   "file_extension": ".py",
   "mimetype": "text/x-python",
   "name": "python",
   "nbconvert_exporter": "python",
   "pygments_lexer": "ipython3",
   "version": "3.7.13"
  }
 },
 "nbformat": 4,
 "nbformat_minor": 5
}
