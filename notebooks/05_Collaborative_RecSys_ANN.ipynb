{
 "cells": [
  {
   "cell_type": "markdown",
   "id": "3fd1eb4a-7838-436d-92ca-b46ffd18146b",
   "metadata": {},
   "source": [
    "# Course Recommender: Collaborative-Filtering Methods with Neural Networks"
   ]
  },
  {
   "cell_type": "markdown",
   "id": "bb42f346-7b0a-4504-a1a5-b00298718127",
   "metadata": {},
   "source": [
    "This project implements and deploys an AI course Recommender System using [Streamlit](https://streamlit.io/). It was inspired by the the [IBM Machine Learning Professional Certificate](https://www.coursera.org/professional-certificates/ibm-machine-learning) offered by IBM & Coursera. In the last course/module of the Specialization, Machine Learning Capstone, a similar application is built; check my [class notes](https://github.com/mxagar/machine_learning_ibm/tree/main/06_Capstone_Project/06_Capstone_Recommender_System.md) for more information.\n",
    "\n",
    "This notebook researches and implements different **Collaborative-Filtering** recommender systems based on Artificial Neural Networks (ANN). You can open it in Google Colab:\n",
    "\n",
    "[![Open In Colab](https://colab.research.google.com/assets/colab-badge.svg)](https://colab.research.google.com/github/mxagar/course_recommender_streamlit/blob/main/notebooks/05_Collaborative_RecSys_ANN.ipynb)\n",
    "\n",
    "Table of contents:\n",
    "\n"
   ]
  },
  {
   "cell_type": "code",
   "execution_count": null,
   "id": "53b80823-5d1e-4433-b3bb-d60a059fe32d",
   "metadata": {},
   "outputs": [],
   "source": []
  }
 ],
 "metadata": {
  "kernelspec": {
   "display_name": "Python 3 (ipykernel)",
   "language": "python",
   "name": "python3"
  },
  "language_info": {
   "codemirror_mode": {
    "name": "ipython",
    "version": 3
   },
   "file_extension": ".py",
   "mimetype": "text/x-python",
   "name": "python",
   "nbconvert_exporter": "python",
   "pygments_lexer": "ipython3",
   "version": "3.7.13"
  }
 },
 "nbformat": 4,
 "nbformat_minor": 5
}
